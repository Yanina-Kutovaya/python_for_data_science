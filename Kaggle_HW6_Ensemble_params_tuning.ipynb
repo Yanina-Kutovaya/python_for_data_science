{
 "cells": [
  {
   "cell_type": "markdown",
   "metadata": {},
   "source": [
    "## Спортивный анализ данных. Платформа Kaggle\n",
    "### Тюнинг гиперпараметров, построение ансамблей алгоритмов."
   ]
  },
  {
   "cell_type": "markdown",
   "metadata": {},
   "source": [
    "### Практическое задание 6.\n",
    "\n",
    "* __Задание 1:__ Обучить алгоритмы LightGBM и XGBoost, получить OOF прогнозы, оценить корреляцию прогнозов на обучающей выборке. Применить модели на тестовую выборку и оценить корреляцию.\n",
    "\n",
    "* __Задание 2:__ Усреднить прогнозы с помощью арифмитического среднего, геометрического среднего и усреднить ранги, сделать выводы о качестве отдельных моделей и о качестве комбинации.\n",
    "\n",
    "* __Задание 3:__ Обучить CatBoost, получить OOF прогнозы и выполнить задание 1 для трех моделей.\n",
    "\n",
    "* __Задание 4:__ Выполнить задание 2 для трех моделей.\n",
    "* __Задание 5:__ (опция) Объединить OOF-прогнозы для трех моделей и обучить алгоритм Логистической регрессии (и любой другой, на ваше усмотрение). Сделать выводы о достигаемом качестве, сравнить достигаемое качество с качеством отдельных моделей и моделей, полученных в п.2 и п.4.\n",
    "\n",
    "* __Задание 6:__ (опция) Обучить алгоритмRandomForest (желательно подтюнить параметры) и добавить к построенным ранее моделям. Выполнить задание 5."
   ]
  },
  {
   "cell_type": "markdown",
   "metadata": {},
   "source": [
    "https://www.kaggle.com/c/geekbrains-competitive-data-analysis/overview"
   ]
  },
  {
   "cell_type": "code",
   "execution_count": 1,
   "metadata": {},
   "outputs": [],
   "source": [
    "import numpy as np\n",
    "import pandas as pd\n",
    "import random\n",
    "\n",
    "from sklearn.metrics import roc_auc_score\n",
    "\n",
    "import xgboost as xgb\n",
    "from xgboost.sklearn import XGBClassifier\n",
    "import lightgbm as lgb\n",
    "from catboost import CatBoostClassifier, Pool\n",
    "from sklearn.ensemble import RandomForestClassifier\n",
    "\n",
    "from scipy.stats.mstats import gmean\n",
    "\n",
    "import shap\n",
    "from sklearn.inspection import permutation_importance\n",
    "\n",
    "from pprint import pprint\n",
    "import gc\n",
    "\n",
    "import seaborn as sns\n",
    "import matplotlib.pyplot as plt\n",
    "%matplotlib inline"
   ]
  },
  {
   "cell_type": "code",
   "execution_count": 2,
   "metadata": {},
   "outputs": [],
   "source": [
    "import warnings\n",
    "warnings.filterwarnings('ignore')"
   ]
  },
  {
   "cell_type": "markdown",
   "metadata": {},
   "source": [
    "### 1. Пути к директориям и файлам."
   ]
  },
  {
   "cell_type": "code",
   "execution_count": 3,
   "metadata": {},
   "outputs": [],
   "source": [
    "PATH = 'C:/Users/ASER/Desktop/GeekBrains/Kaggle/project/'\n",
    "\n",
    "TRAIN_DATASET_PATH = PATH + 'train.csv.zip'\n",
    "TEST_DATASET_PATH = PATH + 'test.csv.zip'\n",
    "\n",
    "APPLICATIONS_PATH = PATH + 'applications_history.csv.zip'\n",
    "CLIENT_PATH = PATH + 'client_profile.csv.zip'\n",
    "PAYMENTS_PATH = PATH + 'payments.csv.zip'\n",
    "BKI_PATH = PATH + 'bki.csv.zip'\n",
    "\n",
    "SAMPLE_PATH = PATH + 'sample_submit.csv.zip'"
   ]
  },
  {
   "cell_type": "markdown",
   "metadata": {},
   "source": [
    "### 2. Загрузка данных <a name = 'load_data'></a>"
   ]
  },
  {
   "cell_type": "code",
   "execution_count": 4,
   "metadata": {},
   "outputs": [
    {
     "name": "stdout",
     "output_type": "stream",
     "text": [
      "train.shape (110093, 3)\n"
     ]
    },
    {
     "data": {
      "text/html": [
       "<div>\n",
       "<style scoped>\n",
       "    .dataframe tbody tr th:only-of-type {\n",
       "        vertical-align: middle;\n",
       "    }\n",
       "\n",
       "    .dataframe tbody tr th {\n",
       "        vertical-align: top;\n",
       "    }\n",
       "\n",
       "    .dataframe thead th {\n",
       "        text-align: right;\n",
       "    }\n",
       "</style>\n",
       "<table border=\"1\" class=\"dataframe\">\n",
       "  <thead>\n",
       "    <tr style=\"text-align: right;\">\n",
       "      <th></th>\n",
       "      <th>APPLICATION_NUMBER</th>\n",
       "      <th>TARGET</th>\n",
       "      <th>NAME_CONTRACT_TYPE</th>\n",
       "    </tr>\n",
       "  </thead>\n",
       "  <tbody>\n",
       "    <tr>\n",
       "      <th>0</th>\n",
       "      <td>123687442</td>\n",
       "      <td>0</td>\n",
       "      <td>Cash</td>\n",
       "    </tr>\n",
       "    <tr>\n",
       "      <th>1</th>\n",
       "      <td>123597908</td>\n",
       "      <td>1</td>\n",
       "      <td>Cash</td>\n",
       "    </tr>\n",
       "  </tbody>\n",
       "</table>\n",
       "</div>"
      ],
      "text/plain": [
       "   APPLICATION_NUMBER  TARGET NAME_CONTRACT_TYPE\n",
       "0           123687442       0               Cash\n",
       "1           123597908       1               Cash"
      ]
     },
     "execution_count": 4,
     "metadata": {},
     "output_type": "execute_result"
    }
   ],
   "source": [
    "train = pd.read_csv(TRAIN_DATASET_PATH)\n",
    "print('train.shape', train.shape)\n",
    "train.head(2)"
   ]
  },
  {
   "cell_type": "code",
   "execution_count": 5,
   "metadata": {},
   "outputs": [],
   "source": [
    "TARGET_NAME = 'TARGET'"
   ]
  },
  {
   "cell_type": "code",
   "execution_count": 6,
   "metadata": {},
   "outputs": [
    {
     "name": "stdout",
     "output_type": "stream",
     "text": [
      "test.shape (165141, 2)\n"
     ]
    },
    {
     "data": {
      "text/html": [
       "<div>\n",
       "<style scoped>\n",
       "    .dataframe tbody tr th:only-of-type {\n",
       "        vertical-align: middle;\n",
       "    }\n",
       "\n",
       "    .dataframe tbody tr th {\n",
       "        vertical-align: top;\n",
       "    }\n",
       "\n",
       "    .dataframe thead th {\n",
       "        text-align: right;\n",
       "    }\n",
       "</style>\n",
       "<table border=\"1\" class=\"dataframe\">\n",
       "  <thead>\n",
       "    <tr style=\"text-align: right;\">\n",
       "      <th></th>\n",
       "      <th>APPLICATION_NUMBER</th>\n",
       "      <th>NAME_CONTRACT_TYPE</th>\n",
       "    </tr>\n",
       "  </thead>\n",
       "  <tbody>\n",
       "    <tr>\n",
       "      <th>0</th>\n",
       "      <td>123724268</td>\n",
       "      <td>Cash</td>\n",
       "    </tr>\n",
       "    <tr>\n",
       "      <th>1</th>\n",
       "      <td>123456549</td>\n",
       "      <td>Cash</td>\n",
       "    </tr>\n",
       "  </tbody>\n",
       "</table>\n",
       "</div>"
      ],
      "text/plain": [
       "   APPLICATION_NUMBER NAME_CONTRACT_TYPE\n",
       "0           123724268               Cash\n",
       "1           123456549               Cash"
      ]
     },
     "execution_count": 6,
     "metadata": {},
     "output_type": "execute_result"
    }
   ],
   "source": [
    "test = pd.read_csv(TEST_DATASET_PATH)\n",
    "print('test.shape', test.shape)\n",
    "test.head(2)"
   ]
  },
  {
   "cell_type": "code",
   "execution_count": 7,
   "metadata": {},
   "outputs": [
    {
     "name": "stdout",
     "output_type": "stream",
     "text": [
      "clients (250000, 24)\n"
     ]
    },
    {
     "data": {
      "text/html": [
       "<div>\n",
       "<style scoped>\n",
       "    .dataframe tbody tr th:only-of-type {\n",
       "        vertical-align: middle;\n",
       "    }\n",
       "\n",
       "    .dataframe tbody tr th {\n",
       "        vertical-align: top;\n",
       "    }\n",
       "\n",
       "    .dataframe thead th {\n",
       "        text-align: right;\n",
       "    }\n",
       "</style>\n",
       "<table border=\"1\" class=\"dataframe\">\n",
       "  <thead>\n",
       "    <tr style=\"text-align: right;\">\n",
       "      <th></th>\n",
       "      <th>APPLICATION_NUMBER</th>\n",
       "      <th>GENDER</th>\n",
       "      <th>CHILDRENS</th>\n",
       "      <th>TOTAL_SALARY</th>\n",
       "      <th>AMOUNT_CREDIT</th>\n",
       "      <th>AMOUNT_ANNUITY</th>\n",
       "      <th>EDUCATION_LEVEL</th>\n",
       "      <th>FAMILY_STATUS</th>\n",
       "      <th>REGION_POPULATION</th>\n",
       "      <th>AGE</th>\n",
       "      <th>...</th>\n",
       "      <th>FAMILY_SIZE</th>\n",
       "      <th>EXTERNAL_SCORING_RATING_1</th>\n",
       "      <th>EXTERNAL_SCORING_RATING_2</th>\n",
       "      <th>EXTERNAL_SCORING_RATING_3</th>\n",
       "      <th>AMT_REQ_CREDIT_BUREAU_HOUR</th>\n",
       "      <th>AMT_REQ_CREDIT_BUREAU_DAY</th>\n",
       "      <th>AMT_REQ_CREDIT_BUREAU_WEEK</th>\n",
       "      <th>AMT_REQ_CREDIT_BUREAU_MON</th>\n",
       "      <th>AMT_REQ_CREDIT_BUREAU_QRT</th>\n",
       "      <th>AMT_REQ_CREDIT_BUREAU_YEAR</th>\n",
       "    </tr>\n",
       "  </thead>\n",
       "  <tbody>\n",
       "    <tr>\n",
       "      <th>0</th>\n",
       "      <td>123666076</td>\n",
       "      <td>F</td>\n",
       "      <td>0</td>\n",
       "      <td>157500.0</td>\n",
       "      <td>270000.0</td>\n",
       "      <td>13500.0</td>\n",
       "      <td>Incomplete higher</td>\n",
       "      <td>Civil marriage</td>\n",
       "      <td>0.008068</td>\n",
       "      <td>8560</td>\n",
       "      <td>...</td>\n",
       "      <td>2.0</td>\n",
       "      <td>0.329471</td>\n",
       "      <td>0.236315</td>\n",
       "      <td>0.678568</td>\n",
       "      <td>0.0</td>\n",
       "      <td>0.0</td>\n",
       "      <td>0.0</td>\n",
       "      <td>0.0</td>\n",
       "      <td>1.0</td>\n",
       "      <td>2.0</td>\n",
       "    </tr>\n",
       "    <tr>\n",
       "      <th>1</th>\n",
       "      <td>123423688</td>\n",
       "      <td>F</td>\n",
       "      <td>0</td>\n",
       "      <td>270000.0</td>\n",
       "      <td>536917.5</td>\n",
       "      <td>28467.0</td>\n",
       "      <td>Secondary / secondary special</td>\n",
       "      <td>Married</td>\n",
       "      <td>0.020246</td>\n",
       "      <td>23187</td>\n",
       "      <td>...</td>\n",
       "      <td>2.0</td>\n",
       "      <td>NaN</td>\n",
       "      <td>0.442295</td>\n",
       "      <td>0.802745</td>\n",
       "      <td>0.0</td>\n",
       "      <td>0.0</td>\n",
       "      <td>0.0</td>\n",
       "      <td>0.0</td>\n",
       "      <td>1.0</td>\n",
       "      <td>1.0</td>\n",
       "    </tr>\n",
       "  </tbody>\n",
       "</table>\n",
       "<p>2 rows × 24 columns</p>\n",
       "</div>"
      ],
      "text/plain": [
       "   APPLICATION_NUMBER GENDER  CHILDRENS  TOTAL_SALARY  AMOUNT_CREDIT  \\\n",
       "0           123666076      F          0      157500.0       270000.0   \n",
       "1           123423688      F          0      270000.0       536917.5   \n",
       "\n",
       "   AMOUNT_ANNUITY                EDUCATION_LEVEL   FAMILY_STATUS  \\\n",
       "0         13500.0              Incomplete higher  Civil marriage   \n",
       "1         28467.0  Secondary / secondary special         Married   \n",
       "\n",
       "   REGION_POPULATION    AGE  ...  FAMILY_SIZE  EXTERNAL_SCORING_RATING_1  \\\n",
       "0           0.008068   8560  ...          2.0                   0.329471   \n",
       "1           0.020246  23187  ...          2.0                        NaN   \n",
       "\n",
       "   EXTERNAL_SCORING_RATING_2  EXTERNAL_SCORING_RATING_3  \\\n",
       "0                   0.236315                   0.678568   \n",
       "1                   0.442295                   0.802745   \n",
       "\n",
       "   AMT_REQ_CREDIT_BUREAU_HOUR  AMT_REQ_CREDIT_BUREAU_DAY  \\\n",
       "0                         0.0                        0.0   \n",
       "1                         0.0                        0.0   \n",
       "\n",
       "   AMT_REQ_CREDIT_BUREAU_WEEK  AMT_REQ_CREDIT_BUREAU_MON  \\\n",
       "0                         0.0                        0.0   \n",
       "1                         0.0                        0.0   \n",
       "\n",
       "   AMT_REQ_CREDIT_BUREAU_QRT  AMT_REQ_CREDIT_BUREAU_YEAR  \n",
       "0                        1.0                         2.0  \n",
       "1                        1.0                         1.0  \n",
       "\n",
       "[2 rows x 24 columns]"
      ]
     },
     "execution_count": 7,
     "metadata": {},
     "output_type": "execute_result"
    }
   ],
   "source": [
    "clients = pd.read_csv(CLIENT_PATH)\n",
    "print('clients', clients.shape)\n",
    "clients.head(2)"
   ]
  },
  {
   "cell_type": "code",
   "execution_count": 8,
   "metadata": {},
   "outputs": [
    {
     "name": "stdout",
     "output_type": "stream",
     "text": [
      "applications (1670214, 26)\n"
     ]
    },
    {
     "data": {
      "text/html": [
       "<div>\n",
       "<style scoped>\n",
       "    .dataframe tbody tr th:only-of-type {\n",
       "        vertical-align: middle;\n",
       "    }\n",
       "\n",
       "    .dataframe tbody tr th {\n",
       "        vertical-align: top;\n",
       "    }\n",
       "\n",
       "    .dataframe thead th {\n",
       "        text-align: right;\n",
       "    }\n",
       "</style>\n",
       "<table border=\"1\" class=\"dataframe\">\n",
       "  <thead>\n",
       "    <tr style=\"text-align: right;\">\n",
       "      <th></th>\n",
       "      <th>PREV_APPLICATION_NUMBER</th>\n",
       "      <th>APPLICATION_NUMBER</th>\n",
       "      <th>NAME_CONTRACT_TYPE</th>\n",
       "      <th>AMOUNT_ANNUITY</th>\n",
       "      <th>AMT_APPLICATION</th>\n",
       "      <th>AMOUNT_CREDIT</th>\n",
       "      <th>AMOUNT_PAYMENT</th>\n",
       "      <th>AMOUNT_GOODS_PAYMENT</th>\n",
       "      <th>NAME_CONTRACT_STATUS</th>\n",
       "      <th>DAYS_DECISION</th>\n",
       "      <th>...</th>\n",
       "      <th>NAME_PRODUCT_TYPE</th>\n",
       "      <th>SELLERPLACE_AREA</th>\n",
       "      <th>CNT_PAYMENT</th>\n",
       "      <th>NAME_YIELD_GROUP</th>\n",
       "      <th>DAYS_FIRST_DRAWING</th>\n",
       "      <th>DAYS_FIRST_DUE</th>\n",
       "      <th>DAYS_LAST_DUE_1ST_VERSION</th>\n",
       "      <th>DAYS_LAST_DUE</th>\n",
       "      <th>DAYS_TERMINATION</th>\n",
       "      <th>NFLAG_INSURED_ON_APPROVAL</th>\n",
       "    </tr>\n",
       "  </thead>\n",
       "  <tbody>\n",
       "    <tr>\n",
       "      <th>0</th>\n",
       "      <td>49298709</td>\n",
       "      <td>123595216</td>\n",
       "      <td>NaN</td>\n",
       "      <td>1730.430</td>\n",
       "      <td>17145.0</td>\n",
       "      <td>17145.0</td>\n",
       "      <td>0.0</td>\n",
       "      <td>17145.0</td>\n",
       "      <td>Approved</td>\n",
       "      <td>73</td>\n",
       "      <td>...</td>\n",
       "      <td>XNA</td>\n",
       "      <td>35</td>\n",
       "      <td>12.0</td>\n",
       "      <td>middle</td>\n",
       "      <td>365243.0</td>\n",
       "      <td>42.0</td>\n",
       "      <td>300.0</td>\n",
       "      <td>42.0</td>\n",
       "      <td>37.0</td>\n",
       "      <td>0.0</td>\n",
       "    </tr>\n",
       "    <tr>\n",
       "      <th>1</th>\n",
       "      <td>50070639</td>\n",
       "      <td>123431468</td>\n",
       "      <td>Cash</td>\n",
       "      <td>25188.615</td>\n",
       "      <td>607500.0</td>\n",
       "      <td>679671.0</td>\n",
       "      <td>NaN</td>\n",
       "      <td>607500.0</td>\n",
       "      <td>Approved</td>\n",
       "      <td>164</td>\n",
       "      <td>...</td>\n",
       "      <td>x-sell</td>\n",
       "      <td>-1</td>\n",
       "      <td>36.0</td>\n",
       "      <td>low_action</td>\n",
       "      <td>365243.0</td>\n",
       "      <td>134.0</td>\n",
       "      <td>916.0</td>\n",
       "      <td>365243.0</td>\n",
       "      <td>365243.0</td>\n",
       "      <td>1.0</td>\n",
       "    </tr>\n",
       "  </tbody>\n",
       "</table>\n",
       "<p>2 rows × 26 columns</p>\n",
       "</div>"
      ],
      "text/plain": [
       "   PREV_APPLICATION_NUMBER  APPLICATION_NUMBER NAME_CONTRACT_TYPE  \\\n",
       "0                 49298709           123595216                NaN   \n",
       "1                 50070639           123431468               Cash   \n",
       "\n",
       "   AMOUNT_ANNUITY  AMT_APPLICATION  AMOUNT_CREDIT  AMOUNT_PAYMENT  \\\n",
       "0        1730.430          17145.0        17145.0             0.0   \n",
       "1       25188.615         607500.0       679671.0             NaN   \n",
       "\n",
       "   AMOUNT_GOODS_PAYMENT NAME_CONTRACT_STATUS  DAYS_DECISION  ...  \\\n",
       "0               17145.0             Approved             73  ...   \n",
       "1              607500.0             Approved            164  ...   \n",
       "\n",
       "  NAME_PRODUCT_TYPE SELLERPLACE_AREA CNT_PAYMENT NAME_YIELD_GROUP  \\\n",
       "0               XNA               35        12.0           middle   \n",
       "1            x-sell               -1        36.0       low_action   \n",
       "\n",
       "  DAYS_FIRST_DRAWING DAYS_FIRST_DUE DAYS_LAST_DUE_1ST_VERSION  DAYS_LAST_DUE  \\\n",
       "0           365243.0           42.0                     300.0           42.0   \n",
       "1           365243.0          134.0                     916.0       365243.0   \n",
       "\n",
       "   DAYS_TERMINATION NFLAG_INSURED_ON_APPROVAL  \n",
       "0              37.0                       0.0  \n",
       "1          365243.0                       1.0  \n",
       "\n",
       "[2 rows x 26 columns]"
      ]
     },
     "execution_count": 8,
     "metadata": {},
     "output_type": "execute_result"
    }
   ],
   "source": [
    "applications = pd.read_csv(APPLICATIONS_PATH)\n",
    "print('applications', applications.shape)\n",
    "applications.head(2)"
   ]
  },
  {
   "cell_type": "code",
   "execution_count": 9,
   "metadata": {},
   "outputs": [
    {
     "name": "stdout",
     "output_type": "stream",
     "text": [
      "bki (945234, 17)\n"
     ]
    },
    {
     "data": {
      "text/html": [
       "<div>\n",
       "<style scoped>\n",
       "    .dataframe tbody tr th:only-of-type {\n",
       "        vertical-align: middle;\n",
       "    }\n",
       "\n",
       "    .dataframe tbody tr th {\n",
       "        vertical-align: top;\n",
       "    }\n",
       "\n",
       "    .dataframe thead th {\n",
       "        text-align: right;\n",
       "    }\n",
       "</style>\n",
       "<table border=\"1\" class=\"dataframe\">\n",
       "  <thead>\n",
       "    <tr style=\"text-align: right;\">\n",
       "      <th></th>\n",
       "      <th>APPLICATION_NUMBER</th>\n",
       "      <th>BUREAU_ID</th>\n",
       "      <th>CREDIT_ACTIVE</th>\n",
       "      <th>CREDIT_CURRENCY</th>\n",
       "      <th>DAYS_CREDIT</th>\n",
       "      <th>CREDIT_DAY_OVERDUE</th>\n",
       "      <th>DAYS_CREDIT_ENDDATE</th>\n",
       "      <th>DAYS_ENDDATE_FACT</th>\n",
       "      <th>AMT_CREDIT_MAX_OVERDUE</th>\n",
       "      <th>CNT_CREDIT_PROLONG</th>\n",
       "      <th>AMT_CREDIT_SUM</th>\n",
       "      <th>AMT_CREDIT_SUM_DEBT</th>\n",
       "      <th>AMT_CREDIT_SUM_LIMIT</th>\n",
       "      <th>AMT_CREDIT_SUM_OVERDUE</th>\n",
       "      <th>CREDIT_TYPE</th>\n",
       "      <th>DAYS_CREDIT_UPDATE</th>\n",
       "      <th>AMT_ANNUITY</th>\n",
       "    </tr>\n",
       "  </thead>\n",
       "  <tbody>\n",
       "    <tr>\n",
       "      <th>0</th>\n",
       "      <td>123538884</td>\n",
       "      <td>5223613</td>\n",
       "      <td>Active</td>\n",
       "      <td>currency 1</td>\n",
       "      <td>718.0</td>\n",
       "      <td>0</td>\n",
       "      <td>377.0</td>\n",
       "      <td>NaN</td>\n",
       "      <td>19386.81</td>\n",
       "      <td>0</td>\n",
       "      <td>675000.00</td>\n",
       "      <td>320265.495</td>\n",
       "      <td>0.0</td>\n",
       "      <td>0.0</td>\n",
       "      <td>Consumer credit</td>\n",
       "      <td>39.0</td>\n",
       "      <td>NaN</td>\n",
       "    </tr>\n",
       "    <tr>\n",
       "      <th>1</th>\n",
       "      <td>123436670</td>\n",
       "      <td>6207544</td>\n",
       "      <td>Closed</td>\n",
       "      <td>currency 1</td>\n",
       "      <td>696.0</td>\n",
       "      <td>0</td>\n",
       "      <td>511.0</td>\n",
       "      <td>511.0</td>\n",
       "      <td>0.00</td>\n",
       "      <td>0</td>\n",
       "      <td>93111.66</td>\n",
       "      <td>0.000</td>\n",
       "      <td>0.0</td>\n",
       "      <td>0.0</td>\n",
       "      <td>Consumer credit</td>\n",
       "      <td>505.0</td>\n",
       "      <td>NaN</td>\n",
       "    </tr>\n",
       "  </tbody>\n",
       "</table>\n",
       "</div>"
      ],
      "text/plain": [
       "   APPLICATION_NUMBER  BUREAU_ID CREDIT_ACTIVE CREDIT_CURRENCY  DAYS_CREDIT  \\\n",
       "0           123538884    5223613        Active      currency 1        718.0   \n",
       "1           123436670    6207544        Closed      currency 1        696.0   \n",
       "\n",
       "   CREDIT_DAY_OVERDUE  DAYS_CREDIT_ENDDATE  DAYS_ENDDATE_FACT  \\\n",
       "0                   0                377.0                NaN   \n",
       "1                   0                511.0              511.0   \n",
       "\n",
       "   AMT_CREDIT_MAX_OVERDUE  CNT_CREDIT_PROLONG  AMT_CREDIT_SUM  \\\n",
       "0                19386.81                   0       675000.00   \n",
       "1                    0.00                   0        93111.66   \n",
       "\n",
       "   AMT_CREDIT_SUM_DEBT  AMT_CREDIT_SUM_LIMIT  AMT_CREDIT_SUM_OVERDUE  \\\n",
       "0           320265.495                   0.0                     0.0   \n",
       "1                0.000                   0.0                     0.0   \n",
       "\n",
       "       CREDIT_TYPE  DAYS_CREDIT_UPDATE  AMT_ANNUITY  \n",
       "0  Consumer credit                39.0          NaN  \n",
       "1  Consumer credit               505.0          NaN  "
      ]
     },
     "execution_count": 9,
     "metadata": {},
     "output_type": "execute_result"
    }
   ],
   "source": [
    "bki = pd.read_csv(BKI_PATH)\n",
    "print('bki', bki.shape)\n",
    "bki.head(2)"
   ]
  },
  {
   "cell_type": "code",
   "execution_count": 10,
   "metadata": {},
   "outputs": [
    {
     "name": "stdout",
     "output_type": "stream",
     "text": [
      "payments (1023932, 8)\n"
     ]
    },
    {
     "data": {
      "text/html": [
       "<div>\n",
       "<style scoped>\n",
       "    .dataframe tbody tr th:only-of-type {\n",
       "        vertical-align: middle;\n",
       "    }\n",
       "\n",
       "    .dataframe tbody tr th {\n",
       "        vertical-align: top;\n",
       "    }\n",
       "\n",
       "    .dataframe thead th {\n",
       "        text-align: right;\n",
       "    }\n",
       "</style>\n",
       "<table border=\"1\" class=\"dataframe\">\n",
       "  <thead>\n",
       "    <tr style=\"text-align: right;\">\n",
       "      <th></th>\n",
       "      <th>PREV_APPLICATION_NUMBER</th>\n",
       "      <th>APPLICATION_NUMBER</th>\n",
       "      <th>NUM_INSTALMENT_VERSION</th>\n",
       "      <th>NUM_INSTALMENT_NUMBER</th>\n",
       "      <th>DAYS_INSTALMENT</th>\n",
       "      <th>DAYS_ENTRY_PAYMENT</th>\n",
       "      <th>AMT_INSTALMENT</th>\n",
       "      <th>AMT_PAYMENT</th>\n",
       "    </tr>\n",
       "  </thead>\n",
       "  <tbody>\n",
       "    <tr>\n",
       "      <th>0</th>\n",
       "      <td>49011181</td>\n",
       "      <td>123664960</td>\n",
       "      <td>1.0</td>\n",
       "      <td>5</td>\n",
       "      <td>1002.0</td>\n",
       "      <td>1015.0</td>\n",
       "      <td>12156.615</td>\n",
       "      <td>12156.615</td>\n",
       "    </tr>\n",
       "    <tr>\n",
       "      <th>1</th>\n",
       "      <td>48683432</td>\n",
       "      <td>123497205</td>\n",
       "      <td>1.0</td>\n",
       "      <td>13</td>\n",
       "      <td>442.0</td>\n",
       "      <td>432.0</td>\n",
       "      <td>18392.535</td>\n",
       "      <td>10047.645</td>\n",
       "    </tr>\n",
       "  </tbody>\n",
       "</table>\n",
       "</div>"
      ],
      "text/plain": [
       "   PREV_APPLICATION_NUMBER  APPLICATION_NUMBER  NUM_INSTALMENT_VERSION  \\\n",
       "0                 49011181           123664960                     1.0   \n",
       "1                 48683432           123497205                     1.0   \n",
       "\n",
       "   NUM_INSTALMENT_NUMBER  DAYS_INSTALMENT  DAYS_ENTRY_PAYMENT  AMT_INSTALMENT  \\\n",
       "0                      5           1002.0              1015.0       12156.615   \n",
       "1                     13            442.0               432.0       18392.535   \n",
       "\n",
       "   AMT_PAYMENT  \n",
       "0    12156.615  \n",
       "1    10047.645  "
      ]
     },
     "execution_count": 10,
     "metadata": {},
     "output_type": "execute_result"
    }
   ],
   "source": [
    "payments = pd.read_csv(PAYMENTS_PATH)\n",
    "print('payments', payments.shape)\n",
    "payments.head(2)"
   ]
  },
  {
   "cell_type": "markdown",
   "metadata": {},
   "source": [
    "### 3. Формирование базы данных"
   ]
  },
  {
   "cell_type": "markdown",
   "metadata": {},
   "source": [
    "#### Разделение признаков на количественные и категориальные"
   ]
  },
  {
   "cell_type": "code",
   "execution_count": 11,
   "metadata": {},
   "outputs": [],
   "source": [
    "def feature_classification(data):\n",
    "    CATEGORICAL_FEATURE_NAMES = data.dtypes[data.dtypes == \"object\"].index.tolist()\n",
    "    NUMERICAL_FEATURE_NAMES = [i for i in data.columns if i not in CATEGORICAL_FEATURE_NAMES]\n",
    "    NUMERICAL_FEATURE_NAMES.remove(TARGET_NAME)\n",
    "    \n",
    "    return NUMERICAL_FEATURE_NAMES, CATEGORICAL_FEATURE_NAMES"
   ]
  },
  {
   "cell_type": "markdown",
   "metadata": {},
   "source": [
    "#### Добавление к данным частот категориальных признаков"
   ]
  },
  {
   "cell_type": "code",
   "execution_count": 12,
   "metadata": {},
   "outputs": [],
   "source": [
    "def get_frequencies(data, encode_list):\n",
    "    NEW_FEATURES_FREQUENCIES = []\n",
    "    for feature in encode_list:        \n",
    "        new_name = feature + '_freq'\n",
    "        NEW_FEATURES_FREQUENCIES.append(new_name)\n",
    "        \n",
    "        a = data[feature].value_counts()\n",
    "        if feature == 'BUREAU_ID':\n",
    "            for i in range(1, 15):\n",
    "                ind = a[a.values == i].keys().astype(int)\n",
    "                data.loc[data[feature].isin(ind), new_name] = len(ind)\n",
    "            ind_ = a[a.values >= 15].keys().astype(int)\n",
    "            data.loc[data[feature].isin(ind_), new_name] = len(ind)\n",
    "        elif feature == 'APPLICATION_NUMBER':\n",
    "            for i in range(1, 20):\n",
    "                ind = a[a.values == i].keys().astype(int)\n",
    "                data.loc[data[feature].isin(ind), new_name] = len(ind)\n",
    "            ind_ = a[a.values >= 20].keys().astype(int)\n",
    "            data.loc[data[feature].isin(ind_), new_name] = len(ind)\n",
    "        else:\n",
    "            for key in a.keys():    \n",
    "                data.loc[data[feature] == key, new_name] = a[key]\n",
    "        \n",
    "            \n",
    "    return data, NEW_FEATURES_FREQUENCIES"
   ]
  },
  {
   "cell_type": "markdown",
   "metadata": {},
   "source": [
    "#### Обработка категориальных признаков для LightGBM API"
   ]
  },
  {
   "cell_type": "code",
   "execution_count": 13,
   "metadata": {},
   "outputs": [],
   "source": [
    "def ordinal_encoding_lgb(data, encode_list):\n",
    "    CATEGORICAL_FEATURE_NAMES_lgb = []\n",
    "    for feature in encode_list:\n",
    "        lgb_feature = feature + '_lgb'\n",
    "        CATEGORICAL_FEATURE_NAMES_lgb.append(lgb_feature)\n",
    "        \n",
    "        for ind, level in enumerate(data[feature].unique()):\n",
    "            data.loc[data[feature] == level, lgb_feature] = ind\n",
    "            \n",
    "    return data, CATEGORICAL_FEATURE_NAMES_lgb"
   ]
  },
  {
   "cell_type": "markdown",
   "metadata": {},
   "source": [
    "#### clients"
   ]
  },
  {
   "cell_type": "code",
   "execution_count": 14,
   "metadata": {},
   "outputs": [],
   "source": [
    "def create_client_profile_features(X: pd.DataFrame, copy: bool = True) -> pd.DataFrame:\n",
    "    \"\"\"\n",
    "    Создание признаков на основе профиля клиентов.\n",
    "\n",
    "    Parameters\n",
    "    ----------\n",
    "    X: pandas.core.frame.DataFrame\n",
    "        Матрица признаков с исходным профилем клиента.\n",
    "\n",
    "    copy: bool, optional, default = True\n",
    "        Флаг использования копии датафрейма X.\n",
    "        Опциональный параметр, по умолчанию, равен True.\n",
    "\n",
    "    Returns\n",
    "    -------\n",
    "    X_transformed: pandas.core.frame.DataFrame\n",
    "        Расширенная матрица признаков с профилем клиентов.\n",
    "\n",
    "    \"\"\"\n",
    "    if copy:\n",
    "        X = X.copy()\n",
    "\n",
    "    X[\"DAYS_ON_LAST_JOB\"] = X[\"DAYS_ON_LAST_JOB\"].replace(365243, np.nan)\n",
    "    bki_flags = [flag for flag in X.columns if \"AMT_REQ_CREDIT_BUREAU\" in flag]\n",
    "    X[\"bki_requests_count\"] = X[bki_flags].sum(axis=1)\n",
    "    X[\"bki_kurtosis\"] = X[bki_flags].kurtosis(axis=1)\n",
    "\n",
    "    X[\"external_scoring_prod\"] = X[\"EXTERNAL_SCORING_RATING_1\"] *\\\n",
    "                                 X[\"EXTERNAL_SCORING_RATING_2\"] * X[\"EXTERNAL_SCORING_RATING_3\"]\n",
    "    X[\"external_scoring_weighted\"] = X.EXTERNAL_SCORING_RATING_1 * 2 +\\\n",
    "                                     X.EXTERNAL_SCORING_RATING_2 * 1 + X.EXTERNAL_SCORING_RATING_3 * 3\n",
    "\n",
    "    for function_name in [\"min\", \"max\", \"mean\", \"nanmedian\", \"var\"]:\n",
    "        feature_name = \"external_scoring_rating_{}\".format(function_name)\n",
    "        X[feature_name] = eval(\"np.{}\".format(function_name))(\n",
    "            X[[\"EXTERNAL_SCORING_RATING_1\", \"EXTERNAL_SCORING_RATING_2\", \"EXTERNAL_SCORING_RATING_3\"]], axis=1\n",
    "        )\n",
    "\n",
    "    # Отношение между основными фин. показателями\n",
    "    X['ratio_credit_to_annuity'] = X['AMOUNT_CREDIT'] / X['AMOUNT_ANNUITY']\n",
    "    X[\"ratio_annuity_to_salary\"] = X['AMOUNT_ANNUITY'] / X['TOTAL_SALARY']\n",
    "    X['ratio_credit_to_salary'] = X['AMOUNT_CREDIT'] / X['TOTAL_SALARY']\n",
    "    X[\"total_salary_net\"] = X[\"TOTAL_SALARY\"] - X[\"AMOUNT_ANNUITY\"]\n",
    "\n",
    "    # Отношение фин. показателей к возрасту и временным фичам\n",
    "    X[\"ratio_annuity_to_age\"] = X[\"AMOUNT_ANNUITY\"] / X[\"AGE\"]\n",
    "    X[\"ratio_credit_to_age\"] = X[\"AMOUNT_CREDIT\"] / X[\"AGE\"]\n",
    "    X[\"ratio_salary_to_age\"] = X[\"TOTAL_SALARY\"] / X[\"AGE\"]\n",
    "    X[\"ratio_salary_to_experience\"] = X[\"TOTAL_SALARY\"] / X[\"DAYS_ON_LAST_JOB\"]\n",
    "    X[\"ratio_credit_to_experience\"] = X[\"AMOUNT_CREDIT\"] / X[\"DAYS_ON_LAST_JOB\"]\n",
    "    X[\"ratio_annuity_to_experience\"] = X[\"AMOUNT_ANNUITY\"] / X[\"DAYS_ON_LAST_JOB\"]\n",
    "\n",
    "    # Отношение врменных признаков\n",
    "    X[\"ratio_age_to_experience\"] = X[\"AGE\"] / X[\"DAYS_ON_LAST_JOB\"]\n",
    "    X[\"product_salary_and_region_population\"] = X[\"TOTAL_SALARY\"] * X[\"REGION_POPULATION\"]\n",
    "    X[\"ratio_car_to_experience\"] = X[\"OWN_CAR_AGE\"] / X[\"DAYS_ON_LAST_JOB\"]\n",
    "    X[\"ratio_car_to_age\"] = X[\"OWN_CAR_AGE\"] / X[\"AGE\"]\n",
    "\n",
    "    # Произведение фин. показателей кредита на вероятность дефолта\n",
    "    # Такая штука называется математическим ожиданием дефолта или ожидаемыми потерями\n",
    "    X[\"expected_total_loss_1\"] = X[\"EXTERNAL_SCORING_RATING_1\"] * X[\"AMOUNT_CREDIT\"]\n",
    "    X[\"expected_total_loss_2\"] = X[\"EXTERNAL_SCORING_RATING_2\"] * X[\"AMOUNT_CREDIT\"]\n",
    "    X[\"expected_total_loss_3\"] = X[\"EXTERNAL_SCORING_RATING_3\"] * X[\"AMOUNT_CREDIT\"]\n",
    "    X[\"expected_monthly_loss_1\"] = X[\"EXTERNAL_SCORING_RATING_1\"] * X[\"AMOUNT_ANNUITY\"]\n",
    "    X[\"expected_monthly_loss_2\"] = X[\"EXTERNAL_SCORING_RATING_2\"] * X[\"AMOUNT_ANNUITY\"]\n",
    "    X[\"expected_monthly_loss_3\"] = X[\"EXTERNAL_SCORING_RATING_3\"] * X[\"AMOUNT_ANNUITY\"]    \n",
    "    \n",
    "    X['NAME_CONTRACT_TYPE'] = np.where(X['NAME_CONTRACT_TYPE'] == 'Cash', 0, 1)\n",
    "    \n",
    "    # Композитные признаки\n",
    "    X['GENDER'] = np.where(X['GENDER'] == 'F', 0, 1)\n",
    "    X['EDUCATION_LEVEL'] = np.where(X['EDUCATION_LEVEL'].isin(['Higher education', \n",
    "                                                               'Academic degree']), 1, 0)\n",
    "    X['FAMILY_STATUS'] = np.where(X['FAMILY_STATUS'].isin(['Married', 'Widow']), 1, 0)\n",
    "    X['FAMILY_SIZE'] = np.where(X['FAMILY_SIZE'].isin([1, 2]), 0, 1)    \n",
    "    X['AMT_REQ_CREDIT_BUREAU_MON'] = np.where(X['AMT_REQ_CREDIT_BUREAU_MON'] == 0, 0, 1)\n",
    "    X['AMT_REQ_CREDIT_BUREAU_QRT'] = np.where(X['AMT_REQ_CREDIT_BUREAU_QRT'] == 0, 0, 1) \n",
    "    X['CHILDRENS'] = np.where(X['CHILDRENS'] == 0, 0, 1)\n",
    "    \n",
    "    X.loc[:, 'gender_education'] = X.loc[:, ['GENDER', 'EDUCATION_LEVEL']].\\\n",
    "                   apply(lambda x: ''.join(str(x.values))[1:-1].replace(\"'\", \"\"), axis=1)\n",
    "    X.loc[:, 'family_status_size'] = X.loc[:, ['FAMILY_STATUS', 'FAMILY_SIZE']].\\\n",
    "                   apply(lambda x: ''.join(str(x.values))[1:-1].replace(\"'\", \"\"), axis=1)    \n",
    "    X.loc[:, 'AMT_REQ_CREDIT_BUREAU_mon_qtr'] = X.loc[:, ['AMT_REQ_CREDIT_BUREAU_MON', \n",
    "                                                          'AMT_REQ_CREDIT_BUREAU_QRT']].\\\n",
    "                   apply(lambda x: ''.join(str(x.values))[1:-1].replace(\"'\", \"\"), axis=1)\n",
    "    X.loc[:, 'children_phone'] = X.loc[:, ['CHILDRENS', 'FLAG_PHONE']].\\\n",
    "                   apply(lambda x: ''.join(str(x.values))[1:-1].replace(\"'\", \"\"), axis=1)\n",
    "    \n",
    "    X.drop(['GENDER', 'EDUCATION_LEVEL',\n",
    "            'FAMILY_STATUS', 'FAMILY_SIZE',\n",
    "            'AMT_REQ_CREDIT_BUREAU_MON', 'AMT_REQ_CREDIT_BUREAU_QRT',\n",
    "            'CHILDRENS', 'FLAG_PHONE', 'FLAG_EMAIL'], axis=1, inplace=True)\n",
    "    \n",
    "    return X"
   ]
  },
  {
   "cell_type": "code",
   "execution_count": 15,
   "metadata": {},
   "outputs": [
    {
     "data": {
      "text/plain": [
       "(275234, 58)"
      ]
     },
     "execution_count": 15,
     "metadata": {},
     "output_type": "execute_result"
    }
   ],
   "source": [
    "df = pd.concat([train, test], axis=0)\n",
    "data = pd.merge(df, clients, how='left', on='APPLICATION_NUMBER')\n",
    "data = create_client_profile_features(data)\n",
    "\n",
    "NUMERICAL_FEATURE_NAMES, CATEGORICAL_FEATURE_NAMES = feature_classification(data)\n",
    " \n",
    "data, NEW_FEATURES_FREQUENCIES = get_frequencies(data, CATEGORICAL_FEATURE_NAMES)\n",
    "NUMERICAL_FEATURE_NAMES += NEW_FEATURES_FREQUENCIES\n",
    "\n",
    "data, CATEGORICAL_FEATURE_NAMES_lgb = ordinal_encoding_lgb(data, CATEGORICAL_FEATURE_NAMES)\n",
    "\n",
    "data.shape"
   ]
  },
  {
   "cell_type": "markdown",
   "metadata": {},
   "source": [
    "#### bki"
   ]
  },
  {
   "cell_type": "code",
   "execution_count": 16,
   "metadata": {},
   "outputs": [
    {
     "data": {
      "text/plain": [
       "(275234, 21)"
      ]
     },
     "execution_count": 16,
     "metadata": {},
     "output_type": "execute_result"
    }
   ],
   "source": [
    "data_bki = pd.merge(df, bki[~(bki['CREDIT_ACTIVE'] == 'Closed')], \n",
    "                    how='left', on = 'APPLICATION_NUMBER')\n",
    "\n",
    "NUMERICAL_FEATURE_NAMES_bki, CATEGORICAL_FEATURE_NAMES_bki = feature_classification(data_bki)\n",
    "CATEGORICAL_FEATURE_NAMES_bki = ['BUREAU_ID'] + CATEGORICAL_FEATURE_NAMES_bki[1:]\n",
    "NUMERICAL_FEATURE_NAMES_bki = NUMERICAL_FEATURE_NAMES_bki[2:]\n",
    "\n",
    "data_bki, NEW_FEATURES_FREQUENCIES = get_frequencies(data_bki, CATEGORICAL_FEATURE_NAMES_bki)\n",
    "NUMERICAL_FEATURE_NAMES_bki += NEW_FEATURES_FREQUENCIES\n",
    "\n",
    "df1 = data_bki[['APPLICATION_NUMBER'] + NUMERICAL_FEATURE_NAMES_bki].groupby('APPLICATION_NUMBER').median()\n",
    "df2 = data_bki[['APPLICATION_NUMBER'] + CATEGORICAL_FEATURE_NAMES_bki].groupby('APPLICATION_NUMBER').count()\n",
    "data_bki = pd.concat([df1, df2], axis=1).reset_index()\n",
    "\n",
    "data_bki.shape"
   ]
  },
  {
   "cell_type": "markdown",
   "metadata": {},
   "source": [
    "#### applications"
   ]
  },
  {
   "cell_type": "code",
   "execution_count": 17,
   "metadata": {},
   "outputs": [],
   "source": [
    "def create_applications_features(X):\n",
    "    X['PREV_APPLICATION_NUMBER'] = np.where(X['PREV_APPLICATION_NUMBER'].isnull(), 0, 1)\n",
    "    X['NAME_GOODS_CATEGORY'] = np.where(X['NAME_GOODS_CATEGORY'] == 'XNA', 1, 0)\n",
    "    \n",
    "    return X"
   ]
  },
  {
   "cell_type": "code",
   "execution_count": 18,
   "metadata": {},
   "outputs": [
    {
     "data": {
      "text/plain": [
       "(275234, 33)"
      ]
     },
     "execution_count": 18,
     "metadata": {},
     "output_type": "execute_result"
    }
   ],
   "source": [
    "data_applications = pd.merge(df, applications, how='left', \n",
    "                             on = ['APPLICATION_NUMBER', 'NAME_CONTRACT_TYPE'])\n",
    "data_applications = create_applications_features(data_applications)\n",
    "NUMERICAL_FEATURE_NAMES_app, CATEGORICAL_FEATURE_NAMES_app = feature_classification(data_applications)\n",
    "CATEGORICAL_FEATURE_NAMES_app = CATEGORICAL_FEATURE_NAMES_app[1:]\n",
    "NUMERICAL_FEATURE_NAMES_app = NUMERICAL_FEATURE_NAMES_app[1:]\n",
    "\n",
    "data_applications, NEW_FEATURES_FREQUENCIES = get_frequencies(data_applications, CATEGORICAL_FEATURE_NAMES_app)\n",
    "NUMERICAL_FEATURE_NAMES_app += NEW_FEATURES_FREQUENCIES\n",
    "\n",
    "df1 = data_applications[['APPLICATION_NUMBER'] + NUMERICAL_FEATURE_NAMES_app].\\\n",
    "                                                groupby('APPLICATION_NUMBER').median()\n",
    "df2 = data_applications[['APPLICATION_NUMBER'] + CATEGORICAL_FEATURE_NAMES_app].\\\n",
    "                                                 groupby('APPLICATION_NUMBER').count()\n",
    "data_applications = pd.concat([df1, df2], axis=1).reset_index()\n",
    "\n",
    "data_applications.shape"
   ]
  },
  {
   "cell_type": "markdown",
   "metadata": {},
   "source": [
    "#### payments"
   ]
  },
  {
   "cell_type": "code",
   "execution_count": 19,
   "metadata": {},
   "outputs": [
    {
     "data": {
      "text/plain": [
       "(275234, 7)"
      ]
     },
     "execution_count": 19,
     "metadata": {},
     "output_type": "execute_result"
    }
   ],
   "source": [
    "data_payments = pd.merge(df, payments, how='left', on = 'APPLICATION_NUMBER')\n",
    "\n",
    "NUMERICAL_FEATURE_NAMES_pmt, CATEGORICAL_FEATURE_NAMES_pmt = feature_classification(data_payments)\n",
    "NUMERICAL_FEATURE_NAMES_pmt = NUMERICAL_FEATURE_NAMES_pmt[2:]\n",
    "CATEGORICAL_FEATURE_NAMES_pmt = []\n",
    "\n",
    "data_payments, NEW_FEATURES_FREQUENCIES = get_frequencies(data_payments, ['APPLICATION_NUMBER'])\n",
    "NUMERICAL_FEATURE_NAMES_pmt += NEW_FEATURES_FREQUENCIES\n",
    "\n",
    "data_payments = data_payments[['APPLICATION_NUMBER'] + NUMERICAL_FEATURE_NAMES_pmt].\\\n",
    "                                                  groupby('APPLICATION_NUMBER').median()\n",
    "data_payments.shape"
   ]
  },
  {
   "cell_type": "markdown",
   "metadata": {},
   "source": [
    "#### Формирование единой базы"
   ]
  },
  {
   "cell_type": "code",
   "execution_count": 20,
   "metadata": {},
   "outputs": [
    {
     "data": {
      "text/plain": [
       "(275234, 117)"
      ]
     },
     "execution_count": 20,
     "metadata": {},
     "output_type": "execute_result"
    }
   ],
   "source": [
    "data = pd.merge(data, data_bki, how='left', on = 'APPLICATION_NUMBER')\n",
    "data = pd.merge(data, data_applications, how='left', on = 'APPLICATION_NUMBER')\n",
    "data = pd.merge(data, data_payments, how='left', on = 'APPLICATION_NUMBER')\n",
    "\n",
    "new_names = ['AMOUNT_CREDIT_x', 'AMOUNT_CREDIT_y', 'AMOUNT_ANNUITY_x', 'AMOUNT_ANNUITY_y'] +\\\n",
    "            NUMERICAL_FEATURE_NAMES_bki + NUMERICAL_FEATURE_NAMES_app + NUMERICAL_FEATURE_NAMES_pmt +\\\n",
    "            CATEGORICAL_FEATURE_NAMES_bki + CATEGORICAL_FEATURE_NAMES_app + CATEGORICAL_FEATURE_NAMES_pmt\n",
    "NUMERICAL_FEATURE_NAMES += new_names\n",
    "NUMERICAL_FEATURE_NAMES = [i for i in NUMERICAL_FEATURE_NAMES if i in data.columns]\n",
    "\n",
    "data.shape"
   ]
  },
  {
   "cell_type": "markdown",
   "metadata": {},
   "source": [
    "#### Разделение на обучающую и тестовую выборку"
   ]
  },
  {
   "cell_type": "code",
   "execution_count": 21,
   "metadata": {},
   "outputs": [],
   "source": [
    "mask = data[TARGET_NAME].isnull()\n",
    "train, test = data.loc[~mask], data.loc[mask]\n",
    "\n",
    "train = train.replace(np.inf, np.nan)\n",
    "train = train.replace(-np.inf, np.nan)\n",
    "\n",
    "test = test.replace(np.inf, np.nan)\n",
    "test = test.replace(-np.inf, np.nan)"
   ]
  },
  {
   "cell_type": "markdown",
   "metadata": {},
   "source": [
    "### 4. Сохранение / загрузка обработанных данных:"
   ]
  },
  {
   "cell_type": "code",
   "execution_count": 22,
   "metadata": {},
   "outputs": [],
   "source": [
    "#train.to_pickle(PATH + 'train.pkl')\n",
    "#test.to_pickle(PATH + 'test.pkl')\n",
    "\n",
    "#train = pd.read_pickle(PATH + 'train.pkl')\n",
    "#test = pd.read_pickle(PATH + 'test.pkl')"
   ]
  },
  {
   "cell_type": "code",
   "execution_count": 23,
   "metadata": {},
   "outputs": [],
   "source": [
    "#TARGET_NAME = 'TARGET'\n",
    "#CATEGORICAL_FEATURE_NAMES = train.dtypes[train.dtypes == \"object\"].index.tolist() + ['BUREAU_ID']\n",
    "#CATEGORICAL_FEATURE_NAMES_lgb = [i for i in train.columns if i[-4:] == '_lgb']\n",
    "#exclude_list = CATEGORICAL_FEATURE_NAMES + CATEGORICAL_FEATURE_NAMES_lgb + [TARGET_NAME, 'APPLICATION_NUMBER']\n",
    "#NUMERICAL_FEATURE_NAMES = [i for i in train.columns if i not in exclude_list]"
   ]
  },
  {
   "cell_type": "markdown",
   "metadata": {},
   "source": [
    "### 5. Добавление к данным признаков на основе WOE"
   ]
  },
  {
   "cell_type": "markdown",
   "metadata": {},
   "source": [
    " #### WOE_bin_splits "
   ]
  },
  {
   "cell_type": "code",
   "execution_count": 24,
   "metadata": {},
   "outputs": [],
   "source": [
    "bin_splits = dict()\n",
    "for name in ['numeric', 'categorical']:\n",
    "    bin_splits[name] = dict()\n",
    "\n",
    "bin_splits['numeric'] = {\n",
    "    # clients\n",
    "    'EXTERNAL_SCORING_RATING_1': [-1, 0.1, 0.2, 0.3, 0.45, 0.6, 0.7, 1],\n",
    "    'EXTERNAL_SCORING_RATING_2': [-1, 0.2, 0.3, 0.45, 0.6, 0.7, 1],\n",
    "    'EXTERNAL_SCORING_RATING_3': [-1, 0.2, 0.3, 0.45, 0.6, 0.7, 1],\n",
    "    'AGE': [7488, 11000, 13000, 15000, 18000, 21000, 25230],\n",
    "    'OWN_CAR_AGE': [-1, 10, 45, 70],    \n",
    "    'DAYS_ON_LAST_JOB': [-1, 450, 1500, 2400, 15000, 365244],    \n",
    "    'REGION_POPULATION': [0, 0.008, 0.012, 0.026, 0.032, 0.073], \n",
    "    'AMOUNT_CREDIT_x': [45000, 2.3e+05, 3.4e+05, 5e+05, 7e+05, 1e+06, 4.05e+06],\n",
    "    'TOTAL_SALARY': [25650, 1.8e+05, 2.3e+05, 5e+06],\n",
    "    'AMOUNT_ANNUITY_x': [1615.5, 1.3e+04, 2e+04, 2.5e+04, 3.6e+04, 4.8e+04, 230162],\n",
    "    'AMT_REQ_CREDIT_BUREAU_YEAR': [0, 2, 4, 25],\n",
    "    \n",
    "    # bki\n",
    "    'DAYS_CREDIT_ENDDATE': [0, 100, 5e+04],\n",
    "    'DAYS_ENDDATE_FACT': [-1, 500, 3000],\n",
    "    'AMT_CREDIT_SUM': [-1, 5e+04, 4e+05,  4e+08],\n",
    "    'AMT_CREDIT_SUM_LIMIT': [-1, 1, 3e+06],\n",
    "    'DAYS_CREDIT_UPDATE': [-1, 30, 240, 700, 5e+04],\n",
    "    'AMT_CREDIT_MAX_OVERDUE': [-1, 1, 1.5e+07],\n",
    "    'AMT_CREDIT_SUM_DEBT': [-1, 1, 4.5e+07],\n",
    "    'DAYS_CREDIT': [-1, 360, 3000],\n",
    "    'AMT_CREDIT_SUM_OVERDUE': [-1, 1, 1.1e+06],\n",
    "    'AMT_ANNUITY': [-1, 1, 2e+06, 6e+07],\n",
    "    \n",
    "    # applications \n",
    "    'AMOUNT_ANNUITY_y': [-1, 2e+04, 5e+05],\n",
    "    'AMOUNT_CREDIT_y': [-1, 1, 1e+05, 3e+05, 1e+06, 1e+08],    \n",
    "    'AMOUNT_GOODS_PAYMENT': [-1, 1e+05, 2e+05, 3e+05, 8e+05, 5e+06],    \n",
    "    'DAYS_DECISION': [-1, 300, 600, 3000],        \n",
    "    'CNT_PAYMENT': [0, 6, 12, 24, 36, 84],    \n",
    "    \n",
    "    'DAYS_FIRST_DUE': [-1, 500, 365242, 365244],\n",
    "    'DAYS_LAST_DUE_1ST_VERSION': [-1, 180, 500, 900, 365242, 365244],\n",
    "    'DAYS_LAST_DUE': [-1, 500,  365242, 365244],\n",
    "    'DAYS_TERMINATION': [-1, 300, 600, 365242, 365244],\n",
    "    \n",
    "    #payments\n",
    "    'NUM_INSTALMENT_VERSION': [0, 3, 45],\n",
    "    'NUM_INSTALMENT_NUMBER': [-1, 3, 18, 255],\n",
    "    'DAYS_INSTALMENT': [-1, 300, 600, 1000, 1800, 3000],\n",
    "    'DAYS_ENTRY_PAYMENT': [-1, 300, 600, 1000, 3100],\n",
    "    'AMT_INSTALMENT': [0, 50, 200, 2.5e+06],    \n",
    "    'AMT_PAYMENT': [-1, 1e+03, 8e+03, 1e+04, 2.5e+06],    \n",
    "}\n",
    "\n",
    "bin_splits['categorical'] = {\n",
    "    # clients\n",
    "    'gender_education': ['0 0', '1 0', '0 1', '1 1'],\n",
    "    'family_status_size': ['1 0', '0 0', '0 1', '1 1'],\n",
    "    'AMT_REQ_CREDIT_BUREAU_mon_qtr': ['0 0', '1 1', '0 1', '1 0'],\n",
    "    'children_phone': ['0. 0.', '1. 0.', '0. 1.', '1. 1.'],\n",
    "    \n",
    "    # bki\n",
    "    'CREDIT_ACTIVE': ['Active'],\n",
    "    \n",
    "    # applications    \n",
    "    'NAME_CONTRACT_STATUS': ['Approved', 'Canceled', 'Refused'],\n",
    "    'NAME_PAYMENT_TYPE': ['Cash through the bank', 'XNA'],\n",
    "    'CODE_REJECT_REASON': ['XAP', 'HC'],\n",
    "    'NAME_TYPE_SUITE': ['Unaccompanied', 'Family'],\n",
    "    'NAME_CLIENT_TYPE': ['Repeater', 'Refreshed'],    \n",
    "    'NAME_PORTFOLIO': ['Cash', 'XNA', 'Cards'],\n",
    "    'NAME_PRODUCT_TYPE': ['x-sell', 'XNA', 'walk-in'],\n",
    "    'NAME_YIELD_GROUP': ['XNA', 'middle', 'low_normal', 'high', 'low_action'],\n",
    "}"
   ]
  },
  {
   "cell_type": "code",
   "execution_count": 25,
   "metadata": {},
   "outputs": [],
   "source": [
    "class WOEFeatures:\n",
    "    def __init__(self, CATEGORICAL_FEATURE_NAMES, bin_splits):        \n",
    "        self.CATEGORICAL_FEATURE_NAMES = CATEGORICAL_FEATURE_NAMES            \n",
    "        self.bin_split_numeric = bin_splits['numeric']\n",
    "        self.bin_split_categorical = bin_splits['categorical']      \n",
    "        \n",
    "        self.WOE = {}\n",
    "        self.NEW_VARIABLE_NAMES = []        \n",
    "        \n",
    "   \n",
    "    def WOE_formula(self, a, epsilon=1e-04):\n",
    "        a = a.mean()\n",
    "        if a == 1.0:\n",
    "            a -= epsilon\n",
    "        elif a == 0:\n",
    "            a += epsilon\n",
    "\n",
    "        return np.log(a / (1 - a))\n",
    "    \n",
    "    \n",
    "    def WOE_calc_numeric(self, df, feature): \n",
    "        bin_split = self.bin_split_numeric[feature]\n",
    "        feature_dict = {}\n",
    "        for i in range(1, len(bin_split)):        \n",
    "            cond_1 = df[feature] >= bin_split[i - 1]\n",
    "            cond_2 = df[feature] < bin_split[i]\n",
    "            a = df.loc[(cond_1 & cond_2), TARGET_NAME]\n",
    "             \n",
    "            feature_dict[bin_split[i]] = self.WOE_formula(a)\n",
    "        \n",
    "        return  feature_dict        \n",
    "        \n",
    "\n",
    "    def calc_a(self, df, sub_category):        \n",
    "        cond = df[feature] == sub_category[0]\n",
    "        for j in range(1, len(sub_category)):\n",
    "            cond |= (df[feature] == sub_category[j])        \n",
    "        a = df.loc[cond, TARGET_NAME]    \n",
    "        return a\n",
    "    \n",
    "\n",
    "    def WOE_calc_categorical(self, df, feature):\n",
    "        bin_split = self.bin_split_categorical[feature]\n",
    "        feature_dict = {}\n",
    "        for i in range(len(bin_split)):\n",
    "            sub_category = bin_split[i]\n",
    "            if isinstance(sub_category, list):                \n",
    "                a = self.calc_a(feature, sub_category) \n",
    "            else:\n",
    "                a = df.loc[df[feature] == sub_category, TARGET_NAME]\n",
    "            WOE_ = self.WOE_formula(a)       \n",
    "\n",
    "            if isinstance(sub_category, list):\n",
    "                for item in sub_category:\n",
    "                    feature_dict[item] = WOE_\n",
    "            else:\n",
    "                feature_dict[sub_category] = WOE_\n",
    "        \n",
    "        return feature_dict    \n",
    "    \n",
    "     \n",
    "    def fit_fransform(self, X, y=None):\n",
    "        df = X.copy()\n",
    "        \n",
    "        if y is not None:\n",
    "            df[TARGET_NAME] = y.values             \n",
    "            \n",
    "            for feature in self.bin_split_numeric.keys():             \n",
    "                self.WOE[feature] = self.WOE_calc_numeric(df, feature) \n",
    "                self.NEW_VARIABLE_NAMES.append(feature + '_')\n",
    "                \n",
    "            for feature in self.bin_split_categorical.keys():\n",
    "                self.WOE[feature] = self.WOE_calc_categorical(df, feature)\n",
    "                self.NEW_VARIABLE_NAMES.append(feature + '_')  \n",
    "\n",
    "\n",
    "        for feature in self.bin_split_numeric.keys():\n",
    "            new_feature = feature + '_' \n",
    "            feature_list = self.bin_split_numeric[feature]\n",
    "            for i in range(1, len(feature_list)):\n",
    "                cond_1 = X[feature] >= feature_list[i - 1]\n",
    "                cond_2 = X[feature] < feature_list[i]\n",
    "                X.loc[(cond_1 & cond_2), new_feature] = self.WOE[feature][feature_list[i]]\n",
    "                \n",
    "        if self.bin_split_categorical.keys():\n",
    "            for feature in self.bin_split_categorical.keys():\n",
    "                new_feature = feature + '_'            \n",
    "                feature_list = self.WOE[feature]\n",
    "                for item in feature_list:        \n",
    "                    X.loc[X[feature] == item, new_feature] = self.WOE[feature][item]\n",
    "        \n",
    "                  \n",
    "        return X"
   ]
  },
  {
   "cell_type": "markdown",
   "metadata": {},
   "source": [
    "#### Генерация WOE признаков для тестовой выборки"
   ]
  },
  {
   "cell_type": "code",
   "execution_count": 26,
   "metadata": {},
   "outputs": [],
   "source": [
    "features_ = [i for i in train.columns if i != TARGET_NAME]\n",
    "\n",
    "WOE_features = WOEFeatures(CATEGORICAL_FEATURE_NAMES, bin_splits)\n",
    "train_final = WOE_features.fit_fransform(train[features_], train[TARGET_NAME])\n",
    "test_final = WOE_features.fit_fransform(test[features_])"
   ]
  },
  {
   "cell_type": "markdown",
   "metadata": {},
   "source": [
    "### 6. Train-test split"
   ]
  },
  {
   "cell_type": "markdown",
   "metadata": {},
   "source": [
    "#### Train-test split OOF валидация"
   ]
  },
  {
   "cell_type": "code",
   "execution_count": 27,
   "metadata": {},
   "outputs": [],
   "source": [
    "def applications_split(i, target=0):\n",
    "    random.seed(i)    \n",
    "    appl_n = train.loc[train[TARGET_NAME] == target, 'APPLICATION_NUMBER'].unique()\n",
    "    \n",
    "    train_list = random.sample(list(appl_n), int(len(appl_n) * 0.7))                         \n",
    "    valid_list = random.sample(list(set(appl_n) - set(train_list)) , int(len(appl_n) * 0.2))\n",
    "    test_list = list(set(appl_n) - set(train_list) - set(valid_list))\n",
    "    \n",
    "    return train_list, valid_list, test_list\n",
    "\n",
    "\n",
    "def train_test_ind(i, no_valid):\n",
    "    train_list_0, valid_list_0, test_list_0 = applications_split(i, 0)\n",
    "    train_list_1, valid_list_1, test_list_1, = applications_split(i, 1)\n",
    "    \n",
    "    train_list = train_list_0 + train_list_1\n",
    "    valid_list = valid_list_0 + valid_list_1\n",
    "    test_list = test_list_0 + test_list_1\n",
    "    \n",
    "    if no_valid:\n",
    "        test_list += valid_list\n",
    "        ind_train = train[train['APPLICATION_NUMBER'].isin(train_list)].index\n",
    "        ind_test = train[train['APPLICATION_NUMBER'].isin(test_list)].index\n",
    "        \n",
    "        return ind_train, ind_test\n",
    "    \n",
    "    ind_train = train[train['APPLICATION_NUMBER'].isin(train_list)].index\n",
    "    ind_valid = train[train['APPLICATION_NUMBER'].isin(valid_list)].index\n",
    "    ind_test = train[train['APPLICATION_NUMBER'].isin(test_list)].index\n",
    "    \n",
    "    return ind_train, ind_valid, ind_test\n",
    "\n",
    "\n",
    "def train_test_split(i, no_valid=0):\n",
    "    \n",
    "    if no_valid:\n",
    "        ind_train, ind_test = train_test_ind(i, no_valid)        \n",
    "        df_train = train.loc[ind_train]\n",
    "        df_test = train.loc[ind_test]\n",
    "        y_train = df_train[TARGET_NAME]\n",
    "        y_test = df_test[TARGET_NAME]\n",
    "        \n",
    "        WOE_features = WOEFeatures(CATEGORICAL_FEATURE_NAMES, bin_splits)\n",
    "        df_train = WOE_features.fit_fransform(df_train[features_], df_train[TARGET_NAME])\n",
    "        df_test = WOE_features.fit_fransform(df_test[features_])\n",
    "        \n",
    "        return df_train, df_test, y_train, y_test\n",
    "    \n",
    "    ind_train, ind_valid, ind_test = train_test_ind(i, no_valid)\n",
    "    df_train = train.loc[ind_train]\n",
    "    df_valid = train.loc[ind_valid]\n",
    "    df_test = train.loc[ind_test]\n",
    "\n",
    "    y_train = df_train[TARGET_NAME]\n",
    "    y_valid = df_valid[TARGET_NAME]\n",
    "    y_test = df_test[TARGET_NAME]\n",
    "\n",
    "    WOE_features = WOEFeatures(CATEGORICAL_FEATURE_NAMES, bin_splits)\n",
    "    df_train = WOE_features.fit_fransform(df_train[features_], df_train[TARGET_NAME])\n",
    "    df_valid = WOE_features.fit_fransform(df_valid[features_])\n",
    "    df_test = WOE_features.fit_fransform(df_test[features_])    \n",
    "\n",
    "    return df_train, df_valid, df_test,  y_train, y_valid, y_test"
   ]
  },
  {
   "cell_type": "markdown",
   "metadata": {},
   "source": [
    "#### Train-test индексы для кросс-валидации"
   ]
  },
  {
   "cell_type": "code",
   "execution_count": 28,
   "metadata": {},
   "outputs": [],
   "source": [
    "def n_fold_applications_split(i, target, n_folds):\n",
    "    random.seed(i) \n",
    "    appl_n = train.loc[train[TARGET_NAME] == target, 'APPLICATION_NUMBER'].unique()\n",
    "    test_size = int(len(appl_n) / n_folds )\n",
    "    split_list = list(appl_n)\n",
    "    train_lists = {}\n",
    "    test_lists = {}    \n",
    "    for i in range(n_folds):\n",
    "        test_list = random.sample(split_list, test_size)\n",
    "        test_lists[i] = test_list\n",
    "        train_lists[i] = list(set(appl_n) - set(test_list))\n",
    "        split_list = list(set(split_list) - set(test_list))\n",
    "    \n",
    "    return train_lists, test_lists\n",
    "\n",
    "\n",
    "def n_fold_cv_ind(i, n_folds=5):\n",
    "    train_lists_0, test_lists_0 = n_fold_applications_split(i, 0, n_folds)\n",
    "    train_lists_1, test_lists_1 = n_fold_applications_split(i, 1, n_folds)\n",
    "    ind_cv = {}    \n",
    "    for i in range(n_folds):\n",
    "        train_list = train_lists_0[i] + train_lists_1[i]\n",
    "        test_list = test_lists_0[i] + test_lists_1[i]\n",
    "\n",
    "        ind_train = train[train['APPLICATION_NUMBER'].isin(train_list)].index\n",
    "        ind_test = train[train['APPLICATION_NUMBER'].isin(test_list)].index\n",
    "        ind_cv[i] = (ind_train, ind_test)\n",
    "        \n",
    "    return ind_cv"
   ]
  },
  {
   "cell_type": "markdown",
   "metadata": {},
   "source": [
    "### 7. Модели"
   ]
  },
  {
   "cell_type": "markdown",
   "metadata": {},
   "source": [
    "#### XGBoost\n",
    "* gbtree"
   ]
  },
  {
   "cell_type": "code",
   "execution_count": 29,
   "metadata": {},
   "outputs": [],
   "source": [
    "def run_model_xgb(SELECTED_FEATURE_NAMES, i):\n",
    "    df_train, df_valid, df_test, y_train, y_valid, y_test = train_test_split(i)\n",
    "    \n",
    "    dtrain = xgb.DMatrix(data=df_train[SELECTED_FEATURE_NAMES], label=y_train)\n",
    "    dvalid = xgb.DMatrix(data=df_valid[SELECTED_FEATURE_NAMES], label=y_valid)\n",
    "    dtest = xgb.DMatrix(data=df_test[SELECTED_FEATURE_NAMES], label=y_test)\n",
    "    \n",
    "    params_xgb = {\"booster\": \"gbtree\", \n",
    "                  \"objective\": \"binary:logistic\", \n",
    "                  \"eval_metric\": \"auc\", \n",
    "                  \"learning_rate\": 0.05,  \n",
    "                  \"reg_lambda\": 100, \n",
    "                  \"max_depth\": 4, \n",
    "                  \"gamma\": 10, \n",
    "                  \"nthread\": 6, \n",
    "                  \"seed\": i} #27\n",
    "\n",
    "    model_xgb = xgb.train(params=params_xgb,\n",
    "                          dtrain=dtrain,\n",
    "                          num_boost_round=1000,\n",
    "                          early_stopping_rounds=50,\n",
    "                          evals=[(dtrain, \"train\"), (dvalid, \"valid\"), (dtest, \"test\")],\n",
    "                          verbose_eval=50,\n",
    "                          maximize=True)\n",
    "    \n",
    "    return model_xgb"
   ]
  },
  {
   "cell_type": "markdown",
   "metadata": {},
   "source": [
    "* dart"
   ]
  },
  {
   "cell_type": "code",
   "execution_count": 30,
   "metadata": {},
   "outputs": [],
   "source": [
    "def run_model_xgb_dart(SELECTED_FEATURE_NAMES, i):\n",
    "    df_train, df_valid, df_test, y_train, y_valid, y_test = train_test_split(i)\n",
    "    \n",
    "    dtrain = xgb.DMatrix(data=df_train[SELECTED_FEATURE_NAMES], label=y_train)\n",
    "    dvalid = xgb.DMatrix(data=df_valid[SELECTED_FEATURE_NAMES], label=y_valid)\n",
    "    dtest = xgb.DMatrix(data=df_test[SELECTED_FEATURE_NAMES], label=y_test)\n",
    "    \n",
    "    params_xgb = {\"booster\": \"dart\", \n",
    "                  \"objective\": \"binary:logistic\", \n",
    "                  \"eval_metric\": \"auc\", \n",
    "                  \"learning_rate\": 0.05, \n",
    "                  \"skip_drop\": 0.5,\n",
    "                  \"rate_drop\": 0.5,\n",
    "                  \"reg_lambda\": 100, \n",
    "                  \"max_depth\": 4, \n",
    "                  \"gamma\": 10, \n",
    "                  \"nthread\": 6, \n",
    "                  \"seed\": i} #27\n",
    "\n",
    "    model_xgb = xgb.train(params=params_xgb,\n",
    "                          dtrain=dtrain,\n",
    "                          num_boost_round=1000,\n",
    "                          early_stopping_rounds=50,\n",
    "                          evals=[(dtrain, \"train\"), (dvalid, \"valid\"), (dtest, \"test\")],\n",
    "                          verbose_eval=50,\n",
    "                          maximize=True)\n",
    "    \n",
    "    return model_xgb"
   ]
  },
  {
   "cell_type": "markdown",
   "metadata": {},
   "source": [
    "* gblinear"
   ]
  },
  {
   "cell_type": "code",
   "execution_count": 31,
   "metadata": {},
   "outputs": [],
   "source": [
    "def run_model_xgb_linear(SELECTED_FEATURE_NAMES, i):\n",
    "    df_train, df_valid, df_test, y_train, y_valid, y_test = train_test_split(i)\n",
    "    \n",
    "    dtrain = xgb.DMatrix(data=df_train[SELECTED_FEATURE_NAMES], label=y_train)\n",
    "    dvalid = xgb.DMatrix(data=df_valid[SELECTED_FEATURE_NAMES], label=y_valid)\n",
    "    dtest = xgb.DMatrix(data=df_test[SELECTED_FEATURE_NAMES], label=y_test)\n",
    "    \n",
    "    params_xgb = {\"booster\": \"gblinear\", \n",
    "                  \"objective\": \"binary:logistic\", \n",
    "                  \"eval_metric\": \"auc\", \n",
    "                  \"learning_rate\": 0.1,  \n",
    "                  \"reg_lambda\": 100,\n",
    "                  \"nthread\": 6, \n",
    "                  \"seed\": i} #27\n",
    "\n",
    "    model_xgb = xgb.train(params=params_xgb,\n",
    "                          dtrain=dtrain,\n",
    "                          num_boost_round=10000,\n",
    "                          early_stopping_rounds=50,\n",
    "                          evals=[(dtrain, \"train\"), (dvalid, \"valid\"), (dtest, \"test\")],\n",
    "                          verbose_eval=500,\n",
    "                          maximize=True)\n",
    "    \n",
    "    return model_xgb"
   ]
  },
  {
   "cell_type": "markdown",
   "metadata": {},
   "source": [
    "#### LightGBM"
   ]
  },
  {
   "cell_type": "markdown",
   "metadata": {},
   "source": [
    "* gbdt"
   ]
  },
  {
   "cell_type": "code",
   "execution_count": 32,
   "metadata": {},
   "outputs": [],
   "source": [
    "def run_model_lgb(SELECTED_FEATURE_NAMES, i):\n",
    "    df_train, df_valid, df_test, y_train, y_valid, y_test = train_test_split(i)\n",
    "    \n",
    "    \n",
    "    dtrain = lgb.Dataset(data=df_train[SELECTED_FEATURE_NAMES], label=y_train,\n",
    "                         categorical_feature=CATEGORICAL_FEATURE_NAMES_lgb)\n",
    "    dvalid = lgb.Dataset(data=df_valid[SELECTED_FEATURE_NAMES], label=y_valid,\n",
    "                         categorical_feature=CATEGORICAL_FEATURE_NAMES_lgb)\n",
    "    dtest = lgb.Dataset(data=df_test[SELECTED_FEATURE_NAMES], label=y_test,\n",
    "                        categorical_feature=CATEGORICAL_FEATURE_NAMES_lgb)\n",
    "    \n",
    "    params_lgb = {\"boosting_type\": \"gbdt\",\n",
    "                  \"objective\": \"binary\",\n",
    "                  \"metric\": \"auc\",\n",
    "                  \"num_boost_round\": 10000,  \n",
    "                  \"learning_rate\": 0.01,          \n",
    "                  \"class_weight\": 'balanced',\n",
    "                  \"max_depth\": 4,\n",
    "                  \"n_estimators\": 5000,\n",
    "                  \"n_jobs\": 6,\n",
    "                  \"seed\": i} \n",
    "\n",
    "    model_lgb = lgb.train(params=params_lgb,\n",
    "                          train_set=dtrain,  \n",
    "                          valid_sets=[dtrain, dvalid, dtest],\n",
    "                          categorical_feature=CATEGORICAL_FEATURE_NAMES_lgb, \n",
    "                          verbose_eval=100,\n",
    "                          early_stopping_rounds=50)\n",
    "    \n",
    "    return model_lgb"
   ]
  },
  {
   "cell_type": "markdown",
   "metadata": {},
   "source": [
    "* dart"
   ]
  },
  {
   "cell_type": "code",
   "execution_count": 33,
   "metadata": {},
   "outputs": [],
   "source": [
    "def run_model_lgb_dart(SELECTED_FEATURE_NAMES, i):\n",
    "    df_train, df_valid, df_test, y_train, y_valid, y_test = train_test_split(i)\n",
    "    \n",
    "    \n",
    "    dtrain = lgb.Dataset(data=df_train[SELECTED_FEATURE_NAMES], label=y_train,\n",
    "                         categorical_feature=CATEGORICAL_FEATURE_NAMES_lgb)\n",
    "    dvalid = lgb.Dataset(data=df_valid[SELECTED_FEATURE_NAMES], label=y_valid,\n",
    "                         categorical_feature=CATEGORICAL_FEATURE_NAMES_lgb)\n",
    "    dtest = lgb.Dataset(data=df_test[SELECTED_FEATURE_NAMES], label=y_test,\n",
    "                        categorical_feature=CATEGORICAL_FEATURE_NAMES_lgb)\n",
    "    \n",
    "    params_lgb = {\"boosting_type\": \"dart\",\n",
    "                  \"objective\": \"binary\",\n",
    "                  \"metric\": \"auc\",\n",
    "                  \"num_boost_round\": 10000,  \n",
    "                  \"learning_rate\": 0.05,\n",
    "                  \"skip_drop\": 0.5,\n",
    "                  \"rate_drop\": 0.3,                  \n",
    "                  \"class_weight\": 'balanced',\n",
    "                  \"max_depth\": 4,\n",
    "                  \"n_estimators\": 2000,\n",
    "                  \"n_jobs\": 6,\n",
    "                  \"seed\": i} \n",
    "\n",
    "    model_lgb = lgb.train(params=params_lgb,\n",
    "                          train_set=dtrain,  \n",
    "                          valid_sets=[dtrain, dvalid, dtest],\n",
    "                          categorical_feature=CATEGORICAL_FEATURE_NAMES_lgb, \n",
    "                          verbose_eval=500,                                                   \n",
    "                          early_stopping_rounds=20)\n",
    "    \n",
    "    return model_lgb"
   ]
  },
  {
   "cell_type": "markdown",
   "metadata": {},
   "source": [
    "#### CatBoost"
   ]
  },
  {
   "cell_type": "code",
   "execution_count": 34,
   "metadata": {},
   "outputs": [],
   "source": [
    "def run_model_cb(SELECTED_FEATURE_NAMES, i):\n",
    "    df_train, df_valid, df_test, y_train, y_valid, y_test = train_test_split(i)\n",
    "    \n",
    "    \n",
    "    dtrain = Pool(data=df_train[SELECTED_FEATURE_NAMES], label=y_train,\n",
    "                         cat_features=CATEGORICAL_FEATURE_NAMES)\n",
    "    dvalid = Pool(data=df_valid[SELECTED_FEATURE_NAMES], label=y_valid,\n",
    "                         cat_features=CATEGORICAL_FEATURE_NAMES)\n",
    "    dtest = Pool(data=df_test[SELECTED_FEATURE_NAMES], label=y_test,\n",
    "                        cat_features=CATEGORICAL_FEATURE_NAMES)\n",
    "    \n",
    "    params_cb = {\"n_estimators\":5000,\n",
    "                 \"loss_function\": \"Logloss\",\n",
    "                 \"eval_metric\": \"AUC\",\n",
    "                 \"task_type\": \"CPU\",\n",
    "                 \"max_bin\": 30,\n",
    "                 \"early_stopping_rounds\": 50,\n",
    "                 \"verbose\": 100,\n",
    "                 \"max_depth\": 5,\n",
    "                 \"l2_leaf_reg\": 80, \n",
    "                 \"thread_count\": 6,\n",
    "                 \"random_seed\": i}\n",
    "\n",
    "    model_cb = CatBoostClassifier(**params_cb)\n",
    "    model_cb.fit(dtrain, eval_set=[dvalid, dtest])\n",
    "    \n",
    "    return model_cb"
   ]
  },
  {
   "cell_type": "markdown",
   "metadata": {},
   "source": [
    "#### Random Forest"
   ]
  },
  {
   "cell_type": "code",
   "execution_count": 35,
   "metadata": {},
   "outputs": [],
   "source": [
    "def run_model_rf(SELECTED_FEATURE_NAMES, i):\n",
    "    df_train, df_test, y_train, y_test = train_test_split(i, 1)\n",
    "    \n",
    "    params_rf = {\"n_estimators\": 300,\n",
    "                 \"max_depth\": 6,\n",
    "                 \"class_weight\": 'balanced_subsample',                 \n",
    "                 \"random_state\": i}\n",
    "\n",
    "    model_rf = RandomForestClassifier(**params_rf)\n",
    "    model_rf.fit(df_train[SELECTED_FEATURE_NAMES].fillna(-99), y_train)\n",
    "    \n",
    "    y_train_pred = model_rf.predict_proba(df_train[SELECTED_FEATURE_NAMES].fillna(-99))[:, 1]\n",
    "    y_test_pred = model_rf.predict_proba(df_test[SELECTED_FEATURE_NAMES].fillna(-99))[:, 1]\n",
    "    \n",
    "    print('roc_auc_score train =', roc_auc_score(y_train, y_train_pred))\n",
    "    print('roc_auc_score test =', roc_auc_score(y_test, y_test_pred))\n",
    "    \n",
    "    return model_rf"
   ]
  },
  {
   "cell_type": "markdown",
   "metadata": {},
   "source": [
    "### 8. Отбор признаков"
   ]
  },
  {
   "cell_type": "code",
   "execution_count": 36,
   "metadata": {},
   "outputs": [],
   "source": [
    "SELECTED_FEATURE_NAMES_xgb = NUMERICAL_FEATURE_NAMES + WOE_features.NEW_VARIABLE_NAMES\n",
    "SELECTED_FEATURE_NAMES_lgb = SELECTED_FEATURE_NAMES_xgb + CATEGORICAL_FEATURE_NAMES_lgb \n",
    "SELECTED_FEATURE_NAMES_cb = SELECTED_FEATURE_NAMES_xgb + CATEGORICAL_FEATURE_NAMES\n",
    "SELECTED_FEATURE_NAMES_rf = SELECTED_FEATURE_NAMES_xgb"
   ]
  },
  {
   "cell_type": "markdown",
   "metadata": {},
   "source": [
    "#### Base model XGBoost"
   ]
  },
  {
   "cell_type": "markdown",
   "metadata": {},
   "source": [
    "* gbtree"
   ]
  },
  {
   "cell_type": "code",
   "execution_count": 37,
   "metadata": {},
   "outputs": [
    {
     "name": "stdout",
     "output_type": "stream",
     "text": [
      "[0]\ttrain-auc:0.60304\tvalid-auc:0.60438\ttest-auc:0.60028\n",
      "Multiple eval metrics have been passed: 'test-auc' will be used for early stopping.\n",
      "\n",
      "Will train until test-auc hasn't improved in 50 rounds.\n",
      "[50]\ttrain-auc:0.70753\tvalid-auc:0.69755\ttest-auc:0.68609\n",
      "[100]\ttrain-auc:0.72740\tvalid-auc:0.71642\ttest-auc:0.70133\n",
      "[150]\ttrain-auc:0.73573\tvalid-auc:0.72218\ttest-auc:0.70991\n",
      "[200]\ttrain-auc:0.73686\tvalid-auc:0.72321\ttest-auc:0.71103\n",
      "Stopping. Best iteration:\n",
      "[158]\ttrain-auc:0.73648\tvalid-auc:0.72261\ttest-auc:0.71115\n",
      "\n"
     ]
    }
   ],
   "source": [
    "i = 42\n",
    "model_xgb = run_model_xgb(SELECTED_FEATURE_NAMES_xgb, i)\n",
    "#[158]\ttrain-auc:0.73648\tvalid-auc:0.72261\ttest-auc:0.71115"
   ]
  },
  {
   "cell_type": "code",
   "execution_count": 38,
   "metadata": {},
   "outputs": [],
   "source": [
    "df_train, df_valid, df_test, y_train, y_valid, y_test = train_test_split(i)\n",
    "explainer = shap.TreeExplainer(model_xgb)\n",
    "shap_values = explainer.shap_values(df_valid[SELECTED_FEATURE_NAMES_xgb], y_valid)"
   ]
  },
  {
   "cell_type": "code",
   "execution_count": 39,
   "metadata": {},
   "outputs": [
    {
     "data": {
      "text/plain": [
       "53"
      ]
     },
     "execution_count": 39,
     "metadata": {},
     "output_type": "execute_result"
    }
   ],
   "source": [
    "shap_importances = pd.DataFrame(shap_values.mean(axis=0), SELECTED_FEATURE_NAMES_xgb, columns=['shap_values'])\n",
    "shap_importances.loc[:, 'abs_shap_values'] = abs(shap_importances['shap_values'])\n",
    "shap_importances = shap_importances.sort_values(by='abs_shap_values', ascending=False)\n",
    "\n",
    "features = shap_importances[shap_importances['abs_shap_values'] > 0].index.tolist()\n",
    "len(features)"
   ]
  },
  {
   "cell_type": "code",
   "execution_count": 40,
   "metadata": {},
   "outputs": [
    {
     "data": {
      "image/png": "[encoded data removed]",
      "text/plain": [
       "<Figure size 576x684 with 2 Axes>"
      ]
     },
     "metadata": {
      "needs_background": "light"
     },
     "output_type": "display_data"
    }
   ],
   "source": [
    "shap.summary_plot(shap_values, df_valid[SELECTED_FEATURE_NAMES_xgb])"
   ]
  },
  {
   "cell_type": "code",
   "execution_count": 41,
   "metadata": {},
   "outputs": [
    {
     "name": "stdout",
     "output_type": "stream",
     "text": [
      "[0]\ttrain-auc:0.60304\tvalid-auc:0.60438\ttest-auc:0.60028\n",
      "Multiple eval metrics have been passed: 'test-auc' will be used for early stopping.\n",
      "\n",
      "Will train until test-auc hasn't improved in 50 rounds.\n",
      "[50]\ttrain-auc:0.70753\tvalid-auc:0.69755\ttest-auc:0.68609\n",
      "[100]\ttrain-auc:0.72740\tvalid-auc:0.71642\ttest-auc:0.70133\n",
      "[150]\ttrain-auc:0.73573\tvalid-auc:0.72218\ttest-auc:0.70991\n",
      "[200]\ttrain-auc:0.73686\tvalid-auc:0.72321\ttest-auc:0.71103\n",
      "Stopping. Best iteration:\n",
      "[158]\ttrain-auc:0.73648\tvalid-auc:0.72261\ttest-auc:0.71115\n",
      "\n"
     ]
    }
   ],
   "source": [
    "model_xgb = run_model_xgb(features, i)\n",
    "# [158]\ttrain-auc:0.73648\tvalid-auc:0.72261\ttest-auc:0.71115"
   ]
  },
  {
   "cell_type": "code",
   "execution_count": 42,
   "metadata": {},
   "outputs": [],
   "source": [
    "SELECTED_FEATURE_NAMES_xgb = features"
   ]
  },
  {
   "cell_type": "markdown",
   "metadata": {},
   "source": [
    "* dart"
   ]
  },
  {
   "cell_type": "code",
   "execution_count": 43,
   "metadata": {},
   "outputs": [
    {
     "name": "stdout",
     "output_type": "stream",
     "text": [
      "[0]\ttrain-auc:0.60304\tvalid-auc:0.60438\ttest-auc:0.60028\n",
      "Multiple eval metrics have been passed: 'test-auc' will be used for early stopping.\n",
      "\n",
      "Will train until test-auc hasn't improved in 50 rounds.\n",
      "[50]\ttrain-auc:0.69052\tvalid-auc:0.68523\ttest-auc:0.67527\n",
      "[100]\ttrain-auc:0.71113\tvalid-auc:0.70070\ttest-auc:0.68931\n",
      "[150]\ttrain-auc:0.72212\tvalid-auc:0.71139\ttest-auc:0.69594\n",
      "[200]\ttrain-auc:0.72820\tvalid-auc:0.71654\ttest-auc:0.70149\n",
      "[250]\ttrain-auc:0.73272\tvalid-auc:0.71972\ttest-auc:0.70652\n",
      "[300]\ttrain-auc:0.73542\tvalid-auc:0.72202\ttest-auc:0.70826\n",
      "[350]\ttrain-auc:0.73642\tvalid-auc:0.72287\ttest-auc:0.70932\n",
      "[400]\ttrain-auc:0.73701\tvalid-auc:0.72349\ttest-auc:0.71000\n",
      "[450]\ttrain-auc:0.73749\tvalid-auc:0.72363\ttest-auc:0.71015\n",
      "Stopping. Best iteration:\n",
      "[413]\ttrain-auc:0.73747\tvalid-auc:0.72365\ttest-auc:0.71025\n",
      "\n"
     ]
    }
   ],
   "source": [
    "model_xgb_dart = run_model_xgb_dart(SELECTED_FEATURE_NAMES_xgb, i)\n",
    "# [413]\ttrain-auc:0.73747\tvalid-auc:0.72365\ttest-auc:0.71025 "
   ]
  },
  {
   "cell_type": "markdown",
   "metadata": {},
   "source": [
    "* gblinear"
   ]
  },
  {
   "cell_type": "code",
   "execution_count": 44,
   "metadata": {},
   "outputs": [
    {
     "name": "stdout",
     "output_type": "stream",
     "text": [
      "[0]\ttrain-auc:0.55588\tvalid-auc:0.54410\ttest-auc:0.52761\n",
      "Multiple eval metrics have been passed: 'test-auc' will be used for early stopping.\n",
      "\n",
      "Will train until test-auc hasn't improved in 50 rounds.\n",
      "[500]\ttrain-auc:0.67554\tvalid-auc:0.66804\ttest-auc:0.65992\n",
      "[1000]\ttrain-auc:0.67945\tvalid-auc:0.67177\ttest-auc:0.66184\n",
      "Stopping. Best iteration:\n",
      "[992]\ttrain-auc:0.67942\tvalid-auc:0.67176\ttest-auc:0.66187\n",
      "\n"
     ]
    }
   ],
   "source": [
    "model_xgb_linear = run_model_xgb_linear(SELECTED_FEATURE_NAMES_xgb, i)\n",
    "# [995]\ttrain-auc:0.67944\tvalid-auc:0.67178\ttest-auc:0.66190"
   ]
  },
  {
   "cell_type": "markdown",
   "metadata": {},
   "source": [
    "#### Base model LightGBM"
   ]
  },
  {
   "cell_type": "code",
   "execution_count": 45,
   "metadata": {},
   "outputs": [
    {
     "name": "stdout",
     "output_type": "stream",
     "text": [
      "Training until validation scores don't improve for 50 rounds\n",
      "[100]\ttraining's auc: 0.719541\tvalid_1's auc: 0.706359\tvalid_2's auc: 0.693098\n",
      "[200]\ttraining's auc: 0.729472\tvalid_1's auc: 0.713504\tvalid_2's auc: 0.698455\n",
      "[300]\ttraining's auc: 0.740197\tvalid_1's auc: 0.719792\tvalid_2's auc: 0.704773\n",
      "[400]\ttraining's auc: 0.748134\tvalid_1's auc: 0.722551\tvalid_2's auc: 0.709719\n",
      "[500]\ttraining's auc: 0.755425\tvalid_1's auc: 0.724312\tvalid_2's auc: 0.711888\n",
      "[600]\ttraining's auc: 0.761503\tvalid_1's auc: 0.725006\tvalid_2's auc: 0.713357\n",
      "[700]\ttraining's auc: 0.766549\tvalid_1's auc: 0.725571\tvalid_2's auc: 0.714301\n",
      "Early stopping, best iteration is:\n",
      "[671]\ttraining's auc: 0.765193\tvalid_1's auc: 0.725737\tvalid_2's auc: 0.713897\n"
     ]
    }
   ],
   "source": [
    "model_lgb = run_model_lgb(SELECTED_FEATURE_NAMES_lgb, i)\n",
    "#[671]\ttraining's auc: 0.765193\tvalid_1's auc: 0.725737\tvalid_2's auc: 0.713897"
   ]
  },
  {
   "cell_type": "code",
   "execution_count": 46,
   "metadata": {},
   "outputs": [],
   "source": [
    "explainer = shap.TreeExplainer(model_lgb)\n",
    "shap_values = explainer.shap_values(df_valid[SELECTED_FEATURE_NAMES_lgb], y_valid)"
   ]
  },
  {
   "cell_type": "code",
   "execution_count": 47,
   "metadata": {},
   "outputs": [
    {
     "data": {
      "text/plain": [
       "101"
      ]
     },
     "execution_count": 47,
     "metadata": {},
     "output_type": "execute_result"
    }
   ],
   "source": [
    "shap_importances = pd.DataFrame(shap_values[1].mean(axis=0), SELECTED_FEATURE_NAMES_lgb, columns=['shap_values'])\n",
    "shap_importances.loc[:, 'abs_shap_values'] = abs(shap_importances['shap_values'])\n",
    "shap_importances = shap_importances.sort_values(by='abs_shap_values', ascending=False)\n",
    "\n",
    "features = shap_importances[shap_importances['abs_shap_values'] > 5e-06].index.tolist()\n",
    "len(features)"
   ]
  },
  {
   "cell_type": "code",
   "execution_count": 48,
   "metadata": {},
   "outputs": [],
   "source": [
    "CATEGORICAL_FEATURE_NAMES_lgb = [i for i in features if i in CATEGORICAL_FEATURE_NAMES_lgb]"
   ]
  },
  {
   "cell_type": "code",
   "execution_count": 49,
   "metadata": {},
   "outputs": [
    {
     "name": "stdout",
     "output_type": "stream",
     "text": [
      "Training until validation scores don't improve for 50 rounds\n",
      "[100]\ttraining's auc: 0.719761\tvalid_1's auc: 0.706462\tvalid_2's auc: 0.692973\n",
      "[200]\ttraining's auc: 0.729411\tvalid_1's auc: 0.713513\tvalid_2's auc: 0.698704\n",
      "[300]\ttraining's auc: 0.740177\tvalid_1's auc: 0.719645\tvalid_2's auc: 0.704514\n",
      "[400]\ttraining's auc: 0.748164\tvalid_1's auc: 0.722573\tvalid_2's auc: 0.710341\n",
      "[500]\ttraining's auc: 0.755117\tvalid_1's auc: 0.724241\tvalid_2's auc: 0.712563\n",
      "[600]\ttraining's auc: 0.761253\tvalid_1's auc: 0.725653\tvalid_2's auc: 0.714005\n",
      "[700]\ttraining's auc: 0.766663\tvalid_1's auc: 0.726298\tvalid_2's auc: 0.715331\n",
      "Early stopping, best iteration is:\n",
      "[708]\ttraining's auc: 0.767096\tvalid_1's auc: 0.726251\tvalid_2's auc: 0.715608\n"
     ]
    }
   ],
   "source": [
    "model_lgb = run_model_lgb(features, i)\n",
    "#[708]\ttraining's auc: 0.767096\tvalid_1's auc: 0.726251\tvalid_2's auc: 0.715608"
   ]
  },
  {
   "cell_type": "code",
   "execution_count": 50,
   "metadata": {},
   "outputs": [],
   "source": [
    "SELECTED_FEATURE_NAMES_lgb = features"
   ]
  },
  {
   "cell_type": "markdown",
   "metadata": {},
   "source": [
    "* dart"
   ]
  },
  {
   "cell_type": "code",
   "execution_count": 51,
   "metadata": {},
   "outputs": [
    {
     "name": "stdout",
     "output_type": "stream",
     "text": [
      "[500]\ttraining's auc: 0.75521\tvalid_1's auc: 0.722591\tvalid_2's auc: 0.710622\n",
      "[1000]\ttraining's auc: 0.798561\tvalid_1's auc: 0.724678\tvalid_2's auc: 0.714383\n",
      "[1500]\ttraining's auc: 0.832232\tvalid_1's auc: 0.723231\tvalid_2's auc: 0.715568\n",
      "[2000]\ttraining's auc: 0.857116\tvalid_1's auc: 0.720452\tvalid_2's auc: 0.716447\n"
     ]
    }
   ],
   "source": [
    "model_lgb_dart = run_model_lgb_dart(SELECTED_FEATURE_NAMES_lgb, i)\n",
    "# [2000]\ttraining's auc: 0.857116\tvalid_1's auc: 0.720452\tvalid_2's auc: 0.716447 0.5 0.3 lr 0.05 stop 20"
   ]
  },
  {
   "cell_type": "markdown",
   "metadata": {},
   "source": [
    "#### Base model Catboost"
   ]
  },
  {
   "cell_type": "code",
   "execution_count": 52,
   "metadata": {},
   "outputs": [
    {
     "name": "stdout",
     "output_type": "stream",
     "text": [
      "0:\ttest: 0.6159018\ttest1: 0.6104511\tbest: 0.6104511 (0)\ttotal: 574ms\tremaining: 47m 47s\n",
      "100:\ttest: 0.7129756\ttest1: 0.7002038\tbest: 0.7002038 (100)\ttotal: 20.7s\tremaining: 16m 45s\n",
      "200:\ttest: 0.7203491\ttest1: 0.7075849\tbest: 0.7075870 (199)\ttotal: 39.9s\tremaining: 15m 51s\n",
      "300:\ttest: 0.7223720\ttest1: 0.7091434\tbest: 0.7092583 (298)\ttotal: 58.1s\tremaining: 15m 7s\n",
      "400:\ttest: 0.7240360\ttest1: 0.7102587\tbest: 0.7102587 (400)\ttotal: 1m 14s\tremaining: 14m 14s\n",
      "500:\ttest: 0.7245415\ttest1: 0.7112093\tbest: 0.7112101 (496)\ttotal: 1m 32s\tremaining: 13m 54s\n",
      "600:\ttest: 0.7246919\ttest1: 0.7117751\tbest: 0.7117777 (595)\ttotal: 1m 47s\tremaining: 13m 4s\n",
      "Stopped by overfitting detector  (50 iterations wait)\n",
      "\n",
      "bestTest = 0.7118630863\n",
      "bestIteration = 613\n",
      "\n",
      "Shrink model to first 614 iterations.\n"
     ]
    }
   ],
   "source": [
    "model_cb = run_model_cb(SELECTED_FEATURE_NAMES_cb, i)\n",
    "# bestTest = 0.7118630863\n",
    "# bestIteration = 613"
   ]
  },
  {
   "cell_type": "code",
   "execution_count": 53,
   "metadata": {},
   "outputs": [],
   "source": [
    "shap_values_cb = model_cb.get_feature_importance(data=Pool(data=df_valid[SELECTED_FEATURE_NAMES_cb],\n",
    "                                                           label=y_valid, cat_features=CATEGORICAL_FEATURE_NAMES), \n",
    "                                                 fstr_type='ShapValues',\n",
    "                                                 prettified=True)"
   ]
  },
  {
   "cell_type": "code",
   "execution_count": 54,
   "metadata": {},
   "outputs": [
    {
     "data": {
      "text/plain": [
       "75"
      ]
     },
     "execution_count": 54,
     "metadata": {},
     "output_type": "execute_result"
    }
   ],
   "source": [
    "a = shap_values_cb.mean(axis=0)\n",
    "features = [SELECTED_FEATURE_NAMES_cb[i] for i in a[abs(a) > 3e-04].index[:-1]]\n",
    "features = [i for i in features if i not in CATEGORICAL_FEATURE_NAMES] + CATEGORICAL_FEATURE_NAMES\n",
    "len(features)"
   ]
  },
  {
   "cell_type": "code",
   "execution_count": 55,
   "metadata": {},
   "outputs": [
    {
     "name": "stdout",
     "output_type": "stream",
     "text": [
      "0:\ttest: 0.6702045\ttest1: 0.6508507\tbest: 0.6508507 (0)\ttotal: 159ms\tremaining: 13m 14s\n",
      "100:\ttest: 0.7126078\ttest1: 0.6991399\tbest: 0.6992243 (99)\ttotal: 15.6s\tremaining: 12m 36s\n",
      "200:\ttest: 0.7205548\ttest1: 0.7058374\tbest: 0.7058374 (200)\ttotal: 30.6s\tremaining: 12m 10s\n",
      "300:\ttest: 0.7233776\ttest1: 0.7093241\tbest: 0.7093399 (299)\ttotal: 44.8s\tremaining: 11m 40s\n",
      "400:\ttest: 0.7247165\ttest1: 0.7110121\tbest: 0.7110121 (400)\ttotal: 58.6s\tremaining: 11m 12s\n",
      "500:\ttest: 0.7258057\ttest1: 0.7117947\tbest: 0.7120212 (469)\ttotal: 1m 10s\tremaining: 10m 35s\n",
      "Stopped by overfitting detector  (50 iterations wait)\n",
      "\n",
      "bestTest = 0.7120212334\n",
      "bestIteration = 469\n",
      "\n",
      "Shrink model to first 470 iterations.\n"
     ]
    }
   ],
   "source": [
    "model_cb = run_model_cb(features, i)\n",
    "# bestTest = 0.7120212334\n",
    "# bestIteration = 469"
   ]
  },
  {
   "cell_type": "code",
   "execution_count": 56,
   "metadata": {},
   "outputs": [],
   "source": [
    "SELECTED_FEATURE_NAMES_cb = features"
   ]
  },
  {
   "cell_type": "markdown",
   "metadata": {},
   "source": [
    "#### Base model Random Forest"
   ]
  },
  {
   "cell_type": "code",
   "execution_count": 57,
   "metadata": {},
   "outputs": [
    {
     "name": "stdout",
     "output_type": "stream",
     "text": [
      "roc_auc_score train = 0.7385341672414412\n",
      "roc_auc_score test = 0.7049417994626845\n"
     ]
    }
   ],
   "source": [
    "model_rf = run_model_rf(SELECTED_FEATURE_NAMES_rf, i)\n",
    "#roc_auc_score train = 0.7385341672414412\n",
    "#roc_auc_score test = 0.7049417994626845"
   ]
  },
  {
   "cell_type": "code",
   "execution_count": 58,
   "metadata": {},
   "outputs": [],
   "source": [
    "explainer = shap.TreeExplainer(model_rf)\n",
    "shap_values = explainer.shap_values(df_valid[SELECTED_FEATURE_NAMES_rf], y_valid)"
   ]
  },
  {
   "cell_type": "code",
   "execution_count": 59,
   "metadata": {},
   "outputs": [
    {
     "data": {
      "text/plain": [
       "123"
      ]
     },
     "execution_count": 59,
     "metadata": {},
     "output_type": "execute_result"
    }
   ],
   "source": [
    "shap_importances = pd.DataFrame(shap_values[1].mean(axis=0), SELECTED_FEATURE_NAMES_rf, columns=['shap_values'])\n",
    "shap_importances.loc[:, 'abs_shap_values'] = abs(shap_importances['shap_values'])\n",
    "shap_importances = shap_importances.sort_values(by='abs_shap_values', ascending=False)\n",
    "\n",
    "features = shap_importances[shap_importances['abs_shap_values'] > 1e-05].index.tolist()\n",
    "len(features)"
   ]
  },
  {
   "cell_type": "code",
   "execution_count": 60,
   "metadata": {},
   "outputs": [
    {
     "name": "stdout",
     "output_type": "stream",
     "text": [
      "roc_auc_score train = 0.7379033097512668\n",
      "roc_auc_score test = 0.7054706148754486\n"
     ]
    }
   ],
   "source": [
    "model_rf = run_model_rf(features, i)\n",
    "# roc_auc_score train = 0.6654171034486742\n",
    "# roc_auc_score test = 0.6447353289036946 "
   ]
  },
  {
   "cell_type": "code",
   "execution_count": 61,
   "metadata": {},
   "outputs": [],
   "source": [
    "SELECTED_FEATURE_NAMES_rf = features"
   ]
  },
  {
   "cell_type": "code",
   "execution_count": 62,
   "metadata": {},
   "outputs": [
    {
     "data": {
      "text/plain": [
       "184"
      ]
     },
     "execution_count": 62,
     "metadata": {},
     "output_type": "execute_result"
    }
   ],
   "source": [
    "gc.collect()"
   ]
  },
  {
   "cell_type": "markdown",
   "metadata": {},
   "source": [
    "### 9. Ансамблирование моделей"
   ]
  },
  {
   "cell_type": "markdown",
   "metadata": {},
   "source": [
    "#### XGBoost"
   ]
  },
  {
   "cell_type": "code",
   "execution_count": 63,
   "metadata": {},
   "outputs": [],
   "source": [
    "def cross_validation_xgb(i):\n",
    "    ind_cv = n_fold_cv_ind(i)\n",
    "    estimators, folds_scores = [], []\n",
    "    oof_preds = np.zeros(train.shape[0])\n",
    "    for fold, key in enumerate(ind_cv):\n",
    "        print(f'Fold {fold + 1}')\n",
    "        train_ind, valid_ind = ind_cv[key]\n",
    "        df_train, df_valid = train.loc[train_ind], train.loc[valid_ind]\n",
    "        y_train, y_valid = train.loc[train_ind, TARGET_NAME], train.loc[valid_ind, TARGET_NAME]\n",
    "\n",
    "        WOE_features = WOEFeatures(CATEGORICAL_FEATURE_NAMES, bin_splits)\n",
    "        df_train = WOE_features.fit_fransform(df_train[features_], y_train)\n",
    "        df_valid = WOE_features.fit_fransform(df_valid[features_])\n",
    "\n",
    "        dtrain = xgb.DMatrix(data=df_train[SELECTED_FEATURE_NAMES_xgb], label=y_train)\n",
    "        dvalid = xgb.DMatrix(data=df_valid[SELECTED_FEATURE_NAMES_xgb], label=y_valid)\n",
    "\n",
    "        params_xgb = {\"booster\": \"gbtree\", \n",
    "                      \"objective\": \"binary:logistic\", \n",
    "                      \"eval_metric\": \"auc\", \n",
    "                      \"learning_rate\": 0.05,  \n",
    "                      \"reg_lambda\": 100, \n",
    "                      \"max_depth\": 4, \n",
    "                      \"gamma\": 10, \n",
    "                      \"nthread\": 6, \n",
    "                      \"seed\": 27} \n",
    "\n",
    "        model_xgb = xgb.train(params=params_xgb,\n",
    "                              dtrain=dtrain,\n",
    "                              num_boost_round=1000,\n",
    "                              early_stopping_rounds=50,\n",
    "                              evals=[(dtrain, \"train\"), (dvalid, \"valid\")],\n",
    "                              verbose_eval=50,\n",
    "                              maximize=True)\n",
    "\n",
    "        oof_preds[valid_ind] = model_xgb.predict(dvalid)\n",
    "        score = roc_auc_score(y_valid, oof_preds[valid_ind])        \n",
    "        folds_scores.append(round(score, 5))\n",
    "        estimators.append(model_xgb)\n",
    "        \n",
    "    score = roc_auc_score(train[TARGET_NAME], oof_preds)    \n",
    "    print(f'OOF score = {round(score, 5)}')    \n",
    "    return estimators, oof_preds, folds_scores"
   ]
  },
  {
   "cell_type": "code",
   "execution_count": 64,
   "metadata": {},
   "outputs": [],
   "source": [
    "def cross_validation_xgb_dart(i):\n",
    "    ind_cv = n_fold_cv_ind(i)\n",
    "    estimators, folds_scores = [], []\n",
    "    oof_preds = np.zeros(train.shape[0])\n",
    "    for fold, key in enumerate(ind_cv):\n",
    "        print(f'Fold {fold + 1}')\n",
    "        train_ind, valid_ind = ind_cv[key]\n",
    "        df_train, df_valid = train.loc[train_ind], train.loc[valid_ind]\n",
    "        y_train, y_valid = train.loc[train_ind, TARGET_NAME], train.loc[valid_ind, TARGET_NAME]\n",
    "\n",
    "        WOE_features = WOEFeatures(CATEGORICAL_FEATURE_NAMES, bin_splits)\n",
    "        df_train = WOE_features.fit_fransform(df_train[features_], y_train)\n",
    "        df_valid = WOE_features.fit_fransform(df_valid[features_])\n",
    "\n",
    "        dtrain = xgb.DMatrix(data=df_train[SELECTED_FEATURE_NAMES_xgb], label=y_train)\n",
    "        dvalid = xgb.DMatrix(data=df_valid[SELECTED_FEATURE_NAMES_xgb], label=y_valid)\n",
    "\n",
    "        params_xgb = {\"booster\": \"dart\", \n",
    "                      \"objective\": \"binary:logistic\", \n",
    "                      \"eval_metric\": \"auc\", \n",
    "                      \"learning_rate\": 0.05,\n",
    "                      \"skip_drop\": 0.5,\n",
    "                      \"rate_drop\": 0.5,\n",
    "                      \"reg_lambda\": 100, \n",
    "                      \"max_depth\": 4, \n",
    "                      \"gamma\": 10, \n",
    "                      \"nthread\": 6, \n",
    "                      \"seed\": 27} \n",
    "\n",
    "        model_xgb = xgb.train(params=params_xgb,\n",
    "                              dtrain=dtrain,\n",
    "                              num_boost_round=1000,\n",
    "                              early_stopping_rounds=50,\n",
    "                              evals=[(dtrain, \"train\"), (dvalid, \"valid\")],\n",
    "                              verbose_eval=50,\n",
    "                              maximize=True)\n",
    "\n",
    "        oof_preds[valid_ind] = model_xgb.predict(dvalid)\n",
    "        score = roc_auc_score(y_valid, oof_preds[valid_ind])        \n",
    "        folds_scores.append(round(score, 5))\n",
    "        estimators.append(model_xgb)\n",
    "        \n",
    "    score = roc_auc_score(train[TARGET_NAME], oof_preds)    \n",
    "    print(f'OOF score = {round(score, 5)}')    \n",
    "    return estimators, oof_preds, folds_scores"
   ]
  },
  {
   "cell_type": "code",
   "execution_count": 65,
   "metadata": {},
   "outputs": [],
   "source": [
    "def cross_validation_xgb_linear(i):\n",
    "    ind_cv = n_fold_cv_ind(i)\n",
    "    estimators, folds_scores = [], []\n",
    "    oof_preds = np.zeros(train.shape[0])\n",
    "    for fold, key in enumerate(ind_cv):\n",
    "        print(f'Fold {fold + 1}')\n",
    "        train_ind, valid_ind = ind_cv[key]\n",
    "        df_train, df_valid = train.loc[train_ind], train.loc[valid_ind]\n",
    "        y_train, y_valid = train.loc[train_ind, TARGET_NAME], train.loc[valid_ind, TARGET_NAME]\n",
    "\n",
    "        WOE_features = WOEFeatures(CATEGORICAL_FEATURE_NAMES, bin_splits)\n",
    "        df_train = WOE_features.fit_fransform(df_train[features_], y_train)\n",
    "        df_valid = WOE_features.fit_fransform(df_valid[features_])\n",
    "\n",
    "        dtrain = xgb.DMatrix(data=df_train[SELECTED_FEATURE_NAMES_xgb], label=y_train)\n",
    "        dvalid = xgb.DMatrix(data=df_valid[SELECTED_FEATURE_NAMES_xgb], label=y_valid)\n",
    "\n",
    "        params_xgb = {\"booster\": \"gblinear\", \n",
    "                      \"objective\": \"binary:logistic\", \n",
    "                      \"eval_metric\": \"auc\", \n",
    "                      \"learning_rate\": 0.1,  \n",
    "                      \"reg_lambda\": 100,\n",
    "                      \"nthread\": 6, \n",
    "                      \"seed\": 27} \n",
    "\n",
    "        model_xgb = xgb.train(params=params_xgb,\n",
    "                              dtrain=dtrain,\n",
    "                              num_boost_round=2500,\n",
    "                              early_stopping_rounds=20,\n",
    "                              evals=[(dtrain, \"train\"), (dvalid, \"valid\")],\n",
    "                              verbose_eval=500,\n",
    "                              maximize=True)\n",
    "\n",
    "        oof_preds[valid_ind] = model_xgb.predict(dvalid)\n",
    "        score = roc_auc_score(y_valid, oof_preds[valid_ind])        \n",
    "        folds_scores.append(round(score, 5))\n",
    "        estimators.append(model_xgb)\n",
    "        \n",
    "    score = roc_auc_score(train[TARGET_NAME], oof_preds)    \n",
    "    print(f'OOF score = {round(score, 5)}')    \n",
    "    return estimators, oof_preds, folds_scores"
   ]
  },
  {
   "cell_type": "code",
   "execution_count": 66,
   "metadata": {},
   "outputs": [
    {
     "name": "stdout",
     "output_type": "stream",
     "text": [
      "Fold 1\n",
      "[0]\ttrain-auc:0.60484\tvalid-auc:0.60304\n",
      "Multiple eval metrics have been passed: 'valid-auc' will be used for early stopping.\n",
      "\n",
      "Will train until valid-auc hasn't improved in 50 rounds.\n",
      "[50]\ttrain-auc:0.70520\tvalid-auc:0.69716\n",
      "[100]\ttrain-auc:0.72467\tvalid-auc:0.71706\n",
      "[150]\ttrain-auc:0.73308\tvalid-auc:0.72270\n",
      "[200]\ttrain-auc:0.73404\tvalid-auc:0.72317\n",
      "Stopping. Best iteration:\n",
      "[170]\ttrain-auc:0.73404\tvalid-auc:0.72317\n",
      "\n",
      "Fold 2\n",
      "[0]\ttrain-auc:0.60003\tvalid-auc:0.60112\n",
      "Multiple eval metrics have been passed: 'valid-auc' will be used for early stopping.\n",
      "\n",
      "Will train until valid-auc hasn't improved in 50 rounds.\n",
      "[50]\ttrain-auc:0.70344\tvalid-auc:0.69997\n",
      "[100]\ttrain-auc:0.72408\tvalid-auc:0.72104\n",
      "[150]\ttrain-auc:0.73105\tvalid-auc:0.72685\n",
      "[200]\ttrain-auc:0.73233\tvalid-auc:0.72743\n",
      "Stopping. Best iteration:\n",
      "[159]\ttrain-auc:0.73203\tvalid-auc:0.72751\n",
      "\n",
      "Fold 3\n",
      "[0]\ttrain-auc:0.59929\tvalid-auc:0.60030\n",
      "Multiple eval metrics have been passed: 'valid-auc' will be used for early stopping.\n",
      "\n",
      "Will train until valid-auc hasn't improved in 50 rounds.\n",
      "[50]\ttrain-auc:0.70520\tvalid-auc:0.70083\n",
      "[100]\ttrain-auc:0.72561\tvalid-auc:0.71564\n",
      "[150]\ttrain-auc:0.73260\tvalid-auc:0.71953\n",
      "[200]\ttrain-auc:0.73368\tvalid-auc:0.72017\n",
      "Stopping. Best iteration:\n",
      "[162]\ttrain-auc:0.73368\tvalid-auc:0.72017\n",
      "\n",
      "Fold 4\n",
      "[0]\ttrain-auc:0.60403\tvalid-auc:0.59999\n",
      "Multiple eval metrics have been passed: 'valid-auc' will be used for early stopping.\n",
      "\n",
      "Will train until valid-auc hasn't improved in 50 rounds.\n",
      "[50]\ttrain-auc:0.70562\tvalid-auc:0.69652\n",
      "[100]\ttrain-auc:0.72670\tvalid-auc:0.71048\n",
      "[150]\ttrain-auc:0.73456\tvalid-auc:0.71593\n",
      "[200]\ttrain-auc:0.73664\tvalid-auc:0.71679\n",
      "Stopping. Best iteration:\n",
      "[161]\ttrain-auc:0.73664\tvalid-auc:0.71679\n",
      "\n",
      "Fold 5\n",
      "[0]\ttrain-auc:0.59956\tvalid-auc:0.59909\n",
      "Multiple eval metrics have been passed: 'valid-auc' will be used for early stopping.\n",
      "\n",
      "Will train until valid-auc hasn't improved in 50 rounds.\n",
      "[50]\ttrain-auc:0.70528\tvalid-auc:0.70279\n",
      "[100]\ttrain-auc:0.72483\tvalid-auc:0.71819\n",
      "[150]\ttrain-auc:0.73285\tvalid-auc:0.72350\n",
      "[200]\ttrain-auc:0.73387\tvalid-auc:0.72393\n",
      "Stopping. Best iteration:\n",
      "[178]\ttrain-auc:0.73365\tvalid-auc:0.72413\n",
      "\n",
      "OOF score = 0.72172\n"
     ]
    }
   ],
   "source": [
    "i = 42\n",
    "estimators_xgb, oof_preds_xgb, folds_scores_xgb = cross_validation_xgb(i)"
   ]
  },
  {
   "cell_type": "code",
   "execution_count": 67,
   "metadata": {},
   "outputs": [
    {
     "name": "stdout",
     "output_type": "stream",
     "text": [
      "Fold 1\n",
      "[0]\ttrain-auc:0.60056\tvalid-auc:0.59742\n",
      "Multiple eval metrics have been passed: 'valid-auc' will be used for early stopping.\n",
      "\n",
      "Will train until valid-auc hasn't improved in 50 rounds.\n",
      "[50]\ttrain-auc:0.69609\tvalid-auc:0.69228\n",
      "[100]\ttrain-auc:0.71483\tvalid-auc:0.70800\n",
      "[150]\ttrain-auc:0.72372\tvalid-auc:0.71581\n",
      "[200]\ttrain-auc:0.72942\tvalid-auc:0.71894\n",
      "[250]\ttrain-auc:0.73218\tvalid-auc:0.72036\n",
      "[300]\ttrain-auc:0.73382\tvalid-auc:0.72074\n",
      "Stopping. Best iteration:\n",
      "[282]\ttrain-auc:0.73357\tvalid-auc:0.72087\n",
      "\n",
      "Fold 2\n",
      "[0]\ttrain-auc:0.60033\tvalid-auc:0.61554\n",
      "Multiple eval metrics have been passed: 'valid-auc' will be used for early stopping.\n",
      "\n",
      "Will train until valid-auc hasn't improved in 50 rounds.\n",
      "[50]\ttrain-auc:0.69235\tvalid-auc:0.70111\n",
      "[100]\ttrain-auc:0.71242\tvalid-auc:0.71732\n",
      "[150]\ttrain-auc:0.72105\tvalid-auc:0.72437\n",
      "[200]\ttrain-auc:0.72663\tvalid-auc:0.72720\n",
      "[250]\ttrain-auc:0.72967\tvalid-auc:0.72937\n",
      "[300]\ttrain-auc:0.73156\tvalid-auc:0.73045\n",
      "Stopping. Best iteration:\n",
      "[287]\ttrain-auc:0.73145\tvalid-auc:0.73052\n",
      "\n",
      "Fold 3\n",
      "[0]\ttrain-auc:0.60957\tvalid-auc:0.59074\n",
      "Multiple eval metrics have been passed: 'valid-auc' will be used for early stopping.\n",
      "\n",
      "Will train until valid-auc hasn't improved in 50 rounds.\n",
      "[50]\ttrain-auc:0.69916\tvalid-auc:0.68008\n",
      "[100]\ttrain-auc:0.71650\tvalid-auc:0.69616\n",
      "[150]\ttrain-auc:0.72469\tvalid-auc:0.70458\n",
      "[200]\ttrain-auc:0.73090\tvalid-auc:0.70932\n",
      "[250]\ttrain-auc:0.73428\tvalid-auc:0.71239\n",
      "[300]\ttrain-auc:0.73592\tvalid-auc:0.71380\n",
      "[350]\ttrain-auc:0.73631\tvalid-auc:0.71433\n",
      "Stopping. Best iteration:\n",
      "[322]\ttrain-auc:0.73631\tvalid-auc:0.71434\n",
      "\n",
      "Fold 4\n",
      "[0]\ttrain-auc:0.60191\tvalid-auc:0.60554\n",
      "Multiple eval metrics have been passed: 'valid-auc' will be used for early stopping.\n",
      "\n",
      "Will train until valid-auc hasn't improved in 50 rounds.\n",
      "[50]\ttrain-auc:0.69324\tvalid-auc:0.69735\n",
      "[100]\ttrain-auc:0.71465\tvalid-auc:0.71389\n",
      "[150]\ttrain-auc:0.72299\tvalid-auc:0.71969\n",
      "[200]\ttrain-auc:0.72940\tvalid-auc:0.72410\n",
      "[250]\ttrain-auc:0.73264\tvalid-auc:0.72636\n",
      "[300]\ttrain-auc:0.73531\tvalid-auc:0.72801\n",
      "[350]\ttrain-auc:0.73604\tvalid-auc:0.72824\n",
      "Stopping. Best iteration:\n",
      "[344]\ttrain-auc:0.73604\tvalid-auc:0.72825\n",
      "\n",
      "Fold 5\n",
      "[0]\ttrain-auc:0.60150\tvalid-auc:0.59421\n",
      "Multiple eval metrics have been passed: 'valid-auc' will be used for early stopping.\n",
      "\n",
      "Will train until valid-auc hasn't improved in 50 rounds.\n",
      "[50]\ttrain-auc:0.69261\tvalid-auc:0.67864\n",
      "[100]\ttrain-auc:0.71632\tvalid-auc:0.70191\n",
      "[150]\ttrain-auc:0.72396\tvalid-auc:0.70780\n",
      "[200]\ttrain-auc:0.72965\tvalid-auc:0.71240\n",
      "[250]\ttrain-auc:0.73228\tvalid-auc:0.71560\n",
      "[300]\ttrain-auc:0.73330\tvalid-auc:0.71637\n",
      "[350]\ttrain-auc:0.73422\tvalid-auc:0.71720\n",
      "Stopping. Best iteration:\n",
      "[339]\ttrain-auc:0.73399\tvalid-auc:0.71736\n",
      "\n",
      "OOF score = 0.72148\n"
     ]
    }
   ],
   "source": [
    "i = 27\n",
    "estimators_xgb_dart, oof_preds_xgb_dart, folds_scores_xgb_dart = cross_validation_xgb_dart(i)"
   ]
  },
  {
   "cell_type": "code",
   "execution_count": 68,
   "metadata": {},
   "outputs": [
    {
     "name": "stdout",
     "output_type": "stream",
     "text": [
      "Fold 1\n",
      "[0]\ttrain-auc:0.54114\tvalid-auc:0.53630\n",
      "Multiple eval metrics have been passed: 'valid-auc' will be used for early stopping.\n",
      "\n",
      "Will train until valid-auc hasn't improved in 20 rounds.\n",
      "[500]\ttrain-auc:0.67119\tvalid-auc:0.67649\n",
      "Stopping. Best iteration:\n",
      "[764]\ttrain-auc:0.67414\tvalid-auc:0.67830\n",
      "\n",
      "Fold 2\n",
      "[0]\ttrain-auc:0.55509\tvalid-auc:0.55349\n",
      "Multiple eval metrics have been passed: 'valid-auc' will be used for early stopping.\n",
      "\n",
      "Will train until valid-auc hasn't improved in 20 rounds.\n",
      "[500]\ttrain-auc:0.67319\tvalid-auc:0.67179\n",
      "Stopping. Best iteration:\n",
      "[617]\ttrain-auc:0.67502\tvalid-auc:0.67232\n",
      "\n",
      "Fold 3\n",
      "[0]\ttrain-auc:0.54241\tvalid-auc:0.55501\n",
      "Multiple eval metrics have been passed: 'valid-auc' will be used for early stopping.\n",
      "\n",
      "Will train until valid-auc hasn't improved in 20 rounds.\n",
      "[500]\ttrain-auc:0.67327\tvalid-auc:0.67343\n",
      "[1000]\ttrain-auc:0.67634\tvalid-auc:0.67866\n",
      "[1500]\ttrain-auc:0.67690\tvalid-auc:0.67962\n",
      "[2000]\ttrain-auc:0.67709\tvalid-auc:0.68006\n",
      "[2499]\ttrain-auc:0.67719\tvalid-auc:0.68020\n",
      "Fold 4\n",
      "[0]\ttrain-auc:0.54900\tvalid-auc:0.54974\n",
      "Multiple eval metrics have been passed: 'valid-auc' will be used for early stopping.\n",
      "\n",
      "Will train until valid-auc hasn't improved in 20 rounds.\n",
      "[500]\ttrain-auc:0.67409\tvalid-auc:0.66825\n",
      "[1000]\ttrain-auc:0.67727\tvalid-auc:0.67281\n",
      "[1500]\ttrain-auc:0.67802\tvalid-auc:0.67413\n",
      "[2000]\ttrain-auc:0.67830\tvalid-auc:0.67485\n",
      "[2499]\ttrain-auc:0.67840\tvalid-auc:0.67514\n",
      "Fold 5\n",
      "[0]\ttrain-auc:0.54352\tvalid-auc:0.53858\n",
      "Multiple eval metrics have been passed: 'valid-auc' will be used for early stopping.\n",
      "\n",
      "Will train until valid-auc hasn't improved in 20 rounds.\n",
      "[500]\ttrain-auc:0.67386\tvalid-auc:0.66738\n",
      "[1000]\ttrain-auc:0.67758\tvalid-auc:0.67335\n",
      "[1500]\ttrain-auc:0.67826\tvalid-auc:0.67445\n",
      "Stopping. Best iteration:\n",
      "[1503]\ttrain-auc:0.67826\tvalid-auc:0.67445\n",
      "\n",
      "OOF score = 0.67538\n"
     ]
    }
   ],
   "source": [
    "i = 16\n",
    "estimators_xgb_linear, oof_preds_xgb_linear, folds_scores_xgb_linear = cross_validation_xgb_linear(i)"
   ]
  },
  {
   "cell_type": "markdown",
   "metadata": {},
   "source": [
    "#### LightGBM"
   ]
  },
  {
   "cell_type": "code",
   "execution_count": 69,
   "metadata": {},
   "outputs": [],
   "source": [
    "def cross_validation_lgb(i):\n",
    "    ind_cv = n_fold_cv_ind(i)\n",
    "    estimators, folds_scores = [], []\n",
    "    oof_preds = np.zeros(train.shape[0])\n",
    "    for fold, key in enumerate(ind_cv):\n",
    "        print(f'Fold {fold + 1}')\n",
    "        train_ind, valid_ind = ind_cv[key]\n",
    "        df_train, df_valid = train.loc[train_ind], train.loc[valid_ind]\n",
    "        y_train, y_valid = train.loc[train_ind, TARGET_NAME], train.loc[valid_ind, TARGET_NAME]\n",
    "\n",
    "        WOE_features = WOEFeatures(CATEGORICAL_FEATURE_NAMES, bin_splits)\n",
    "        df_train = WOE_features.fit_fransform(df_train[features_], y_train)\n",
    "        df_valid = WOE_features.fit_fransform(df_valid[features_])\n",
    "        \n",
    "        dtrain = lgb.Dataset(data=df_train[SELECTED_FEATURE_NAMES_lgb], label=y_train,\n",
    "                             categorical_feature=CATEGORICAL_FEATURE_NAMES_lgb)\n",
    "        dvalid = lgb.Dataset(data=df_valid[SELECTED_FEATURE_NAMES_lgb], label=y_valid,\n",
    "                             categorical_feature=CATEGORICAL_FEATURE_NAMES_lgb)\n",
    "\n",
    "        params_lgb = {\"boosting_type\": \"gbdt\",\n",
    "                      \"objective\": \"binary\",\n",
    "                      \"metric\": \"auc\",\n",
    "                      \"num_boost_round\": 10000, \n",
    "                      \"learning_rate\": 0.01,    \n",
    "                      \"class_weight\": 'balanced',\n",
    "                      \"max_depth\": 3,\n",
    "                      \"n_estimators\": 5000,\n",
    "                      \"n_jobs\": 6,\n",
    "                      \"seed\": 36}  \n",
    "\n",
    "        model_lgb = lgb.train(params=params_lgb,\n",
    "                          train_set=dtrain,  \n",
    "                          valid_sets=[dtrain, dvalid],\n",
    "                          categorical_feature=CATEGORICAL_FEATURE_NAMES_lgb, \n",
    "                          verbose_eval=100,\n",
    "                          early_stopping_rounds=50)\n",
    "        \n",
    "        oof_preds[valid_ind] = model_lgb.predict(df_valid[SELECTED_FEATURE_NAMES_lgb])\n",
    "        score = roc_auc_score(y_valid, oof_preds[valid_ind])        \n",
    "        folds_scores.append(round(score, 5))\n",
    "        estimators.append(model_lgb)\n",
    "        \n",
    "    score = roc_auc_score(train[TARGET_NAME], oof_preds)    \n",
    "    print(f'OOF score = {round(score, 5)}')    \n",
    "    return estimators, oof_preds, folds_scores"
   ]
  },
  {
   "cell_type": "code",
   "execution_count": 70,
   "metadata": {},
   "outputs": [],
   "source": [
    "def cross_validation_lgb_dart(i):\n",
    "    ind_cv = n_fold_cv_ind(i)\n",
    "    estimators, folds_scores = [], []\n",
    "    oof_preds = np.zeros(train.shape[0])\n",
    "    for fold, key in enumerate(ind_cv):\n",
    "        print(f'Fold {fold + 1}')\n",
    "        train_ind, valid_ind = ind_cv[key]\n",
    "        df_train, df_valid = train.loc[train_ind], train.loc[valid_ind]\n",
    "        y_train, y_valid = train.loc[train_ind, TARGET_NAME], train.loc[valid_ind, TARGET_NAME]\n",
    "\n",
    "        WOE_features = WOEFeatures(CATEGORICAL_FEATURE_NAMES, bin_splits)\n",
    "        df_train = WOE_features.fit_fransform(df_train[features_], y_train)\n",
    "        df_valid = WOE_features.fit_fransform(df_valid[features_])\n",
    "        \n",
    "        dtrain = lgb.Dataset(data=df_train[SELECTED_FEATURE_NAMES_lgb], label=y_train,\n",
    "                             categorical_feature=CATEGORICAL_FEATURE_NAMES_lgb)\n",
    "        dvalid = lgb.Dataset(data=df_valid[SELECTED_FEATURE_NAMES_lgb], label=y_valid,\n",
    "                             categorical_feature=CATEGORICAL_FEATURE_NAMES_lgb)\n",
    "\n",
    "        params_lgb = {\"boosting_type\": \"dart\",\n",
    "                      \"objective\": \"binary\",\n",
    "                      \"metric\": \"auc\",\n",
    "                      \"num_boost_round\": 10000,  \n",
    "                      \"learning_rate\": 0.05,\n",
    "                      \"skip_drop\": 0.5,\n",
    "                      \"rate_drop\": 0.3,  \n",
    "                      \"class_weight\": 'balanced',\n",
    "                      \"max_depth\": 3,\n",
    "                      \"n_estimators\": 1500,\n",
    "                      \"n_jobs\": 6,\n",
    "                      \"seed\": i}   \n",
    "\n",
    "        model_lgb = lgb.train(params=params_lgb,\n",
    "                          train_set=dtrain,  \n",
    "                          valid_sets=[dtrain, dvalid],\n",
    "                          categorical_feature=CATEGORICAL_FEATURE_NAMES_lgb, \n",
    "                          verbose_eval=100,\n",
    "                          early_stopping_rounds=20)\n",
    "        \n",
    "        oof_preds[valid_ind] = model_lgb.predict(df_valid[SELECTED_FEATURE_NAMES_lgb])\n",
    "        score = roc_auc_score(y_valid, oof_preds[valid_ind])        \n",
    "        folds_scores.append(round(score, 5))\n",
    "        estimators.append(model_lgb)\n",
    "        \n",
    "    score = roc_auc_score(train[TARGET_NAME], oof_preds)    \n",
    "    print(f'OOF score = {round(score, 5)}')    \n",
    "    return estimators, oof_preds, folds_scores"
   ]
  },
  {
   "cell_type": "code",
   "execution_count": 71,
   "metadata": {},
   "outputs": [
    {
     "name": "stdout",
     "output_type": "stream",
     "text": [
      "Fold 1\n",
      "Training until validation scores don't improve for 50 rounds\n",
      "[100]\ttraining's auc: 0.709744\tvalid_1's auc: 0.688632\n",
      "[200]\ttraining's auc: 0.717933\tvalid_1's auc: 0.696475\n",
      "[300]\ttraining's auc: 0.726339\tvalid_1's auc: 0.704439\n",
      "[400]\ttraining's auc: 0.732277\tvalid_1's auc: 0.70674\n",
      "[500]\ttraining's auc: 0.73642\tvalid_1's auc: 0.709054\n",
      "[600]\ttraining's auc: 0.739631\tvalid_1's auc: 0.710824\n",
      "[700]\ttraining's auc: 0.742894\tvalid_1's auc: 0.712111\n",
      "[800]\ttraining's auc: 0.745352\tvalid_1's auc: 0.713397\n",
      "[900]\ttraining's auc: 0.747508\tvalid_1's auc: 0.714599\n",
      "[1000]\ttraining's auc: 0.749736\tvalid_1's auc: 0.715268\n",
      "[1100]\ttraining's auc: 0.752035\tvalid_1's auc: 0.715399\n",
      "[1200]\ttraining's auc: 0.754176\tvalid_1's auc: 0.715599\n",
      "[1300]\ttraining's auc: 0.756217\tvalid_1's auc: 0.715753\n",
      "Early stopping, best iteration is:\n",
      "[1345]\ttraining's auc: 0.757202\tvalid_1's auc: 0.715975\n",
      "Fold 2\n",
      "Training until validation scores don't improve for 50 rounds\n",
      "[100]\ttraining's auc: 0.706959\tvalid_1's auc: 0.700388\n",
      "[200]\ttraining's auc: 0.716134\tvalid_1's auc: 0.708609\n",
      "[300]\ttraining's auc: 0.72432\tvalid_1's auc: 0.714773\n",
      "[400]\ttraining's auc: 0.729299\tvalid_1's auc: 0.719534\n",
      "[500]\ttraining's auc: 0.733157\tvalid_1's auc: 0.722495\n",
      "Early stopping, best iteration is:\n",
      "[516]\ttraining's auc: 0.733618\tvalid_1's auc: 0.722718\n",
      "Fold 3\n",
      "Training until validation scores don't improve for 50 rounds\n",
      "[100]\ttraining's auc: 0.706234\tvalid_1's auc: 0.709329\n",
      "[200]\ttraining's auc: 0.714863\tvalid_1's auc: 0.713406\n",
      "[300]\ttraining's auc: 0.72351\tvalid_1's auc: 0.719156\n",
      "[400]\ttraining's auc: 0.728865\tvalid_1's auc: 0.721593\n",
      "[500]\ttraining's auc: 0.732653\tvalid_1's auc: 0.723282\n",
      "[600]\ttraining's auc: 0.736259\tvalid_1's auc: 0.724504\n",
      "Early stopping, best iteration is:\n",
      "[604]\ttraining's auc: 0.73636\tvalid_1's auc: 0.724554\n",
      "Fold 4\n",
      "Training until validation scores don't improve for 50 rounds\n",
      "[100]\ttraining's auc: 0.705905\tvalid_1's auc: 0.704683\n",
      "[200]\ttraining's auc: 0.714251\tvalid_1's auc: 0.713231\n",
      "[300]\ttraining's auc: 0.722991\tvalid_1's auc: 0.718948\n",
      "[400]\ttraining's auc: 0.728313\tvalid_1's auc: 0.721953\n",
      "[500]\ttraining's auc: 0.733116\tvalid_1's auc: 0.724522\n",
      "[600]\ttraining's auc: 0.736421\tvalid_1's auc: 0.726392\n",
      "[700]\ttraining's auc: 0.739283\tvalid_1's auc: 0.727142\n",
      "[800]\ttraining's auc: 0.741908\tvalid_1's auc: 0.72783\n",
      "[900]\ttraining's auc: 0.745084\tvalid_1's auc: 0.728908\n",
      "Early stopping, best iteration is:\n",
      "[886]\ttraining's auc: 0.744249\tvalid_1's auc: 0.72893\n",
      "Fold 5\n",
      "Training until validation scores don't improve for 50 rounds\n",
      "[100]\ttraining's auc: 0.706268\tvalid_1's auc: 0.703817\n",
      "[200]\ttraining's auc: 0.715177\tvalid_1's auc: 0.712296\n",
      "[300]\ttraining's auc: 0.723127\tvalid_1's auc: 0.718014\n",
      "[400]\ttraining's auc: 0.728774\tvalid_1's auc: 0.721385\n",
      "[500]\ttraining's auc: 0.733038\tvalid_1's auc: 0.723396\n",
      "[600]\ttraining's auc: 0.736175\tvalid_1's auc: 0.725064\n",
      "[700]\ttraining's auc: 0.739133\tvalid_1's auc: 0.725788\n",
      "[800]\ttraining's auc: 0.7422\tvalid_1's auc: 0.726805\n",
      "[900]\ttraining's auc: 0.745244\tvalid_1's auc: 0.7271\n",
      "[1000]\ttraining's auc: 0.747879\tvalid_1's auc: 0.727477\n",
      "[1100]\ttraining's auc: 0.750379\tvalid_1's auc: 0.728073\n",
      "[1200]\ttraining's auc: 0.752694\tvalid_1's auc: 0.728529\n",
      "Early stopping, best iteration is:\n",
      "[1225]\ttraining's auc: 0.753281\tvalid_1's auc: 0.728719\n",
      "OOF score = 0.72333\n"
     ]
    }
   ],
   "source": [
    "i = 36\n",
    "estimators_lgb, oof_preds_lgb, folds_scores_lgb = cross_validation_lgb(i)"
   ]
  },
  {
   "cell_type": "code",
   "execution_count": 72,
   "metadata": {},
   "outputs": [
    {
     "name": "stdout",
     "output_type": "stream",
     "text": [
      "Fold 1\n",
      "[100]\ttraining's auc: 0.70439\tvalid_1's auc: 0.703657\n",
      "[200]\ttraining's auc: 0.710387\tvalid_1's auc: 0.709477\n",
      "[300]\ttraining's auc: 0.722547\tvalid_1's auc: 0.715399\n",
      "[400]\ttraining's auc: 0.729658\tvalid_1's auc: 0.717395\n",
      "[500]\ttraining's auc: 0.73742\tvalid_1's auc: 0.719558\n",
      "[600]\ttraining's auc: 0.741236\tvalid_1's auc: 0.720848\n",
      "[700]\ttraining's auc: 0.745032\tvalid_1's auc: 0.721426\n",
      "[800]\ttraining's auc: 0.748976\tvalid_1's auc: 0.722747\n",
      "[900]\ttraining's auc: 0.751801\tvalid_1's auc: 0.722544\n",
      "[1000]\ttraining's auc: 0.75498\tvalid_1's auc: 0.722833\n",
      "[1100]\ttraining's auc: 0.758063\tvalid_1's auc: 0.72357\n",
      "[1200]\ttraining's auc: 0.761055\tvalid_1's auc: 0.723435\n",
      "[1300]\ttraining's auc: 0.763788\tvalid_1's auc: 0.723902\n",
      "[1400]\ttraining's auc: 0.767673\tvalid_1's auc: 0.724168\n",
      "[1500]\ttraining's auc: 0.771923\tvalid_1's auc: 0.724265\n",
      "Fold 2\n",
      "[100]\ttraining's auc: 0.703358\tvalid_1's auc: 0.711002\n",
      "[200]\ttraining's auc: 0.707788\tvalid_1's auc: 0.71258\n",
      "[300]\ttraining's auc: 0.720405\tvalid_1's auc: 0.721497\n",
      "[400]\ttraining's auc: 0.727609\tvalid_1's auc: 0.723904\n",
      "[500]\ttraining's auc: 0.734854\tvalid_1's auc: 0.726726\n",
      "[600]\ttraining's auc: 0.739584\tvalid_1's auc: 0.727479\n",
      "[700]\ttraining's auc: 0.743086\tvalid_1's auc: 0.72766\n",
      "[800]\ttraining's auc: 0.747713\tvalid_1's auc: 0.728801\n",
      "[900]\ttraining's auc: 0.750368\tvalid_1's auc: 0.729275\n",
      "[1000]\ttraining's auc: 0.753295\tvalid_1's auc: 0.729347\n",
      "[1100]\ttraining's auc: 0.756703\tvalid_1's auc: 0.730119\n",
      "[1200]\ttraining's auc: 0.759377\tvalid_1's auc: 0.729981\n",
      "[1300]\ttraining's auc: 0.76255\tvalid_1's auc: 0.729815\n",
      "[1400]\ttraining's auc: 0.765962\tvalid_1's auc: 0.729657\n",
      "[1500]\ttraining's auc: 0.770101\tvalid_1's auc: 0.729746\n",
      "Fold 3\n",
      "[100]\ttraining's auc: 0.70732\tvalid_1's auc: 0.696316\n",
      "[200]\ttraining's auc: 0.712345\tvalid_1's auc: 0.699077\n",
      "[300]\ttraining's auc: 0.723509\tvalid_1's auc: 0.706662\n",
      "[400]\ttraining's auc: 0.730122\tvalid_1's auc: 0.711203\n",
      "[500]\ttraining's auc: 0.738101\tvalid_1's auc: 0.716322\n",
      "[600]\ttraining's auc: 0.741987\tvalid_1's auc: 0.716821\n",
      "[700]\ttraining's auc: 0.74535\tvalid_1's auc: 0.717652\n",
      "[800]\ttraining's auc: 0.749076\tvalid_1's auc: 0.718236\n",
      "[900]\ttraining's auc: 0.752671\tvalid_1's auc: 0.719094\n",
      "[1000]\ttraining's auc: 0.755468\tvalid_1's auc: 0.719831\n",
      "[1100]\ttraining's auc: 0.758823\tvalid_1's auc: 0.719921\n",
      "[1200]\ttraining's auc: 0.76183\tvalid_1's auc: 0.720215\n",
      "[1300]\ttraining's auc: 0.764608\tvalid_1's auc: 0.720873\n",
      "[1400]\ttraining's auc: 0.767545\tvalid_1's auc: 0.721255\n",
      "[1500]\ttraining's auc: 0.772041\tvalid_1's auc: 0.721112\n",
      "Fold 4\n",
      "[100]\ttraining's auc: 0.706941\tvalid_1's auc: 0.692137\n",
      "[200]\ttraining's auc: 0.710785\tvalid_1's auc: 0.696529\n",
      "[300]\ttraining's auc: 0.722228\tvalid_1's auc: 0.707574\n",
      "[400]\ttraining's auc: 0.728727\tvalid_1's auc: 0.713225\n",
      "[500]\ttraining's auc: 0.736277\tvalid_1's auc: 0.718141\n",
      "[600]\ttraining's auc: 0.740748\tvalid_1's auc: 0.719409\n",
      "[700]\ttraining's auc: 0.74389\tvalid_1's auc: 0.720579\n",
      "[800]\ttraining's auc: 0.747731\tvalid_1's auc: 0.722352\n",
      "[900]\ttraining's auc: 0.75063\tvalid_1's auc: 0.723522\n",
      "[1000]\ttraining's auc: 0.754068\tvalid_1's auc: 0.724117\n",
      "[1100]\ttraining's auc: 0.75747\tvalid_1's auc: 0.724998\n",
      "[1200]\ttraining's auc: 0.760467\tvalid_1's auc: 0.725663\n",
      "[1300]\ttraining's auc: 0.763223\tvalid_1's auc: 0.725854\n",
      "[1400]\ttraining's auc: 0.76748\tvalid_1's auc: 0.726834\n",
      "[1500]\ttraining's auc: 0.771992\tvalid_1's auc: 0.727046\n",
      "Fold 5\n",
      "[100]\ttraining's auc: 0.70681\tvalid_1's auc: 0.69963\n",
      "[200]\ttraining's auc: 0.710888\tvalid_1's auc: 0.702622\n",
      "[300]\ttraining's auc: 0.722369\tvalid_1's auc: 0.709671\n",
      "[400]\ttraining's auc: 0.729427\tvalid_1's auc: 0.714614\n",
      "[500]\ttraining's auc: 0.736741\tvalid_1's auc: 0.718822\n",
      "[600]\ttraining's auc: 0.741295\tvalid_1's auc: 0.71984\n",
      "[700]\ttraining's auc: 0.744613\tvalid_1's auc: 0.720723\n",
      "[800]\ttraining's auc: 0.748572\tvalid_1's auc: 0.722182\n",
      "[900]\ttraining's auc: 0.751358\tvalid_1's auc: 0.722163\n",
      "[1000]\ttraining's auc: 0.7545\tvalid_1's auc: 0.723172\n",
      "[1100]\ttraining's auc: 0.757617\tvalid_1's auc: 0.723819\n",
      "[1200]\ttraining's auc: 0.760308\tvalid_1's auc: 0.724281\n",
      "[1300]\ttraining's auc: 0.76296\tvalid_1's auc: 0.724203\n",
      "[1400]\ttraining's auc: 0.765921\tvalid_1's auc: 0.724743\n",
      "[1500]\ttraining's auc: 0.770294\tvalid_1's auc: 0.725122\n",
      "OOF score = 0.72517\n"
     ]
    }
   ],
   "source": [
    "i = 29\n",
    "estimators_lgb_dart, oof_preds_lgb_dart, folds_scores_lgb_dart = cross_validation_lgb_dart(i)"
   ]
  },
  {
   "cell_type": "markdown",
   "metadata": {},
   "source": [
    "#### CatBoost"
   ]
  },
  {
   "cell_type": "code",
   "execution_count": 73,
   "metadata": {},
   "outputs": [],
   "source": [
    "def cross_validation_cb(i):\n",
    "    ind_cv = n_fold_cv_ind(i)\n",
    "    estimators, folds_scores = [], []\n",
    "    oof_preds = np.zeros(train.shape[0])\n",
    "    for fold, key in enumerate(ind_cv):\n",
    "        print(f'Fold {fold + 1}')\n",
    "        train_ind, valid_ind = ind_cv[key]\n",
    "        df_train, df_valid = train.loc[train_ind], train.loc[valid_ind]\n",
    "        y_train, y_valid = train.loc[train_ind, TARGET_NAME], train.loc[valid_ind, TARGET_NAME]\n",
    "\n",
    "        WOE_features = WOEFeatures(CATEGORICAL_FEATURE_NAMES, bin_splits)\n",
    "        df_train = WOE_features.fit_fransform(df_train[features_], y_train)\n",
    "        df_valid = WOE_features.fit_fransform(df_valid[features_])\n",
    "        \n",
    "        dtrain = Pool(data=df_train[SELECTED_FEATURE_NAMES_cb], label=y_train,\n",
    "                      cat_features=CATEGORICAL_FEATURE_NAMES)\n",
    "        dvalid = Pool(data=df_valid[SELECTED_FEATURE_NAMES_cb], label=y_valid,\n",
    "                      cat_features=CATEGORICAL_FEATURE_NAMES)\n",
    "\n",
    "        params_cb = {\"n_estimators\":5000,\n",
    "                     \"loss_function\": \"Logloss\",\n",
    "                     \"eval_metric\": \"AUC\",\n",
    "                     \"task_type\": \"CPU\",\n",
    "                     \"max_bin\": 30,\n",
    "                     \"early_stopping_rounds\": 50,\n",
    "                     \"verbose\": 100,\n",
    "                     \"max_depth\": 5,\n",
    "                     \"l2_leaf_reg\": 80, \n",
    "                     \"thread_count\": 6,\n",
    "                     \"random_seed\": 51} \n",
    "\n",
    "        model_cb = CatBoostClassifier(**params_cb)\n",
    "        model_cb.fit(dtrain, eval_set=[dvalid])\n",
    "        \n",
    "        oof_preds[valid_ind] = model_cb.predict_proba(df_valid[SELECTED_FEATURE_NAMES_cb])[:, 1]\n",
    "        score = roc_auc_score(y_valid, oof_preds[valid_ind])        \n",
    "        folds_scores.append(round(score, 5))\n",
    "        estimators.append(model_cb)\n",
    "        \n",
    "    score = roc_auc_score(train[TARGET_NAME], oof_preds)    \n",
    "    print(f'OOF score = {round(score, 5)}')    \n",
    "    return estimators, oof_preds, folds_scores"
   ]
  },
  {
   "cell_type": "code",
   "execution_count": 74,
   "metadata": {},
   "outputs": [
    {
     "name": "stdout",
     "output_type": "stream",
     "text": [
      "Fold 1\n",
      "0:\ttest: 0.6448901\tbest: 0.6448901 (0)\ttotal: 178ms\tremaining: 14m 48s\n",
      "100:\ttest: 0.7163293\tbest: 0.7163293 (100)\ttotal: 15.8s\tremaining: 12m 48s\n",
      "200:\ttest: 0.7230499\tbest: 0.7231301 (199)\ttotal: 31.3s\tremaining: 12m 27s\n",
      "300:\ttest: 0.7247521\tbest: 0.7247530 (299)\ttotal: 46.8s\tremaining: 12m 10s\n",
      "400:\ttest: 0.7258376\tbest: 0.7258471 (399)\ttotal: 1m 2s\tremaining: 11m 51s\n",
      "500:\ttest: 0.7269491\tbest: 0.7269967 (496)\ttotal: 1m 16s\tremaining: 11m 28s\n",
      "600:\ttest: 0.7270584\tbest: 0.7271511 (558)\ttotal: 1m 31s\tremaining: 11m 6s\n",
      "Stopped by overfitting detector  (50 iterations wait)\n",
      "\n",
      "bestTest = 0.727151087\n",
      "bestIteration = 558\n",
      "\n",
      "Shrink model to first 559 iterations.\n",
      "Fold 2\n",
      "0:\ttest: 0.6473517\tbest: 0.6473517 (0)\ttotal: 176ms\tremaining: 14m 37s\n",
      "100:\ttest: 0.7152005\tbest: 0.7152005 (100)\ttotal: 16.3s\tremaining: 13m 12s\n",
      "200:\ttest: 0.7225885\tbest: 0.7225885 (200)\ttotal: 32.1s\tremaining: 12m 47s\n",
      "300:\ttest: 0.7252308\tbest: 0.7252308 (300)\ttotal: 47.7s\tremaining: 12m 24s\n",
      "400:\ttest: 0.7264931\tbest: 0.7265320 (395)\ttotal: 1m 3s\tremaining: 12m 3s\n",
      "500:\ttest: 0.7271187\tbest: 0.7271313 (498)\ttotal: 1m 20s\tremaining: 12m 2s\n",
      "600:\ttest: 0.7271107\tbest: 0.7272081 (577)\ttotal: 1m 33s\tremaining: 11m 25s\n",
      "Stopped by overfitting detector  (50 iterations wait)\n",
      "\n",
      "bestTest = 0.7272081482\n",
      "bestIteration = 577\n",
      "\n",
      "Shrink model to first 578 iterations.\n",
      "Fold 3\n",
      "0:\ttest: 0.6530969\tbest: 0.6530969 (0)\ttotal: 183ms\tremaining: 15m 12s\n",
      "100:\ttest: 0.7185163\tbest: 0.7185163 (100)\ttotal: 16s\tremaining: 12m 57s\n",
      "200:\ttest: 0.7266124\tbest: 0.7266124 (200)\ttotal: 31.7s\tremaining: 12m 36s\n",
      "300:\ttest: 0.7283741\tbest: 0.7284697 (298)\ttotal: 47.4s\tremaining: 12m 19s\n",
      "400:\ttest: 0.7300116\tbest: 0.7300116 (400)\ttotal: 1m 2s\tremaining: 11m 58s\n",
      "500:\ttest: 0.7306514\tbest: 0.7307079 (488)\ttotal: 1m 17s\tremaining: 11m 35s\n",
      "600:\ttest: 0.7314858\tbest: 0.7315924 (575)\ttotal: 1m 31s\tremaining: 11m 7s\n",
      "700:\ttest: 0.7320042\tbest: 0.7320557 (687)\ttotal: 1m 44s\tremaining: 10m 40s\n",
      "800:\ttest: 0.7323368\tbest: 0.7324081 (797)\ttotal: 1m 58s\tremaining: 10m 20s\n",
      "900:\ttest: 0.7325589\tbest: 0.7325589 (900)\ttotal: 2m 11s\tremaining: 10m\n",
      "Stopped by overfitting detector  (50 iterations wait)\n",
      "\n",
      "bestTest = 0.7325761812\n",
      "bestIteration = 906\n",
      "\n",
      "Shrink model to first 907 iterations.\n",
      "Fold 4\n",
      "0:\ttest: 0.6474042\tbest: 0.6474042 (0)\ttotal: 178ms\tremaining: 14m 51s\n",
      "100:\ttest: 0.7150601\tbest: 0.7150601 (100)\ttotal: 16s\tremaining: 12m 54s\n",
      "200:\ttest: 0.7221199\tbest: 0.7222030 (196)\ttotal: 32s\tremaining: 12m 44s\n",
      "300:\ttest: 0.7254559\tbest: 0.7256013 (290)\ttotal: 47.6s\tremaining: 12m 23s\n",
      "400:\ttest: 0.7271414\tbest: 0.7272677 (392)\ttotal: 1m 2s\tremaining: 12m 1s\n",
      "500:\ttest: 0.7276740\tbest: 0.7277939 (495)\ttotal: 1m 17s\tremaining: 11m 34s\n",
      "Stopped by overfitting detector  (50 iterations wait)\n",
      "\n",
      "bestTest = 0.7278342803\n",
      "bestIteration = 512\n",
      "\n",
      "Shrink model to first 513 iterations.\n",
      "Fold 5\n",
      "0:\ttest: 0.6447743\tbest: 0.6447743 (0)\ttotal: 172ms\tremaining: 14m 22s\n",
      "100:\ttest: 0.7072003\tbest: 0.7072003 (100)\ttotal: 16s\tremaining: 12m 54s\n",
      "200:\ttest: 0.7134467\tbest: 0.7134467 (200)\ttotal: 31.8s\tremaining: 12m 38s\n",
      "300:\ttest: 0.7155556\tbest: 0.7155631 (297)\ttotal: 48.1s\tremaining: 12m 30s\n",
      "400:\ttest: 0.7168121\tbest: 0.7168377 (393)\ttotal: 1m 3s\tremaining: 12m 5s\n",
      "500:\ttest: 0.7179508\tbest: 0.7179579 (497)\ttotal: 1m 17s\tremaining: 11m 40s\n",
      "600:\ttest: 0.7185966\tbest: 0.7186261 (589)\ttotal: 1m 31s\tremaining: 11m 11s\n",
      "700:\ttest: 0.7191158\tbest: 0.7191158 (700)\ttotal: 1m 45s\tremaining: 10m 49s\n",
      "800:\ttest: 0.7194591\tbest: 0.7195556 (765)\ttotal: 2m\tremaining: 10m 30s\n",
      "Stopped by overfitting detector  (50 iterations wait)\n",
      "\n",
      "bestTest = 0.7195555551\n",
      "bestIteration = 765\n",
      "\n",
      "Shrink model to first 766 iterations.\n",
      "OOF score = 0.72643\n"
     ]
    }
   ],
   "source": [
    "i = 51\n",
    "estimators_cb, oof_preds_cb, folds_scores_cb = cross_validation_cb(i)"
   ]
  },
  {
   "cell_type": "markdown",
   "metadata": {},
   "source": [
    "#### Random Forest"
   ]
  },
  {
   "cell_type": "code",
   "execution_count": 75,
   "metadata": {},
   "outputs": [],
   "source": [
    "def cross_validation_rf(i):\n",
    "    ind_cv = n_fold_cv_ind(i)\n",
    "    estimators, folds_scores = [], []\n",
    "    oof_preds = np.zeros(train.shape[0])\n",
    "    for fold, key in enumerate(ind_cv):\n",
    "        print(f'Fold {fold + 1}')\n",
    "        train_ind, valid_ind = ind_cv[key]\n",
    "        df_train, df_valid = train.loc[train_ind], train.loc[valid_ind]\n",
    "        y_train, y_valid = train.loc[train_ind, TARGET_NAME], train.loc[valid_ind, TARGET_NAME]\n",
    "\n",
    "        WOE_features = WOEFeatures(CATEGORICAL_FEATURE_NAMES, bin_splits)\n",
    "        df_train = WOE_features.fit_fransform(df_train[features_], y_train)\n",
    "        df_valid = WOE_features.fit_fransform(df_valid[features_])\n",
    "        \n",
    "        params_rf = {\"n_estimators\": 300,\n",
    "                     \"max_depth\": 6,\n",
    "                     \"class_weight\": 'balanced_subsample', \n",
    "                     \"random_state\": 42}  \n",
    "\n",
    "        model_rf = RandomForestClassifier(**params_rf)\n",
    "        model_rf.fit(df_train[SELECTED_FEATURE_NAMES_rf].fillna(-99), y_train)\n",
    "        \n",
    "        y_train_pred = model_rf.predict_proba(df_train[SELECTED_FEATURE_NAMES_rf].fillna(-99))[:, 1]\n",
    "        train_score = roc_auc_score(y_train, y_train_pred)        \n",
    "        \n",
    "        oof_preds[valid_ind] = model_rf.predict_proba(df_valid[SELECTED_FEATURE_NAMES_rf].fillna(-99))[:, 1]         \n",
    "        score = roc_auc_score(y_valid, oof_preds[valid_ind])\n",
    "        print(f'train score = {round(train_score, 5)}, valid score = {round(score, 5)}')\n",
    "        \n",
    "        folds_scores.append(round(score, 5))\n",
    "        estimators.append(model_rf)        \n",
    "        \n",
    "    score = roc_auc_score(train[TARGET_NAME], oof_preds)    \n",
    "    print(f'OOF score = {round(score, 5)}')    \n",
    "    return estimators, oof_preds, folds_scores"
   ]
  },
  {
   "cell_type": "code",
   "execution_count": 76,
   "metadata": {},
   "outputs": [
    {
     "name": "stdout",
     "output_type": "stream",
     "text": [
      "Fold 1\n",
      "train score = 0.7329, valid score = 0.711\n",
      "Fold 2\n",
      "train score = 0.73387, valid score = 0.70837\n",
      "Fold 3\n",
      "train score = 0.73302, valid score = 0.71403\n",
      "Fold 4\n",
      "train score = 0.73284, valid score = 0.70729\n",
      "Fold 5\n",
      "train score = 0.73509, valid score = 0.70345\n",
      "OOF score = 0.70829\n"
     ]
    }
   ],
   "source": [
    "i = 16\n",
    "estimators_rf, oof_preds_rf, folds_scores_rf = cross_validation_rf(i)"
   ]
  },
  {
   "cell_type": "code",
   "execution_count": 77,
   "metadata": {},
   "outputs": [],
   "source": [
    "cols = ['xgb', 'xgb_dart', 'xgb_linear', 'lgb', 'lgb_dart', 'cb', 'rf']\n",
    "OOF_results = pd.DataFrame([oof_preds_xgb, oof_preds_xgb_dart, oof_preds_xgb_linear,\n",
    "                            oof_preds_lgb, oof_preds_lgb_dart, \n",
    "                            oof_preds_cb, oof_preds_rf], index=cols).T"
   ]
  },
  {
   "cell_type": "code",
   "execution_count": 78,
   "metadata": {},
   "outputs": [
    {
     "data": {
      "text/html": [
       "<div>\n",
       "<style scoped>\n",
       "    .dataframe tbody tr th:only-of-type {\n",
       "        vertical-align: middle;\n",
       "    }\n",
       "\n",
       "    .dataframe tbody tr th {\n",
       "        vertical-align: top;\n",
       "    }\n",
       "\n",
       "    .dataframe thead th {\n",
       "        text-align: right;\n",
       "    }\n",
       "</style>\n",
       "<table border=\"1\" class=\"dataframe\">\n",
       "  <thead>\n",
       "    <tr style=\"text-align: right;\">\n",
       "      <th></th>\n",
       "      <th>xgb</th>\n",
       "      <th>xgb_dart</th>\n",
       "      <th>xgb_linear</th>\n",
       "      <th>lgb</th>\n",
       "      <th>lgb_dart</th>\n",
       "      <th>cb</th>\n",
       "      <th>rf</th>\n",
       "    </tr>\n",
       "  </thead>\n",
       "  <tbody>\n",
       "    <tr>\n",
       "      <th>xgb</th>\n",
       "      <td>1.000000</td>\n",
       "      <td>0.990437</td>\n",
       "      <td>0.671738</td>\n",
       "      <td>0.978496</td>\n",
       "      <td>0.960924</td>\n",
       "      <td>0.968528</td>\n",
       "      <td>0.834602</td>\n",
       "    </tr>\n",
       "    <tr>\n",
       "      <th>xgb_dart</th>\n",
       "      <td>0.990437</td>\n",
       "      <td>1.000000</td>\n",
       "      <td>0.672186</td>\n",
       "      <td>0.978991</td>\n",
       "      <td>0.961527</td>\n",
       "      <td>0.969063</td>\n",
       "      <td>0.835103</td>\n",
       "    </tr>\n",
       "    <tr>\n",
       "      <th>xgb_linear</th>\n",
       "      <td>0.671738</td>\n",
       "      <td>0.672186</td>\n",
       "      <td>1.000000</td>\n",
       "      <td>0.663783</td>\n",
       "      <td>0.648102</td>\n",
       "      <td>0.668635</td>\n",
       "      <td>0.704537</td>\n",
       "    </tr>\n",
       "    <tr>\n",
       "      <th>lgb</th>\n",
       "      <td>0.978496</td>\n",
       "      <td>0.978991</td>\n",
       "      <td>0.663783</td>\n",
       "      <td>1.000000</td>\n",
       "      <td>0.964891</td>\n",
       "      <td>0.966305</td>\n",
       "      <td>0.838494</td>\n",
       "    </tr>\n",
       "    <tr>\n",
       "      <th>lgb_dart</th>\n",
       "      <td>0.960924</td>\n",
       "      <td>0.961527</td>\n",
       "      <td>0.648102</td>\n",
       "      <td>0.964891</td>\n",
       "      <td>1.000000</td>\n",
       "      <td>0.958012</td>\n",
       "      <td>0.816555</td>\n",
       "    </tr>\n",
       "    <tr>\n",
       "      <th>cb</th>\n",
       "      <td>0.968528</td>\n",
       "      <td>0.969063</td>\n",
       "      <td>0.668635</td>\n",
       "      <td>0.966305</td>\n",
       "      <td>0.958012</td>\n",
       "      <td>1.000000</td>\n",
       "      <td>0.825806</td>\n",
       "    </tr>\n",
       "    <tr>\n",
       "      <th>rf</th>\n",
       "      <td>0.834602</td>\n",
       "      <td>0.835103</td>\n",
       "      <td>0.704537</td>\n",
       "      <td>0.838494</td>\n",
       "      <td>0.816555</td>\n",
       "      <td>0.825806</td>\n",
       "      <td>1.000000</td>\n",
       "    </tr>\n",
       "  </tbody>\n",
       "</table>\n",
       "</div>"
      ],
      "text/plain": [
       "                 xgb  xgb_dart  xgb_linear       lgb  lgb_dart        cb  \\\n",
       "xgb         1.000000  0.990437    0.671738  0.978496  0.960924  0.968528   \n",
       "xgb_dart    0.990437  1.000000    0.672186  0.978991  0.961527  0.969063   \n",
       "xgb_linear  0.671738  0.672186    1.000000  0.663783  0.648102  0.668635   \n",
       "lgb         0.978496  0.978991    0.663783  1.000000  0.964891  0.966305   \n",
       "lgb_dart    0.960924  0.961527    0.648102  0.964891  1.000000  0.958012   \n",
       "cb          0.968528  0.969063    0.668635  0.966305  0.958012  1.000000   \n",
       "rf          0.834602  0.835103    0.704537  0.838494  0.816555  0.825806   \n",
       "\n",
       "                  rf  \n",
       "xgb         0.834602  \n",
       "xgb_dart    0.835103  \n",
       "xgb_linear  0.704537  \n",
       "lgb         0.838494  \n",
       "lgb_dart    0.816555  \n",
       "cb          0.825806  \n",
       "rf          1.000000  "
      ]
     },
     "execution_count": 78,
     "metadata": {},
     "output_type": "execute_result"
    }
   ],
   "source": [
    "OOF_results.corr()"
   ]
  },
  {
   "cell_type": "code",
   "execution_count": 80,
   "metadata": {},
   "outputs": [
    {
     "name": "stdout",
     "output_type": "stream",
     "text": [
      "score xgb:\t[0.72317, 0.72743, 0.72017, 0.71679, 0.72393]\n",
      "score xgb_dart:\t[0.72073, 0.73045, 0.7141, 0.72825, 0.71727]\n",
      "score xgb_linear:\t[0.6783, 0.6723, 0.6802, 0.67514, 0.67445]\n",
      "score lgb:\t[0.71598, 0.72272, 0.72455, 0.72893, 0.72872]\n",
      "score lgb_dart:\t[0.72426, 0.72975, 0.72111, 0.72705, 0.72512]\n",
      "score cb:\t[0.72715, 0.72721, 0.73258, 0.72783, 0.71956]\n",
      "score rf:\t[0.711, 0.70837, 0.71403, 0.70729, 0.70345]\n"
     ]
    }
   ],
   "source": [
    "scores = [folds_scores_xgb, folds_scores_xgb_dart, folds_scores_xgb_linear,\n",
    "          folds_scores_lgb, folds_scores_lgb_dart, folds_scores_cb, folds_scores_rf]\n",
    "for i, score in enumerate(scores):\n",
    "    print(f'score {cols[i]}:\\t{score}')"
   ]
  },
  {
   "cell_type": "code",
   "execution_count": 116,
   "metadata": {},
   "outputs": [],
   "source": [
    "predictions = pd.DataFrame()\n",
    "y_pred = 0\n",
    "for model in estimators_xgb:\n",
    "    y_pred += model.predict(xgb.DMatrix(data=test_final[SELECTED_FEATURE_NAMES_xgb]))\n",
    "y_pred /= len(estimators_xgb)\n",
    "predictions.loc[:, 'xgb'] = y_pred\n",
    "\n",
    "y_pred = 0\n",
    "for model in estimators_xgb_dart:\n",
    "    y_pred += model.predict(xgb.DMatrix(data=test_final[SELECTED_FEATURE_NAMES_xgb]))\n",
    "y_pred /= len(estimators_xgb_dart)\n",
    "predictions.loc[:, 'xgb_dart'] = y_pred\n",
    "\n",
    "y_pred = 0\n",
    "for model in estimators_xgb_linear:\n",
    "    y_pred += model.predict(xgb.DMatrix(data=test_final[SELECTED_FEATURE_NAMES_xgb]))\n",
    "y_pred /= len(estimators_xgb_linear)\n",
    "predictions.loc[:, 'xgb_linear'] = y_pred\n",
    "\n",
    "y_pred = 0\n",
    "for model in estimators_lgb:\n",
    "    y_pred = model.predict(test_final[SELECTED_FEATURE_NAMES_lgb])\n",
    "y_pred /= len(estimators_lgb)\n",
    "predictions.loc[:, 'lgb'] = y_pred\n",
    "\n",
    "y_pred = 0\n",
    "for model in estimators_lgb_dart:\n",
    "    y_pred = model.predict(test_final[SELECTED_FEATURE_NAMES_lgb])\n",
    "y_pred /= len(estimators_lgb_dart)\n",
    "predictions.loc[:, 'lgb_dart'] = y_pred\n",
    "\n",
    "y_pred = 0\n",
    "for model in estimators_cb:\n",
    "    y_pred = model.predict_proba(test_final[SELECTED_FEATURE_NAMES_cb])[:, 1]\n",
    "y_pred /= len(estimators_cb)\n",
    "predictions.loc[:, 'cb'] = y_pred\n",
    "\n",
    "y_pred = 0\n",
    "for model in estimators_rf:\n",
    "    y_pred = model.predict_proba(test_final[SELECTED_FEATURE_NAMES_rf].fillna(-99))[:, 1]\n",
    "y_pred /= len(estimators_rf)\n",
    "predictions.loc[:, 'rf'] = y_pred"
   ]
  },
  {
   "cell_type": "code",
   "execution_count": 117,
   "metadata": {},
   "outputs": [
    {
     "data": {
      "text/html": [
       "<div>\n",
       "<style scoped>\n",
       "    .dataframe tbody tr th:only-of-type {\n",
       "        vertical-align: middle;\n",
       "    }\n",
       "\n",
       "    .dataframe tbody tr th {\n",
       "        vertical-align: top;\n",
       "    }\n",
       "\n",
       "    .dataframe thead th {\n",
       "        text-align: right;\n",
       "    }\n",
       "</style>\n",
       "<table border=\"1\" class=\"dataframe\">\n",
       "  <thead>\n",
       "    <tr style=\"text-align: right;\">\n",
       "      <th></th>\n",
       "      <th>xgb</th>\n",
       "      <th>xgb_dart</th>\n",
       "      <th>xgb_linear</th>\n",
       "      <th>lgb</th>\n",
       "      <th>lgb_dart</th>\n",
       "      <th>cb</th>\n",
       "      <th>rf</th>\n",
       "    </tr>\n",
       "  </thead>\n",
       "  <tbody>\n",
       "    <tr>\n",
       "      <th>xgb</th>\n",
       "      <td>1.000000</td>\n",
       "      <td>0.999333</td>\n",
       "      <td>0.674728</td>\n",
       "      <td>0.982167</td>\n",
       "      <td>0.966214</td>\n",
       "      <td>0.969461</td>\n",
       "      <td>0.835335</td>\n",
       "    </tr>\n",
       "    <tr>\n",
       "      <th>xgb_dart</th>\n",
       "      <td>0.999333</td>\n",
       "      <td>1.000000</td>\n",
       "      <td>0.676146</td>\n",
       "      <td>0.982403</td>\n",
       "      <td>0.966824</td>\n",
       "      <td>0.969955</td>\n",
       "      <td>0.835373</td>\n",
       "    </tr>\n",
       "    <tr>\n",
       "      <th>xgb_linear</th>\n",
       "      <td>0.674728</td>\n",
       "      <td>0.676146</td>\n",
       "      <td>1.000000</td>\n",
       "      <td>0.661773</td>\n",
       "      <td>0.645555</td>\n",
       "      <td>0.673193</td>\n",
       "      <td>0.703720</td>\n",
       "    </tr>\n",
       "    <tr>\n",
       "      <th>lgb</th>\n",
       "      <td>0.982167</td>\n",
       "      <td>0.982403</td>\n",
       "      <td>0.661773</td>\n",
       "      <td>1.000000</td>\n",
       "      <td>0.969541</td>\n",
       "      <td>0.963599</td>\n",
       "      <td>0.828767</td>\n",
       "    </tr>\n",
       "    <tr>\n",
       "      <th>lgb_dart</th>\n",
       "      <td>0.966214</td>\n",
       "      <td>0.966824</td>\n",
       "      <td>0.645555</td>\n",
       "      <td>0.969541</td>\n",
       "      <td>1.000000</td>\n",
       "      <td>0.954693</td>\n",
       "      <td>0.813013</td>\n",
       "    </tr>\n",
       "    <tr>\n",
       "      <th>cb</th>\n",
       "      <td>0.969461</td>\n",
       "      <td>0.969955</td>\n",
       "      <td>0.673193</td>\n",
       "      <td>0.963599</td>\n",
       "      <td>0.954693</td>\n",
       "      <td>1.000000</td>\n",
       "      <td>0.822605</td>\n",
       "    </tr>\n",
       "    <tr>\n",
       "      <th>rf</th>\n",
       "      <td>0.835335</td>\n",
       "      <td>0.835373</td>\n",
       "      <td>0.703720</td>\n",
       "      <td>0.828767</td>\n",
       "      <td>0.813013</td>\n",
       "      <td>0.822605</td>\n",
       "      <td>1.000000</td>\n",
       "    </tr>\n",
       "  </tbody>\n",
       "</table>\n",
       "</div>"
      ],
      "text/plain": [
       "                 xgb  xgb_dart  xgb_linear       lgb  lgb_dart        cb  \\\n",
       "xgb         1.000000  0.999333    0.674728  0.982167  0.966214  0.969461   \n",
       "xgb_dart    0.999333  1.000000    0.676146  0.982403  0.966824  0.969955   \n",
       "xgb_linear  0.674728  0.676146    1.000000  0.661773  0.645555  0.673193   \n",
       "lgb         0.982167  0.982403    0.661773  1.000000  0.969541  0.963599   \n",
       "lgb_dart    0.966214  0.966824    0.645555  0.969541  1.000000  0.954693   \n",
       "cb          0.969461  0.969955    0.673193  0.963599  0.954693  1.000000   \n",
       "rf          0.835335  0.835373    0.703720  0.828767  0.813013  0.822605   \n",
       "\n",
       "                  rf  \n",
       "xgb         0.835335  \n",
       "xgb_dart    0.835373  \n",
       "xgb_linear  0.703720  \n",
       "lgb         0.828767  \n",
       "lgb_dart    0.813013  \n",
       "cb          0.822605  \n",
       "rf          1.000000  "
      ]
     },
     "execution_count": 117,
     "metadata": {},
     "output_type": "execute_result"
    }
   ],
   "source": [
    "predictions.corr()"
   ]
  },
  {
   "cell_type": "code",
   "execution_count": 118,
   "metadata": {},
   "outputs": [],
   "source": [
    "def transform_predictions(predictions):\n",
    "    predictions.loc[:, 'mean_xgb_lgb'] =\\\n",
    "             predictions[['xgb', 'lgb']].mean(axis=1).values    \n",
    "    predictions.loc[:, 'mean_xgb_lgb_cb'] =\\\n",
    "                 predictions[['xgb', 'lgb', 'cb']].mean(axis=1).values    \n",
    "    predictions.loc[:, 'mean_xgb_lgb_rf',] =\\\n",
    "             predictions[['xgb', 'lgb', 'rf']].mean(axis=1).values    \n",
    "    predictions.loc[:, 'mean_xgb_xgb_linear_lgb',] =\\\n",
    "             predictions[['xgb', 'xgb_linear', 'lgb']].mean(axis=1).values\n",
    "\n",
    "    # геометриеское среднее\n",
    "    predictions.loc[:, 'gmean_xgb_lgb'] =\\\n",
    "                 gmean(predictions[['xgb', 'lgb']],axis=1)\n",
    "    predictions.loc[:, 'gmean_xgb_lgb_cb'] =\\\n",
    "                 gmean(predictions[['xgb', 'lgb', 'cb']],axis=1)\n",
    "    predictions.loc[:, 'gmean_xgb_lgb_rf'] =\\\n",
    "                 gmean(predictions[['xgb', 'lgb', 'rf']],axis=1)\n",
    "    predictions.loc[:, 'gmean_xgb_linear_lgb'] =\\\n",
    "                 gmean(predictions[['xgb', 'xgb_linear', 'lgb']],axis=1)\n",
    "    \n",
    "    # усреднение рангов   \n",
    "    predictions.loc[:, 'mean_rank_xgb_lgb'] =\\\n",
    "             predictions[['xgb', 'lgb']].rank(axis=0).mean(axis=1).values    \n",
    "    predictions.loc[:, 'mean_rank_xgb_lgb_cb'] =\\\n",
    "                 predictions[['xgb', 'lgb', 'cb']].rank(axis=0).mean(axis=1).values    \n",
    "    predictions.loc[:, 'mean_rank_xgb_lgb_rf',] =\\\n",
    "             predictions[['xgb', 'lgb', 'rf']].rank(axis=0).mean(axis=1).values    \n",
    "    predictions.loc[:, 'mean_rank_xgb_xgb_linear_lgb',] =\\\n",
    "             predictions[['xgb', 'xgb_linear', 'lgb']].rank(axis=0).mean(axis=1).values\n",
    "    \n",
    "    return predictions  "
   ]
  },
  {
   "cell_type": "code",
   "execution_count": 119,
   "metadata": {},
   "outputs": [],
   "source": [
    "OOF_results = transform_predictions(OOF_results)\n",
    "predictions = transform_predictions(predictions)"
   ]
  },
  {
   "cell_type": "code",
   "execution_count": 120,
   "metadata": {},
   "outputs": [],
   "source": [
    "OOF_results.to_csv(PATH + 'OOF_results.csv')\n",
    "predictions.to_csv(PATH + 'predictions_test.csv')\n",
    "#OOF_results = pd.read_csv(PATH + 'OOF_results.csv').set_index('APPLICATION_NUMBER')\n",
    "#predictions = pd.read_csv(PATH + 'predictions.csv').set_index('APPLICATION_NUMBER')"
   ]
  },
  {
   "cell_type": "markdown",
   "metadata": {},
   "source": [
    "#### roc_auc_score OOF_results"
   ]
  },
  {
   "cell_type": "code",
   "execution_count": 121,
   "metadata": {},
   "outputs": [
    {
     "data": {
      "text/html": [
       "<div>\n",
       "<style scoped>\n",
       "    .dataframe tbody tr th:only-of-type {\n",
       "        vertical-align: middle;\n",
       "    }\n",
       "\n",
       "    .dataframe tbody tr th {\n",
       "        vertical-align: top;\n",
       "    }\n",
       "\n",
       "    .dataframe thead th {\n",
       "        text-align: right;\n",
       "    }\n",
       "</style>\n",
       "<table border=\"1\" class=\"dataframe\">\n",
       "  <thead>\n",
       "    <tr style=\"text-align: right;\">\n",
       "      <th></th>\n",
       "      <th>roc_auc_score</th>\n",
       "    </tr>\n",
       "  </thead>\n",
       "  <tbody>\n",
       "    <tr>\n",
       "      <th>xgb</th>\n",
       "      <td>0.721720</td>\n",
       "    </tr>\n",
       "    <tr>\n",
       "      <th>xgb_dart</th>\n",
       "      <td>0.721481</td>\n",
       "    </tr>\n",
       "    <tr>\n",
       "      <th>xgb_linear</th>\n",
       "      <td>0.675377</td>\n",
       "    </tr>\n",
       "    <tr>\n",
       "      <th>lgb</th>\n",
       "      <td>0.723328</td>\n",
       "    </tr>\n",
       "    <tr>\n",
       "      <th>lgb_dart</th>\n",
       "      <td>0.725173</td>\n",
       "    </tr>\n",
       "    <tr>\n",
       "      <th>cb</th>\n",
       "      <td>0.726432</td>\n",
       "    </tr>\n",
       "    <tr>\n",
       "      <th>rf</th>\n",
       "      <td>0.708294</td>\n",
       "    </tr>\n",
       "    <tr>\n",
       "      <th>mean_xgb_lgb</th>\n",
       "      <td>0.723408</td>\n",
       "    </tr>\n",
       "    <tr>\n",
       "      <th>mean_xgb_lgb_cb</th>\n",
       "      <td>0.725874</td>\n",
       "    </tr>\n",
       "    <tr>\n",
       "      <th>mean_xgb_lgb_rf</th>\n",
       "      <td>0.716494</td>\n",
       "    </tr>\n",
       "    <tr>\n",
       "      <th>mean_xgb_xgb_linear_lgb</th>\n",
       "      <td>0.719461</td>\n",
       "    </tr>\n",
       "    <tr>\n",
       "      <th>gmean_xgb_lgb</th>\n",
       "      <td>0.723241</td>\n",
       "    </tr>\n",
       "    <tr>\n",
       "      <th>gmean_xgb_lgb_cb</th>\n",
       "      <td>0.725532</td>\n",
       "    </tr>\n",
       "    <tr>\n",
       "      <th>gmean_xgb_lgb_rf</th>\n",
       "      <td>0.721356</td>\n",
       "    </tr>\n",
       "    <tr>\n",
       "      <th>gmean_xgb_linear_lgb</th>\n",
       "      <td>0.719250</td>\n",
       "    </tr>\n",
       "    <tr>\n",
       "      <th>mean_rank_xgb_lgb</th>\n",
       "      <td>0.723051</td>\n",
       "    </tr>\n",
       "    <tr>\n",
       "      <th>mean_rank_xgb_lgb_cb</th>\n",
       "      <td>0.725180</td>\n",
       "    </tr>\n",
       "    <tr>\n",
       "      <th>mean_rank_xgb_lgb_rf</th>\n",
       "      <td>0.719962</td>\n",
       "    </tr>\n",
       "    <tr>\n",
       "      <th>mean_rank_xgb_xgb_linear_lgb</th>\n",
       "      <td>0.716917</td>\n",
       "    </tr>\n",
       "  </tbody>\n",
       "</table>\n",
       "</div>"
      ],
      "text/plain": [
       "                              roc_auc_score\n",
       "xgb                                0.721720\n",
       "xgb_dart                           0.721481\n",
       "xgb_linear                         0.675377\n",
       "lgb                                0.723328\n",
       "lgb_dart                           0.725173\n",
       "cb                                 0.726432\n",
       "rf                                 0.708294\n",
       "mean_xgb_lgb                       0.723408\n",
       "mean_xgb_lgb_cb                    0.725874\n",
       "mean_xgb_lgb_rf                    0.716494\n",
       "mean_xgb_xgb_linear_lgb            0.719461\n",
       "gmean_xgb_lgb                      0.723241\n",
       "gmean_xgb_lgb_cb                   0.725532\n",
       "gmean_xgb_lgb_rf                   0.721356\n",
       "gmean_xgb_linear_lgb               0.719250\n",
       "mean_rank_xgb_lgb                  0.723051\n",
       "mean_rank_xgb_lgb_cb               0.725180\n",
       "mean_rank_xgb_lgb_rf               0.719962\n",
       "mean_rank_xgb_xgb_linear_lgb       0.716917"
      ]
     },
     "execution_count": 121,
     "metadata": {},
     "output_type": "execute_result"
    }
   ],
   "source": [
    "roc_auc = pd.DataFrame()\n",
    "for y_pred in OOF_results.columns:\n",
    "    roc_auc.loc[y_pred, 'roc_auc_score'] = roc_auc_score(train[TARGET_NAME], OOF_results[y_pred])\n",
    "    \n",
    "roc_auc "
   ]
  },
  {
   "cell_type": "markdown",
   "metadata": {},
   "source": [
    "### 6. Построение прогнозов на полном наборе данных"
   ]
  },
  {
   "cell_type": "code",
   "execution_count": 122,
   "metadata": {},
   "outputs": [],
   "source": [
    "from sklearn.model_selection import train_test_split"
   ]
  },
  {
   "cell_type": "code",
   "execution_count": 123,
   "metadata": {},
   "outputs": [
    {
     "name": "stdout",
     "output_type": "stream",
     "text": [
      "train score = 0.74521, valid score = 0.7293, test score = 0.72744\n"
     ]
    }
   ],
   "source": [
    "results_train, results_valid, results_y_train, results_y_valid = \\\n",
    "train_test_split(OOF_results, train[TARGET_NAME], \n",
    "                 test_size=0.3, stratify=train[TARGET_NAME], random_state=42)\n",
    "\n",
    "results_valid, results_test, results_y_valid,  results_y_test = \\\n",
    "train_test_split(results_valid, results_y_valid, \n",
    "                 test_size=0.5, stratify=results_y_valid, random_state=42)\n",
    "\n",
    "params_rf = {\"n_estimators\": 300,\n",
    "                     \"max_depth\": 6,\n",
    "                     \"class_weight\": 'balanced_subsample', \n",
    "                     \"random_state\": 42}  \n",
    "\n",
    "model_rf = RandomForestClassifier(**params_rf)\n",
    "model_rf.fit(results_train, results_y_train)\n",
    "y_pred_ = model_cb.predict_proba(results_valid)[:, 1] \n",
    "\n",
    "y_train_pred = model_rf.predict_proba(results_train)[:, 1]\n",
    "train_score = roc_auc_score(results_y_train, y_train_pred) \n",
    "\n",
    "y_valid_pred = model_rf.predict_proba(results_valid)[:, 1]\n",
    "valid_score = roc_auc_score(results_y_valid, y_valid_pred)\n",
    "        \n",
    "y_test_pred = model_rf.predict_proba(results_test)[:, 1]\n",
    "test_score = roc_auc_score(results_y_test, y_test_pred)\n",
    "\n",
    "print(f'train score = {round(train_score, 5)}, valid score = {round(valid_score, 5)}, test score = {round(test_score, 5)}')\n",
    "# train score = 0.72742, valid score = 0.7252, test score = 0.72573 2\n",
    "# train score = 0.72869, valid score = 0.72661, test score = 0.72638 3\n",
    "# train score = 0.733, valid score = 0.72835, test score = 0.72664 4\n",
    "# train score = 0.73787, valid score = 0.72905, test score = 0.72718 5"
   ]
  },
  {
   "cell_type": "code",
   "execution_count": 126,
   "metadata": {},
   "outputs": [
    {
     "data": {
      "text/html": [
       "<div>\n",
       "<style scoped>\n",
       "    .dataframe tbody tr th:only-of-type {\n",
       "        vertical-align: middle;\n",
       "    }\n",
       "\n",
       "    .dataframe tbody tr th {\n",
       "        vertical-align: top;\n",
       "    }\n",
       "\n",
       "    .dataframe thead th {\n",
       "        text-align: right;\n",
       "    }\n",
       "</style>\n",
       "<table border=\"1\" class=\"dataframe\">\n",
       "  <thead>\n",
       "    <tr style=\"text-align: right;\">\n",
       "      <th></th>\n",
       "      <th>TARGET</th>\n",
       "    </tr>\n",
       "    <tr>\n",
       "      <th>APPLICATION_NUMBER</th>\n",
       "      <th></th>\n",
       "    </tr>\n",
       "  </thead>\n",
       "  <tbody>\n",
       "    <tr>\n",
       "      <th>123423342</th>\n",
       "      <td>0.081331</td>\n",
       "    </tr>\n",
       "    <tr>\n",
       "      <th>123423343</th>\n",
       "      <td>0.061938</td>\n",
       "    </tr>\n",
       "  </tbody>\n",
       "</table>\n",
       "</div>"
      ],
      "text/plain": [
       "                      TARGET\n",
       "APPLICATION_NUMBER          \n",
       "123423342           0.081331\n",
       "123423343           0.061938"
      ]
     },
     "execution_count": 126,
     "metadata": {},
     "output_type": "execute_result"
    }
   ],
   "source": [
    "df = test.copy()\n",
    "#y_pred_final = model_rf.predict_proba(predictions)[:, 1]\n",
    "#df.loc[:, 'TARGET'] = y_pred_final\n",
    "y_pred_final = predictions['cb'].values\n",
    "df.loc[:, 'TARGET'] = y_pred_final / y_pred_final.max()\n",
    "y_final = df[['APPLICATION_NUMBER', 'TARGET']].groupby('APPLICATION_NUMBER').mean()\n",
    "y_final.to_csv(PATH + 'predictions.csv')\n",
    "y_final.head(2)"
   ]
  },
  {
   "cell_type": "markdown",
   "metadata": {},
   "source": [
    "### 1. Обучить алгоритмы LightGBM и XGBoost, получить OOF прогнозы, оценить корреляцию прогнозов на обучающей выборке. Применить модели на тестовую выборку и оценить корреляцию."
   ]
  },
  {
   "cell_type": "markdown",
   "metadata": {},
   "source": [
    "На обучающей и тестовой выборках корреляция прогнозов LightGBM и XGBoost сопоставима: 0.9785 и 0.9817 соответственно."
   ]
  },
  {
   "cell_type": "markdown",
   "metadata": {},
   "source": [
    "### 2. Усреднить прогнозы с помощью арифмитического среднего, геометрического среднего и усреднить ранги, сделать выводы о качестве отдельных моделей и о качестве комбинации."
   ]
  },
  {
   "cell_type": "markdown",
   "metadata": {},
   "source": [
    "Каество комбиннации моделей может быть выше качества каждой модели, входящей в комбинацию. Среднее арифметическое дает лучший результат, чем среднее геометрическое."
   ]
  },
  {
   "cell_type": "markdown",
   "metadata": {},
   "source": [
    "### 3. Обучить CatBoost, получить OOF прогнозы и выполнить задание 1 для трех моделей."
   ]
  },
  {
   "cell_type": "markdown",
   "metadata": {},
   "source": [
    "Корреляция CatBoost с моделями LightGBM и XGBoost составляяяет 0.9685 с XGBoost и 0.9663 с LightGBM. Аналогичная ситуация на тестовой выборке: 0.9635 и 0.9639 соответсвтвенно."
   ]
  },
  {
   "cell_type": "markdown",
   "metadata": {},
   "source": [
    "### 4. Выполнить задание 2 для трех моделей."
   ]
  },
  {
   "cell_type": "markdown",
   "metadata": {},
   "source": [
    "Комбинация трех моделей дает более высокий результат, чем комбинация 2 моделей."
   ]
  },
  {
   "cell_type": "markdown",
   "metadata": {},
   "source": [
    "### 5. (опция) Объединить OOF-прогнозы для трех моделей и обучить алгоритм Логистической регрессии (и любой другой, на ваше усмотрение). Сделать выводы о достигаемом качестве, сравнить достигаемое качество с качеством отдельных моделей и моделей, полученных в п.2 и п.4."
   ]
  },
  {
   "cell_type": "markdown",
   "metadata": {},
   "source": [
    "Качество, достигаемое при использовании XGBoost ниже качества отдельной модели СatBoost ."
   ]
  },
  {
   "cell_type": "markdown",
   "metadata": {},
   "source": [
    "### 6. (опция) Обучить алгоритм RandomForest (желательно подтюнить параметры) и добавить к построенным ранее моделям. Выполнить задание 5."
   ]
  },
  {
   "cell_type": "markdown",
   "metadata": {},
   "source": [
    "У алгоритма RandomForest самая низкая корреляция с другими моделями, должно быть, он вносит вклад в достигнутый результат, несмотря на относительно слабую индивидуальную эффективность."
   ]
  }
 ],
 "metadata": {
  "kernelspec": {
   "display_name": "Python 3",
   "language": "python",
   "name": "python3"
  },
  "language_info": {
   "codemirror_mode": {
    "name": "ipython",
    "version": 3
   },
   "file_extension": ".py",
   "mimetype": "text/x-python",
   "name": "python",
   "nbconvert_exporter": "python",
   "pygments_lexer": "ipython3",
   "version": "3.8.2"
  }
 },
 "nbformat": 4,
 "nbformat_minor": 4
}
