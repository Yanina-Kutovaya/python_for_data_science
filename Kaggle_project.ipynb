{
 "cells": [
  {
   "cell_type": "markdown",
   "metadata": {},
   "source": [
    "## Real Estate Price Prediction\n",
    "### Geekbrains AI/BigData Python for Data Science course competition"
   ]
  },
  {
   "cell_type": "code",
   "execution_count": 1,
   "metadata": {},
   "outputs": [],
   "source": [
    "import gc # сборщик мусора\n",
    "\n",
    "import numpy as np \n",
    "import pandas as pd \n",
    "\n",
    "from sklearn.preprocessing import StandardScaler\n",
    "from sklearn.decomposition import PCA\n",
    "from sklearn.cluster import KMeans\n",
    "from sklearn.ensemble import RandomForestRegressor\n",
    "from sklearn.ensemble import VotingRegressor\n",
    "\n",
    "from sklearn.metrics import r2_score\n",
    "from sklearn.model_selection import cross_val_score\n",
    "from sklearn.model_selection import train_test_split, KFold, GridSearchCV\n",
    "\n",
    "from lightgbm import LGBMRegressor\n",
    "\n",
    "\n",
    "import matplotlib\n",
    "import matplotlib.pyplot as plt\n",
    "import seaborn as sns\n",
    "%matplotlib inline\n",
    "\n",
    "import datetime\n",
    "\n",
    "import warnings\n",
    "warnings.filterwarnings('ignore')"
   ]
  },
  {
   "cell_type": "markdown",
   "metadata": {},
   "source": [
    "###  1. Data loading"
   ]
  },
  {
   "cell_type": "markdown",
   "metadata": {},
   "source": [
    "#### Data fields\n",
    "- Id - apartment identification number\n",
    "- DistrictId - district identification number\n",
    "- Rooms - number of rooms\n",
    "- Square - apartment area\n",
    "- LifeSquare - living area of apartment\n",
    "- KitchenSquare - kitchen area \n",
    "- Floor - apartment floor\n",
    "- HouseFloor - the number of floors of a building\n",
    "- HouseYear - Building year of completion\n",
    "- Ecology_1, Ecology_2, Ecology_3 - environmental indicators of the area\n",
    "- Social_1, Social_2, Social_3 - social indicators of the area\n",
    "- Healthcare_1, Helthcare_2 - healthcare indicators of the area\n",
    "- Shops_1, Shops_2 - indicators related to the presence of shops, shopping centers"
   ]
  },
  {
   "cell_type": "code",
   "execution_count": 2,
   "metadata": {},
   "outputs": [
    {
     "name": "stdout",
     "output_type": "stream",
     "text": [
      "X.shape: (10000, 18)\n",
      "X_final.shape (5000, 18)\n"
     ]
    },
    {
     "data": {
      "text/plain": [
       "0"
      ]
     },
     "execution_count": 2,
     "metadata": {},
     "output_type": "execute_result"
    }
   ],
   "source": [
    "df = pd.read_csv('C:/Users/ASER/Desktop/GeekBrains/ML_libraries/kaggle_project/train.csv')\n",
    "\n",
    "X = df.drop('Price', axis=1)\n",
    "y = df[['Price']]\n",
    "\n",
    "X_final = pd.read_csv('C:/Users/ASER/Desktop/GeekBrains/ML_libraries/kaggle_project/test.csv')\n",
    "\n",
    "# сразу создам\n",
    "preds_final = pd.DataFrame()\n",
    "preds_final['Id'] = X_final['Id'].copy()\n",
    "\n",
    "X.set_index('Id', inplace=True)\n",
    "X_final.set_index('Id', inplace=True)\n",
    "\n",
    "print('X.shape:', X.shape)\n",
    "print('X_final.shape', X_final.shape)\n",
    "\n",
    "# Удалим ненужные файлы\n",
    "#del df\n",
    "gc.collect()  "
   ]
  },
  {
   "cell_type": "code",
   "execution_count": 3,
   "metadata": {},
   "outputs": [
    {
     "data": {
      "text/html": [
       "<div>\n",
       "<style scoped>\n",
       "    .dataframe tbody tr th:only-of-type {\n",
       "        vertical-align: middle;\n",
       "    }\n",
       "\n",
       "    .dataframe tbody tr th {\n",
       "        vertical-align: top;\n",
       "    }\n",
       "\n",
       "    .dataframe thead th {\n",
       "        text-align: right;\n",
       "    }\n",
       "</style>\n",
       "<table border=\"1\" class=\"dataframe\">\n",
       "  <thead>\n",
       "    <tr style=\"text-align: right;\">\n",
       "      <th></th>\n",
       "      <th>DistrictId</th>\n",
       "      <th>Rooms</th>\n",
       "      <th>Square</th>\n",
       "      <th>LifeSquare</th>\n",
       "      <th>KitchenSquare</th>\n",
       "      <th>Floor</th>\n",
       "      <th>HouseFloor</th>\n",
       "      <th>HouseYear</th>\n",
       "      <th>Ecology_1</th>\n",
       "      <th>Ecology_2</th>\n",
       "      <th>Ecology_3</th>\n",
       "      <th>Social_1</th>\n",
       "      <th>Social_2</th>\n",
       "      <th>Social_3</th>\n",
       "      <th>Healthcare_1</th>\n",
       "      <th>Helthcare_2</th>\n",
       "      <th>Shops_1</th>\n",
       "      <th>Shops_2</th>\n",
       "    </tr>\n",
       "    <tr>\n",
       "      <th>Id</th>\n",
       "      <th></th>\n",
       "      <th></th>\n",
       "      <th></th>\n",
       "      <th></th>\n",
       "      <th></th>\n",
       "      <th></th>\n",
       "      <th></th>\n",
       "      <th></th>\n",
       "      <th></th>\n",
       "      <th></th>\n",
       "      <th></th>\n",
       "      <th></th>\n",
       "      <th></th>\n",
       "      <th></th>\n",
       "      <th></th>\n",
       "      <th></th>\n",
       "      <th></th>\n",
       "      <th></th>\n",
       "    </tr>\n",
       "  </thead>\n",
       "  <tbody>\n",
       "    <tr>\n",
       "      <th>14038</th>\n",
       "      <td>35</td>\n",
       "      <td>2.0</td>\n",
       "      <td>47.981561</td>\n",
       "      <td>29.442751</td>\n",
       "      <td>6.0</td>\n",
       "      <td>7</td>\n",
       "      <td>9.0</td>\n",
       "      <td>1969</td>\n",
       "      <td>0.08904</td>\n",
       "      <td>B</td>\n",
       "      <td>B</td>\n",
       "      <td>33</td>\n",
       "      <td>7976</td>\n",
       "      <td>5</td>\n",
       "      <td>NaN</td>\n",
       "      <td>0</td>\n",
       "      <td>11</td>\n",
       "      <td>B</td>\n",
       "    </tr>\n",
       "    <tr>\n",
       "      <th>15053</th>\n",
       "      <td>41</td>\n",
       "      <td>3.0</td>\n",
       "      <td>65.683640</td>\n",
       "      <td>40.049543</td>\n",
       "      <td>8.0</td>\n",
       "      <td>7</td>\n",
       "      <td>9.0</td>\n",
       "      <td>1978</td>\n",
       "      <td>0.00007</td>\n",
       "      <td>B</td>\n",
       "      <td>B</td>\n",
       "      <td>46</td>\n",
       "      <td>10309</td>\n",
       "      <td>1</td>\n",
       "      <td>240.0</td>\n",
       "      <td>1</td>\n",
       "      <td>16</td>\n",
       "      <td>B</td>\n",
       "    </tr>\n",
       "  </tbody>\n",
       "</table>\n",
       "</div>"
      ],
      "text/plain": [
       "       DistrictId  Rooms     Square  LifeSquare  KitchenSquare  Floor  \\\n",
       "Id                                                                      \n",
       "14038          35    2.0  47.981561   29.442751            6.0      7   \n",
       "15053          41    3.0  65.683640   40.049543            8.0      7   \n",
       "\n",
       "       HouseFloor  HouseYear  Ecology_1 Ecology_2 Ecology_3  Social_1  \\\n",
       "Id                                                                      \n",
       "14038         9.0       1969    0.08904         B         B        33   \n",
       "15053         9.0       1978    0.00007         B         B        46   \n",
       "\n",
       "       Social_2  Social_3  Healthcare_1  Helthcare_2  Shops_1 Shops_2  \n",
       "Id                                                                     \n",
       "14038      7976         5           NaN            0       11       B  \n",
       "15053     10309         1         240.0            1       16       B  "
      ]
     },
     "execution_count": 3,
     "metadata": {},
     "output_type": "execute_result"
    }
   ],
   "source": [
    "X.head(2)"
   ]
  },
  {
   "cell_type": "markdown",
   "metadata": {},
   "source": [
    "### Exploratory Data Analysis"
   ]
  },
  {
   "cell_type": "markdown",
   "metadata": {},
   "source": [
    "### A. Target tariable distribution"
   ]
  },
  {
   "cell_type": "code",
   "execution_count": 4,
   "metadata": {},
   "outputs": [
    {
     "data": {
      "image/png": "[encoded data removed]",
      "text/plain": [
       "<Figure size 1152x576 with 2 Axes>"
      ]
     },
     "metadata": {
      "needs_background": "light"
     },
     "output_type": "display_data"
    }
   ],
   "source": [
    "plt.figure(figsize = (16, 8))\n",
    "\n",
    "plt.subplot(121)\n",
    "df['Price'].hist(density=True)  # density=True  # shift + Tab = спарвка по функции\n",
    "plt.ylabel('count')\n",
    "plt.xlabel('Price')\n",
    "\n",
    "plt.subplot(122)\n",
    "sns.kdeplot(y['Price'], shade=True, legend=False)\n",
    "plt.xlabel('Price')\n",
    "\n",
    "plt.suptitle('Distribution of price')\n",
    "plt.show()"
   ]
  },
  {
   "cell_type": "code",
   "execution_count": 5,
   "metadata": {},
   "outputs": [
    {
     "name": "stdout",
     "output_type": "stream",
     "text": [
      "target_mean =  214139.0\n",
      "target_median =  192270.0\n",
      "target_mode =  59175.0\n"
     ]
    }
   ],
   "source": [
    "target_mean = y['Price'].mean()\n",
    "target_median = y['Price'].median()\n",
    "target_mode = y['Price'].mode()[0]\n",
    "\n",
    "print('target_mean = ', target_mean.round())\n",
    "print('target_median = ', target_median.round())\n",
    "print('target_mode = ', target_mode.round())"
   ]
  },
  {
   "cell_type": "markdown",
   "metadata": {},
   "source": [
    "### B. Feature analysis"
   ]
  },
  {
   "cell_type": "code",
   "execution_count": 6,
   "metadata": {},
   "outputs": [
    {
     "data": {
      "text/plain": [
       "DistrictId         int64\n",
       "Rooms            float64\n",
       "Square           float64\n",
       "LifeSquare       float64\n",
       "KitchenSquare    float64\n",
       "Floor              int64\n",
       "HouseFloor       float64\n",
       "HouseYear          int64\n",
       "Ecology_1        float64\n",
       "Ecology_2         object\n",
       "Ecology_3         object\n",
       "Social_1           int64\n",
       "Social_2           int64\n",
       "Social_3           int64\n",
       "Healthcare_1     float64\n",
       "Helthcare_2        int64\n",
       "Shops_1            int64\n",
       "Shops_2           object\n",
       "dtype: object"
      ]
     },
     "execution_count": 6,
     "metadata": {},
     "output_type": "execute_result"
    }
   ],
   "source": [
    "X.dtypes"
   ]
  },
  {
   "cell_type": "markdown",
   "metadata": {},
   "source": [
    "#### 1. Rooms"
   ]
  },
  {
   "cell_type": "code",
   "execution_count": 7,
   "metadata": {},
   "outputs": [
    {
     "data": {
      "text/plain": [
       "2.0     3880\n",
       "1.0     3705\n",
       "3.0     2235\n",
       "4.0      150\n",
       "5.0       18\n",
       "0.0        8\n",
       "10.0       2\n",
       "19.0       1\n",
       "6.0        1\n",
       "Name: Rooms, dtype: int64"
      ]
     },
     "execution_count": 7,
     "metadata": {},
     "output_type": "execute_result"
    }
   ],
   "source": [
    "X['Rooms'].value_counts()\n",
    "# > 6 комнат, = 0 комнат"
   ]
  },
  {
   "cell_type": "markdown",
   "metadata": {},
   "source": [
    "#### 2. Square,  LifeSquare"
   ]
  },
  {
   "cell_type": "code",
   "execution_count": 8,
   "metadata": {},
   "outputs": [
    {
     "data": {
      "image/png": "[encoded data removed]",
      "text/plain": [
       "<Figure size 288x288 with 1 Axes>"
      ]
     },
     "metadata": {
      "needs_background": "light"
     },
     "output_type": "display_data"
    }
   ],
   "source": [
    "X.loc[X['Square'] > 0, 'Square'].\\\n",
    "    hist(figsize=(4,4), bins=20, grid=False);"
   ]
  },
  {
   "cell_type": "code",
   "execution_count": 9,
   "metadata": {},
   "outputs": [
    {
     "data": {
      "text/plain": [
       "Id\n",
       "1748     5.497061\n",
       "9487     5.129222\n",
       "13265    4.823679\n",
       "11526    4.633498\n",
       "7657     4.502784\n",
       "4504     4.390331\n",
       "10527    4.380726\n",
       "6782     2.954309\n",
       "10202    2.596351\n",
       "3224     2.377248\n",
       "15744    1.988943\n",
       "14786    1.136859\n",
       "Name: Square, dtype: float64"
      ]
     },
     "execution_count": 9,
     "metadata": {},
     "output_type": "execute_result"
    }
   ],
   "source": [
    "X[X.Square < 13].Square.sort_values(ascending=False)"
   ]
  },
  {
   "cell_type": "code",
   "execution_count": 10,
   "metadata": {},
   "outputs": [
    {
     "data": {
      "text/html": [
       "<div>\n",
       "<style scoped>\n",
       "    .dataframe tbody tr th:only-of-type {\n",
       "        vertical-align: middle;\n",
       "    }\n",
       "\n",
       "    .dataframe tbody tr th {\n",
       "        vertical-align: top;\n",
       "    }\n",
       "\n",
       "    .dataframe thead th {\n",
       "        text-align: right;\n",
       "    }\n",
       "</style>\n",
       "<table border=\"1\" class=\"dataframe\">\n",
       "  <thead>\n",
       "    <tr style=\"text-align: right;\">\n",
       "      <th></th>\n",
       "      <th>DistrictId</th>\n",
       "      <th>Rooms</th>\n",
       "      <th>Square</th>\n",
       "      <th>LifeSquare</th>\n",
       "      <th>KitchenSquare</th>\n",
       "      <th>Floor</th>\n",
       "      <th>HouseFloor</th>\n",
       "      <th>HouseYear</th>\n",
       "      <th>Ecology_1</th>\n",
       "      <th>Ecology_2</th>\n",
       "      <th>Ecology_3</th>\n",
       "      <th>Social_1</th>\n",
       "      <th>Social_2</th>\n",
       "      <th>Social_3</th>\n",
       "      <th>Healthcare_1</th>\n",
       "      <th>Helthcare_2</th>\n",
       "      <th>Shops_1</th>\n",
       "      <th>Shops_2</th>\n",
       "    </tr>\n",
       "    <tr>\n",
       "      <th>Id</th>\n",
       "      <th></th>\n",
       "      <th></th>\n",
       "      <th></th>\n",
       "      <th></th>\n",
       "      <th></th>\n",
       "      <th></th>\n",
       "      <th></th>\n",
       "      <th></th>\n",
       "      <th></th>\n",
       "      <th></th>\n",
       "      <th></th>\n",
       "      <th></th>\n",
       "      <th></th>\n",
       "      <th></th>\n",
       "      <th></th>\n",
       "      <th></th>\n",
       "      <th></th>\n",
       "      <th></th>\n",
       "    </tr>\n",
       "  </thead>\n",
       "  <tbody>\n",
       "    <tr>\n",
       "      <th>28</th>\n",
       "      <td>9</td>\n",
       "      <td>2.0</td>\n",
       "      <td>604.705972</td>\n",
       "      <td>NaN</td>\n",
       "      <td>1.0</td>\n",
       "      <td>17</td>\n",
       "      <td>18.0</td>\n",
       "      <td>1977</td>\n",
       "      <td>0.161532</td>\n",
       "      <td>B</td>\n",
       "      <td>B</td>\n",
       "      <td>25</td>\n",
       "      <td>5648</td>\n",
       "      <td>1</td>\n",
       "      <td>30.0</td>\n",
       "      <td>2</td>\n",
       "      <td>4</td>\n",
       "      <td>B</td>\n",
       "    </tr>\n",
       "    <tr>\n",
       "      <th>2307</th>\n",
       "      <td>102</td>\n",
       "      <td>1.0</td>\n",
       "      <td>409.425181</td>\n",
       "      <td>410.639749</td>\n",
       "      <td>10.0</td>\n",
       "      <td>4</td>\n",
       "      <td>4.0</td>\n",
       "      <td>2016</td>\n",
       "      <td>0.238617</td>\n",
       "      <td>B</td>\n",
       "      <td>B</td>\n",
       "      <td>26</td>\n",
       "      <td>3889</td>\n",
       "      <td>6</td>\n",
       "      <td>705.0</td>\n",
       "      <td>3</td>\n",
       "      <td>6</td>\n",
       "      <td>B</td>\n",
       "    </tr>\n",
       "    <tr>\n",
       "      <th>11602</th>\n",
       "      <td>30</td>\n",
       "      <td>2.0</td>\n",
       "      <td>641.065193</td>\n",
       "      <td>638.163193</td>\n",
       "      <td>10.0</td>\n",
       "      <td>20</td>\n",
       "      <td>19.0</td>\n",
       "      <td>2019</td>\n",
       "      <td>0.000078</td>\n",
       "      <td>B</td>\n",
       "      <td>B</td>\n",
       "      <td>22</td>\n",
       "      <td>6398</td>\n",
       "      <td>141</td>\n",
       "      <td>1046.0</td>\n",
       "      <td>3</td>\n",
       "      <td>23</td>\n",
       "      <td>B</td>\n",
       "    </tr>\n",
       "  </tbody>\n",
       "</table>\n",
       "</div>"
      ],
      "text/plain": [
       "       DistrictId  Rooms      Square  LifeSquare  KitchenSquare  Floor  \\\n",
       "Id                                                                       \n",
       "28              9    2.0  604.705972         NaN            1.0     17   \n",
       "2307          102    1.0  409.425181  410.639749           10.0      4   \n",
       "11602          30    2.0  641.065193  638.163193           10.0     20   \n",
       "\n",
       "       HouseFloor  HouseYear  Ecology_1 Ecology_2 Ecology_3  Social_1  \\\n",
       "Id                                                                      \n",
       "28           18.0       1977   0.161532         B         B        25   \n",
       "2307          4.0       2016   0.238617         B         B        26   \n",
       "11602        19.0       2019   0.000078         B         B        22   \n",
       "\n",
       "       Social_2  Social_3  Healthcare_1  Helthcare_2  Shops_1 Shops_2  \n",
       "Id                                                                     \n",
       "28         5648         1          30.0            2        4       B  \n",
       "2307       3889         6         705.0            3        6       B  \n",
       "11602      6398       141        1046.0            3       23       B  "
      ]
     },
     "execution_count": 10,
     "metadata": {},
     "output_type": "execute_result"
    }
   ],
   "source": [
    "X[X.Square > 300]"
   ]
  },
  {
   "cell_type": "code",
   "execution_count": 11,
   "metadata": {},
   "outputs": [
    {
     "data": {
      "text/html": [
       "<div>\n",
       "<style scoped>\n",
       "    .dataframe tbody tr th:only-of-type {\n",
       "        vertical-align: middle;\n",
       "    }\n",
       "\n",
       "    .dataframe tbody tr th {\n",
       "        vertical-align: top;\n",
       "    }\n",
       "\n",
       "    .dataframe thead th {\n",
       "        text-align: right;\n",
       "    }\n",
       "</style>\n",
       "<table border=\"1\" class=\"dataframe\">\n",
       "  <thead>\n",
       "    <tr style=\"text-align: right;\">\n",
       "      <th></th>\n",
       "      <th>DistrictId</th>\n",
       "      <th>Rooms</th>\n",
       "      <th>Square</th>\n",
       "      <th>LifeSquare</th>\n",
       "      <th>KitchenSquare</th>\n",
       "      <th>Floor</th>\n",
       "      <th>HouseFloor</th>\n",
       "      <th>HouseYear</th>\n",
       "      <th>Ecology_1</th>\n",
       "      <th>Ecology_2</th>\n",
       "      <th>Ecology_3</th>\n",
       "      <th>Social_1</th>\n",
       "      <th>Social_2</th>\n",
       "      <th>Social_3</th>\n",
       "      <th>Healthcare_1</th>\n",
       "      <th>Helthcare_2</th>\n",
       "      <th>Shops_1</th>\n",
       "      <th>Shops_2</th>\n",
       "    </tr>\n",
       "    <tr>\n",
       "      <th>Id</th>\n",
       "      <th></th>\n",
       "      <th></th>\n",
       "      <th></th>\n",
       "      <th></th>\n",
       "      <th></th>\n",
       "      <th></th>\n",
       "      <th></th>\n",
       "      <th></th>\n",
       "      <th></th>\n",
       "      <th></th>\n",
       "      <th></th>\n",
       "      <th></th>\n",
       "      <th></th>\n",
       "      <th></th>\n",
       "      <th></th>\n",
       "      <th></th>\n",
       "      <th></th>\n",
       "      <th></th>\n",
       "    </tr>\n",
       "  </thead>\n",
       "  <tbody>\n",
       "    <tr>\n",
       "      <th>16550</th>\n",
       "      <td>27</td>\n",
       "      <td>3.0</td>\n",
       "      <td>81.694417</td>\n",
       "      <td>7480.592129</td>\n",
       "      <td>1.0</td>\n",
       "      <td>9</td>\n",
       "      <td>17.0</td>\n",
       "      <td>2016</td>\n",
       "      <td>0.017647</td>\n",
       "      <td>B</td>\n",
       "      <td>B</td>\n",
       "      <td>2</td>\n",
       "      <td>469</td>\n",
       "      <td>0</td>\n",
       "      <td>NaN</td>\n",
       "      <td>0</td>\n",
       "      <td>0</td>\n",
       "      <td>B</td>\n",
       "    </tr>\n",
       "    <tr>\n",
       "      <th>2307</th>\n",
       "      <td>102</td>\n",
       "      <td>1.0</td>\n",
       "      <td>409.425181</td>\n",
       "      <td>410.639749</td>\n",
       "      <td>10.0</td>\n",
       "      <td>4</td>\n",
       "      <td>4.0</td>\n",
       "      <td>2016</td>\n",
       "      <td>0.238617</td>\n",
       "      <td>B</td>\n",
       "      <td>B</td>\n",
       "      <td>26</td>\n",
       "      <td>3889</td>\n",
       "      <td>6</td>\n",
       "      <td>705.0</td>\n",
       "      <td>3</td>\n",
       "      <td>6</td>\n",
       "      <td>B</td>\n",
       "    </tr>\n",
       "    <tr>\n",
       "      <th>11602</th>\n",
       "      <td>30</td>\n",
       "      <td>2.0</td>\n",
       "      <td>641.065193</td>\n",
       "      <td>638.163193</td>\n",
       "      <td>10.0</td>\n",
       "      <td>20</td>\n",
       "      <td>19.0</td>\n",
       "      <td>2019</td>\n",
       "      <td>0.000078</td>\n",
       "      <td>B</td>\n",
       "      <td>B</td>\n",
       "      <td>22</td>\n",
       "      <td>6398</td>\n",
       "      <td>141</td>\n",
       "      <td>1046.0</td>\n",
       "      <td>3</td>\n",
       "      <td>23</td>\n",
       "      <td>B</td>\n",
       "    </tr>\n",
       "    <tr>\n",
       "      <th>15886</th>\n",
       "      <td>85</td>\n",
       "      <td>3.0</td>\n",
       "      <td>78.059331</td>\n",
       "      <td>461.463614</td>\n",
       "      <td>10.0</td>\n",
       "      <td>12</td>\n",
       "      <td>16.0</td>\n",
       "      <td>1998</td>\n",
       "      <td>0.037178</td>\n",
       "      <td>B</td>\n",
       "      <td>B</td>\n",
       "      <td>52</td>\n",
       "      <td>11217</td>\n",
       "      <td>1</td>\n",
       "      <td>2300.0</td>\n",
       "      <td>1</td>\n",
       "      <td>7</td>\n",
       "      <td>B</td>\n",
       "    </tr>\n",
       "  </tbody>\n",
       "</table>\n",
       "</div>"
      ],
      "text/plain": [
       "       DistrictId  Rooms      Square   LifeSquare  KitchenSquare  Floor  \\\n",
       "Id                                                                        \n",
       "16550          27    3.0   81.694417  7480.592129            1.0      9   \n",
       "2307          102    1.0  409.425181   410.639749           10.0      4   \n",
       "11602          30    2.0  641.065193   638.163193           10.0     20   \n",
       "15886          85    3.0   78.059331   461.463614           10.0     12   \n",
       "\n",
       "       HouseFloor  HouseYear  Ecology_1 Ecology_2 Ecology_3  Social_1  \\\n",
       "Id                                                                      \n",
       "16550        17.0       2016   0.017647         B         B         2   \n",
       "2307          4.0       2016   0.238617         B         B        26   \n",
       "11602        19.0       2019   0.000078         B         B        22   \n",
       "15886        16.0       1998   0.037178         B         B        52   \n",
       "\n",
       "       Social_2  Social_3  Healthcare_1  Helthcare_2  Shops_1 Shops_2  \n",
       "Id                                                                     \n",
       "16550       469         0           NaN            0        0       B  \n",
       "2307       3889         6         705.0            3        6       B  \n",
       "11602      6398       141        1046.0            3       23       B  \n",
       "15886     11217         1        2300.0            1        7       B  "
      ]
     },
     "execution_count": 11,
     "metadata": {},
     "output_type": "execute_result"
    }
   ],
   "source": [
    "X[X.LifeSquare > 300]"
   ]
  },
  {
   "cell_type": "code",
   "execution_count": 12,
   "metadata": {},
   "outputs": [
    {
     "data": {
      "text/plain": [
       "482"
      ]
     },
     "execution_count": 12,
     "metadata": {},
     "output_type": "execute_result"
    }
   ],
   "source": [
    "(X['Square'] < X['LifeSquare']).sum()"
   ]
  },
  {
   "cell_type": "code",
   "execution_count": 13,
   "metadata": {},
   "outputs": [
    {
     "data": {
      "image/png": "[encoded data removed]",
      "text/plain": [
       "<Figure size 288x288 with 1 Axes>"
      ]
     },
     "metadata": {
      "needs_background": "light"
     },
     "output_type": "display_data"
    }
   ],
   "source": [
    "X.loc[X.LifeSquare < 13, 'LifeSquare'].\\\n",
    "    hist(figsize=(4,4), bins=20, grid=False);"
   ]
  },
  {
   "cell_type": "code",
   "execution_count": 14,
   "metadata": {},
   "outputs": [
    {
     "data": {
      "text/html": [
       "<div>\n",
       "<style scoped>\n",
       "    .dataframe tbody tr th:only-of-type {\n",
       "        vertical-align: middle;\n",
       "    }\n",
       "\n",
       "    .dataframe tbody tr th {\n",
       "        vertical-align: top;\n",
       "    }\n",
       "\n",
       "    .dataframe thead th {\n",
       "        text-align: right;\n",
       "    }\n",
       "</style>\n",
       "<table border=\"1\" class=\"dataframe\">\n",
       "  <thead>\n",
       "    <tr style=\"text-align: right;\">\n",
       "      <th></th>\n",
       "      <th>DistrictId</th>\n",
       "      <th>Rooms</th>\n",
       "      <th>Square</th>\n",
       "      <th>LifeSquare</th>\n",
       "      <th>KitchenSquare</th>\n",
       "      <th>Floor</th>\n",
       "      <th>HouseFloor</th>\n",
       "      <th>HouseYear</th>\n",
       "      <th>Ecology_1</th>\n",
       "      <th>Ecology_2</th>\n",
       "      <th>Ecology_3</th>\n",
       "      <th>Social_1</th>\n",
       "      <th>Social_2</th>\n",
       "      <th>Social_3</th>\n",
       "      <th>Healthcare_1</th>\n",
       "      <th>Helthcare_2</th>\n",
       "      <th>Shops_1</th>\n",
       "      <th>Shops_2</th>\n",
       "    </tr>\n",
       "    <tr>\n",
       "      <th>Id</th>\n",
       "      <th></th>\n",
       "      <th></th>\n",
       "      <th></th>\n",
       "      <th></th>\n",
       "      <th></th>\n",
       "      <th></th>\n",
       "      <th></th>\n",
       "      <th></th>\n",
       "      <th></th>\n",
       "      <th></th>\n",
       "      <th></th>\n",
       "      <th></th>\n",
       "      <th></th>\n",
       "      <th></th>\n",
       "      <th></th>\n",
       "      <th></th>\n",
       "      <th></th>\n",
       "      <th></th>\n",
       "    </tr>\n",
       "  </thead>\n",
       "  <tbody>\n",
       "    <tr>\n",
       "      <th>4378</th>\n",
       "      <td>27</td>\n",
       "      <td>3.0</td>\n",
       "      <td>106.958871</td>\n",
       "      <td>0.641822</td>\n",
       "      <td>0.0</td>\n",
       "      <td>17</td>\n",
       "      <td>0.0</td>\n",
       "      <td>2018</td>\n",
       "      <td>0.072158</td>\n",
       "      <td>B</td>\n",
       "      <td>B</td>\n",
       "      <td>2</td>\n",
       "      <td>629</td>\n",
       "      <td>1</td>\n",
       "      <td>NaN</td>\n",
       "      <td>0</td>\n",
       "      <td>0</td>\n",
       "      <td>A</td>\n",
       "    </tr>\n",
       "    <tr>\n",
       "      <th>4280</th>\n",
       "      <td>34</td>\n",
       "      <td>2.0</td>\n",
       "      <td>61.334968</td>\n",
       "      <td>4.091945</td>\n",
       "      <td>1.0</td>\n",
       "      <td>26</td>\n",
       "      <td>1.0</td>\n",
       "      <td>2014</td>\n",
       "      <td>0.069753</td>\n",
       "      <td>B</td>\n",
       "      <td>B</td>\n",
       "      <td>53</td>\n",
       "      <td>13670</td>\n",
       "      <td>4</td>\n",
       "      <td>NaN</td>\n",
       "      <td>1</td>\n",
       "      <td>11</td>\n",
       "      <td>B</td>\n",
       "    </tr>\n",
       "    <tr>\n",
       "      <th>12613</th>\n",
       "      <td>6</td>\n",
       "      <td>2.0</td>\n",
       "      <td>65.496674</td>\n",
       "      <td>5.589324</td>\n",
       "      <td>1.0</td>\n",
       "      <td>5</td>\n",
       "      <td>17.0</td>\n",
       "      <td>1977</td>\n",
       "      <td>0.243205</td>\n",
       "      <td>B</td>\n",
       "      <td>B</td>\n",
       "      <td>5</td>\n",
       "      <td>1564</td>\n",
       "      <td>0</td>\n",
       "      <td>540.0</td>\n",
       "      <td>0</td>\n",
       "      <td>0</td>\n",
       "      <td>B</td>\n",
       "    </tr>\n",
       "    <tr>\n",
       "      <th>16779</th>\n",
       "      <td>27</td>\n",
       "      <td>3.0</td>\n",
       "      <td>51.991064</td>\n",
       "      <td>4.896202</td>\n",
       "      <td>1.0</td>\n",
       "      <td>22</td>\n",
       "      <td>25.0</td>\n",
       "      <td>1977</td>\n",
       "      <td>0.072158</td>\n",
       "      <td>B</td>\n",
       "      <td>B</td>\n",
       "      <td>2</td>\n",
       "      <td>629</td>\n",
       "      <td>1</td>\n",
       "      <td>NaN</td>\n",
       "      <td>0</td>\n",
       "      <td>0</td>\n",
       "      <td>A</td>\n",
       "    </tr>\n",
       "    <tr>\n",
       "      <th>3522</th>\n",
       "      <td>6</td>\n",
       "      <td>1.0</td>\n",
       "      <td>66.419841</td>\n",
       "      <td>3.987101</td>\n",
       "      <td>1.0</td>\n",
       "      <td>2</td>\n",
       "      <td>1.0</td>\n",
       "      <td>1977</td>\n",
       "      <td>0.243205</td>\n",
       "      <td>B</td>\n",
       "      <td>B</td>\n",
       "      <td>5</td>\n",
       "      <td>1564</td>\n",
       "      <td>0</td>\n",
       "      <td>540.0</td>\n",
       "      <td>0</td>\n",
       "      <td>0</td>\n",
       "      <td>B</td>\n",
       "    </tr>\n",
       "    <tr>\n",
       "      <th>...</th>\n",
       "      <td>...</td>\n",
       "      <td>...</td>\n",
       "      <td>...</td>\n",
       "      <td>...</td>\n",
       "      <td>...</td>\n",
       "      <td>...</td>\n",
       "      <td>...</td>\n",
       "      <td>...</td>\n",
       "      <td>...</td>\n",
       "      <td>...</td>\n",
       "      <td>...</td>\n",
       "      <td>...</td>\n",
       "      <td>...</td>\n",
       "      <td>...</td>\n",
       "      <td>...</td>\n",
       "      <td>...</td>\n",
       "      <td>...</td>\n",
       "      <td>...</td>\n",
       "    </tr>\n",
       "    <tr>\n",
       "      <th>13583</th>\n",
       "      <td>27</td>\n",
       "      <td>2.0</td>\n",
       "      <td>58.943039</td>\n",
       "      <td>3.319486</td>\n",
       "      <td>1.0</td>\n",
       "      <td>11</td>\n",
       "      <td>17.0</td>\n",
       "      <td>2017</td>\n",
       "      <td>0.011654</td>\n",
       "      <td>B</td>\n",
       "      <td>B</td>\n",
       "      <td>4</td>\n",
       "      <td>915</td>\n",
       "      <td>0</td>\n",
       "      <td>NaN</td>\n",
       "      <td>0</td>\n",
       "      <td>0</td>\n",
       "      <td>B</td>\n",
       "    </tr>\n",
       "    <tr>\n",
       "      <th>2040</th>\n",
       "      <td>62</td>\n",
       "      <td>1.0</td>\n",
       "      <td>122.438148</td>\n",
       "      <td>5.751401</td>\n",
       "      <td>1.0</td>\n",
       "      <td>2</td>\n",
       "      <td>3.0</td>\n",
       "      <td>1977</td>\n",
       "      <td>0.072158</td>\n",
       "      <td>B</td>\n",
       "      <td>B</td>\n",
       "      <td>2</td>\n",
       "      <td>629</td>\n",
       "      <td>1</td>\n",
       "      <td>NaN</td>\n",
       "      <td>0</td>\n",
       "      <td>0</td>\n",
       "      <td>A</td>\n",
       "    </tr>\n",
       "    <tr>\n",
       "      <th>13630</th>\n",
       "      <td>24</td>\n",
       "      <td>3.0</td>\n",
       "      <td>127.141143</td>\n",
       "      <td>4.811405</td>\n",
       "      <td>1.0</td>\n",
       "      <td>3</td>\n",
       "      <td>1.0</td>\n",
       "      <td>2017</td>\n",
       "      <td>0.111627</td>\n",
       "      <td>B</td>\n",
       "      <td>B</td>\n",
       "      <td>50</td>\n",
       "      <td>12238</td>\n",
       "      <td>8</td>\n",
       "      <td>1970.0</td>\n",
       "      <td>2</td>\n",
       "      <td>3</td>\n",
       "      <td>B</td>\n",
       "    </tr>\n",
       "    <tr>\n",
       "      <th>6053</th>\n",
       "      <td>6</td>\n",
       "      <td>1.0</td>\n",
       "      <td>41.314775</td>\n",
       "      <td>5.005477</td>\n",
       "      <td>1.0</td>\n",
       "      <td>9</td>\n",
       "      <td>17.0</td>\n",
       "      <td>2016</td>\n",
       "      <td>0.243205</td>\n",
       "      <td>B</td>\n",
       "      <td>B</td>\n",
       "      <td>5</td>\n",
       "      <td>1564</td>\n",
       "      <td>0</td>\n",
       "      <td>540.0</td>\n",
       "      <td>0</td>\n",
       "      <td>0</td>\n",
       "      <td>B</td>\n",
       "    </tr>\n",
       "    <tr>\n",
       "      <th>583</th>\n",
       "      <td>27</td>\n",
       "      <td>3.0</td>\n",
       "      <td>84.250710</td>\n",
       "      <td>4.187885</td>\n",
       "      <td>1.0</td>\n",
       "      <td>15</td>\n",
       "      <td>1.0</td>\n",
       "      <td>2016</td>\n",
       "      <td>0.072158</td>\n",
       "      <td>B</td>\n",
       "      <td>B</td>\n",
       "      <td>2</td>\n",
       "      <td>629</td>\n",
       "      <td>1</td>\n",
       "      <td>NaN</td>\n",
       "      <td>0</td>\n",
       "      <td>0</td>\n",
       "      <td>A</td>\n",
       "    </tr>\n",
       "  </tbody>\n",
       "</table>\n",
       "<p>205 rows × 18 columns</p>\n",
       "</div>"
      ],
      "text/plain": [
       "       DistrictId  Rooms      Square  LifeSquare  KitchenSquare  Floor  \\\n",
       "Id                                                                       \n",
       "4378           27    3.0  106.958871    0.641822            0.0     17   \n",
       "4280           34    2.0   61.334968    4.091945            1.0     26   \n",
       "12613           6    2.0   65.496674    5.589324            1.0      5   \n",
       "16779          27    3.0   51.991064    4.896202            1.0     22   \n",
       "3522            6    1.0   66.419841    3.987101            1.0      2   \n",
       "...           ...    ...         ...         ...            ...    ...   \n",
       "13583          27    2.0   58.943039    3.319486            1.0     11   \n",
       "2040           62    1.0  122.438148    5.751401            1.0      2   \n",
       "13630          24    3.0  127.141143    4.811405            1.0      3   \n",
       "6053            6    1.0   41.314775    5.005477            1.0      9   \n",
       "583            27    3.0   84.250710    4.187885            1.0     15   \n",
       "\n",
       "       HouseFloor  HouseYear  Ecology_1 Ecology_2 Ecology_3  Social_1  \\\n",
       "Id                                                                      \n",
       "4378          0.0       2018   0.072158         B         B         2   \n",
       "4280          1.0       2014   0.069753         B         B        53   \n",
       "12613        17.0       1977   0.243205         B         B         5   \n",
       "16779        25.0       1977   0.072158         B         B         2   \n",
       "3522          1.0       1977   0.243205         B         B         5   \n",
       "...           ...        ...        ...       ...       ...       ...   \n",
       "13583        17.0       2017   0.011654         B         B         4   \n",
       "2040          3.0       1977   0.072158         B         B         2   \n",
       "13630         1.0       2017   0.111627         B         B        50   \n",
       "6053         17.0       2016   0.243205         B         B         5   \n",
       "583           1.0       2016   0.072158         B         B         2   \n",
       "\n",
       "       Social_2  Social_3  Healthcare_1  Helthcare_2  Shops_1 Shops_2  \n",
       "Id                                                                     \n",
       "4378        629         1           NaN            0        0       A  \n",
       "4280      13670         4           NaN            1       11       B  \n",
       "12613      1564         0         540.0            0        0       B  \n",
       "16779       629         1           NaN            0        0       A  \n",
       "3522       1564         0         540.0            0        0       B  \n",
       "...         ...       ...           ...          ...      ...     ...  \n",
       "13583       915         0           NaN            0        0       B  \n",
       "2040        629         1           NaN            0        0       A  \n",
       "13630     12238         8        1970.0            2        3       B  \n",
       "6053       1564         0         540.0            0        0       B  \n",
       "583         629         1           NaN            0        0       A  \n",
       "\n",
       "[205 rows x 18 columns]"
      ]
     },
     "execution_count": 14,
     "metadata": {},
     "output_type": "execute_result"
    }
   ],
   "source": [
    "X[X.LifeSquare < 10]"
   ]
  },
  {
   "cell_type": "markdown",
   "metadata": {},
   "source": [
    "#### 3. KitchenSquare"
   ]
  },
  {
   "cell_type": "code",
   "execution_count": 15,
   "metadata": {},
   "outputs": [
    {
     "data": {
      "text/plain": [
       "1.0       2460\n",
       "8.0       1306\n",
       "5.0       1169\n",
       "10.0      1075\n",
       "6.0       1038\n",
       "9.0        843\n",
       "0.0        697\n",
       "7.0        609\n",
       "12.0       249\n",
       "11.0       233\n",
       "13.0        67\n",
       "14.0        51\n",
       "4.0         39\n",
       "15.0        31\n",
       "3.0         22\n",
       "16.0        16\n",
       "20.0        14\n",
       "17.0        12\n",
       "19.0        11\n",
       "18.0         6\n",
       "2.0          4\n",
       "22.0         3\n",
       "37.0         2\n",
       "41.0         2\n",
       "112.0        2\n",
       "25.0         2\n",
       "43.0         2\n",
       "51.0         2\n",
       "32.0         2\n",
       "58.0         2\n",
       "30.0         2\n",
       "53.0         1\n",
       "63.0         1\n",
       "31.0         1\n",
       "123.0        1\n",
       "73.0         1\n",
       "23.0         1\n",
       "29.0         1\n",
       "21.0         1\n",
       "26.0         1\n",
       "75.0         1\n",
       "36.0         1\n",
       "1970.0       1\n",
       "39.0         1\n",
       "62.0         1\n",
       "42.0         1\n",
       "84.0         1\n",
       "27.0         1\n",
       "78.0         1\n",
       "60.0         1\n",
       "35.0         1\n",
       "2014.0       1\n",
       "40.0         1\n",
       "48.0         1\n",
       "66.0         1\n",
       "96.0         1\n",
       "72.0         1\n",
       "54.0         1\n",
       "Name: KitchenSquare, dtype: int64"
      ]
     },
     "execution_count": 15,
     "metadata": {},
     "output_type": "execute_result"
    }
   ],
   "source": [
    "X['KitchenSquare'].value_counts().sort_values(ascending=False)\n",
    "\n",
    "# Площадь < 3\n",
    "# Площадь > 1000"
   ]
  },
  {
   "cell_type": "code",
   "execution_count": 16,
   "metadata": {},
   "outputs": [
    {
     "data": {
      "text/plain": [
       "34"
      ]
     },
     "execution_count": 16,
     "metadata": {},
     "output_type": "execute_result"
    }
   ],
   "source": [
    "# Площадь кухни больше половины площади квартиры\n",
    "X[X['KitchenSquare'] > X.Square * 0.5].KitchenSquare.count()"
   ]
  },
  {
   "cell_type": "markdown",
   "metadata": {},
   "source": [
    "#### 4. HouseFloor, Floor"
   ]
  },
  {
   "cell_type": "code",
   "execution_count": 17,
   "metadata": {},
   "outputs": [
    {
     "data": {
      "text/plain": [
       "array([  0.,   1.,   2.,   3.,   4.,   5.,   6.,   7.,   8.,   9.,  10.,\n",
       "        11.,  12.,  13.,  14.,  15.,  16.,  17.,  18.,  19.,  20.,  21.,\n",
       "        22.,  23.,  24.,  25.,  26.,  27.,  28.,  29.,  30.,  31.,  32.,\n",
       "        36.,  37.,  38.,  39.,  40.,  44.,  45.,  47.,  48.,  99., 117.])"
      ]
     },
     "execution_count": 17,
     "metadata": {},
     "output_type": "execute_result"
    }
   ],
   "source": [
    "X['HouseFloor'].sort_values().unique()"
   ]
  },
  {
   "cell_type": "code",
   "execution_count": 18,
   "metadata": {},
   "outputs": [
    {
     "data": {
      "text/plain": [
       "array([ 1,  2,  3,  4,  5,  6,  7,  8,  9, 10, 11, 12, 13, 14, 15, 16, 17,\n",
       "       18, 19, 20, 21, 22, 23, 24, 25, 26, 27, 28, 31, 32, 33, 37, 42],\n",
       "      dtype=int64)"
      ]
     },
     "execution_count": 18,
     "metadata": {},
     "output_type": "execute_result"
    }
   ],
   "source": [
    "X['Floor'].sort_values().unique()"
   ]
  },
  {
   "cell_type": "code",
   "execution_count": 19,
   "metadata": {},
   "outputs": [
    {
     "data": {
      "text/plain": [
       "1825"
      ]
     },
     "execution_count": 19,
     "metadata": {},
     "output_type": "execute_result"
    }
   ],
   "source": [
    "(X['Floor'] > X['HouseFloor']).sum()"
   ]
  },
  {
   "cell_type": "code",
   "execution_count": 20,
   "metadata": {},
   "outputs": [
    {
     "data": {
      "image/png": "[encoded data removed]",
      "text/plain": [
       "<Figure size 576x576 with 3 Axes>"
      ]
     },
     "metadata": {
      "needs_background": "light"
     },
     "output_type": "display_data"
    }
   ],
   "source": [
    "grid = sns.jointplot(X['Floor'], X['HouseFloor'], kind='reg')\n",
    "grid.fig.set_figwidth(8)\n",
    "grid.fig.set_figheight(8)\n",
    "\n",
    "plt.show()"
   ]
  },
  {
   "cell_type": "code",
   "execution_count": 21,
   "metadata": {},
   "outputs": [
    {
     "data": {
      "text/html": [
       "<div>\n",
       "<style scoped>\n",
       "    .dataframe tbody tr th:only-of-type {\n",
       "        vertical-align: middle;\n",
       "    }\n",
       "\n",
       "    .dataframe tbody tr th {\n",
       "        vertical-align: top;\n",
       "    }\n",
       "\n",
       "    .dataframe thead th {\n",
       "        text-align: right;\n",
       "    }\n",
       "</style>\n",
       "<table border=\"1\" class=\"dataframe\">\n",
       "  <thead>\n",
       "    <tr style=\"text-align: right;\">\n",
       "      <th></th>\n",
       "      <th>DistrictId</th>\n",
       "      <th>Rooms</th>\n",
       "      <th>Square</th>\n",
       "      <th>LifeSquare</th>\n",
       "      <th>KitchenSquare</th>\n",
       "      <th>Floor</th>\n",
       "      <th>HouseFloor</th>\n",
       "      <th>HouseYear</th>\n",
       "      <th>Ecology_1</th>\n",
       "      <th>Ecology_2</th>\n",
       "      <th>Ecology_3</th>\n",
       "      <th>Social_1</th>\n",
       "      <th>Social_2</th>\n",
       "      <th>Social_3</th>\n",
       "      <th>Healthcare_1</th>\n",
       "      <th>Helthcare_2</th>\n",
       "      <th>Shops_1</th>\n",
       "      <th>Shops_2</th>\n",
       "    </tr>\n",
       "    <tr>\n",
       "      <th>Id</th>\n",
       "      <th></th>\n",
       "      <th></th>\n",
       "      <th></th>\n",
       "      <th></th>\n",
       "      <th></th>\n",
       "      <th></th>\n",
       "      <th></th>\n",
       "      <th></th>\n",
       "      <th></th>\n",
       "      <th></th>\n",
       "      <th></th>\n",
       "      <th></th>\n",
       "      <th></th>\n",
       "      <th></th>\n",
       "      <th></th>\n",
       "      <th></th>\n",
       "      <th></th>\n",
       "      <th></th>\n",
       "    </tr>\n",
       "  </thead>\n",
       "  <tbody>\n",
       "    <tr>\n",
       "      <th>10806</th>\n",
       "      <td>5</td>\n",
       "      <td>1.0</td>\n",
       "      <td>51.944587</td>\n",
       "      <td>48.709601</td>\n",
       "      <td>1.0</td>\n",
       "      <td>6</td>\n",
       "      <td>99.0</td>\n",
       "      <td>1977</td>\n",
       "      <td>0.150818</td>\n",
       "      <td>B</td>\n",
       "      <td>B</td>\n",
       "      <td>16</td>\n",
       "      <td>3433</td>\n",
       "      <td>4</td>\n",
       "      <td>2643.0</td>\n",
       "      <td>4</td>\n",
       "      <td>5</td>\n",
       "      <td>B</td>\n",
       "    </tr>\n",
       "    <tr>\n",
       "      <th>9300</th>\n",
       "      <td>74</td>\n",
       "      <td>2.0</td>\n",
       "      <td>71.747869</td>\n",
       "      <td>74.579809</td>\n",
       "      <td>9.0</td>\n",
       "      <td>5</td>\n",
       "      <td>99.0</td>\n",
       "      <td>1977</td>\n",
       "      <td>0.075779</td>\n",
       "      <td>B</td>\n",
       "      <td>B</td>\n",
       "      <td>6</td>\n",
       "      <td>1437</td>\n",
       "      <td>3</td>\n",
       "      <td>NaN</td>\n",
       "      <td>0</td>\n",
       "      <td>2</td>\n",
       "      <td>B</td>\n",
       "    </tr>\n",
       "    <tr>\n",
       "      <th>78</th>\n",
       "      <td>30</td>\n",
       "      <td>2.0</td>\n",
       "      <td>65.773749</td>\n",
       "      <td>66.811789</td>\n",
       "      <td>1.0</td>\n",
       "      <td>8</td>\n",
       "      <td>117.0</td>\n",
       "      <td>1977</td>\n",
       "      <td>0.000078</td>\n",
       "      <td>B</td>\n",
       "      <td>B</td>\n",
       "      <td>22</td>\n",
       "      <td>6398</td>\n",
       "      <td>141</td>\n",
       "      <td>1046.0</td>\n",
       "      <td>3</td>\n",
       "      <td>23</td>\n",
       "      <td>B</td>\n",
       "    </tr>\n",
       "  </tbody>\n",
       "</table>\n",
       "</div>"
      ],
      "text/plain": [
       "       DistrictId  Rooms     Square  LifeSquare  KitchenSquare  Floor  \\\n",
       "Id                                                                      \n",
       "10806           5    1.0  51.944587   48.709601            1.0      6   \n",
       "9300           74    2.0  71.747869   74.579809            9.0      5   \n",
       "78             30    2.0  65.773749   66.811789            1.0      8   \n",
       "\n",
       "       HouseFloor  HouseYear  Ecology_1 Ecology_2 Ecology_3  Social_1  \\\n",
       "Id                                                                      \n",
       "10806        99.0       1977   0.150818         B         B        16   \n",
       "9300         99.0       1977   0.075779         B         B         6   \n",
       "78          117.0       1977   0.000078         B         B        22   \n",
       "\n",
       "       Social_2  Social_3  Healthcare_1  Helthcare_2  Shops_1 Shops_2  \n",
       "Id                                                                     \n",
       "10806      3433         4        2643.0            4        5       B  \n",
       "9300       1437         3           NaN            0        2       B  \n",
       "78         6398       141        1046.0            3       23       B  "
      ]
     },
     "execution_count": 21,
     "metadata": {},
     "output_type": "execute_result"
    }
   ],
   "source": [
    "X[X.HouseFloor > 50]"
   ]
  },
  {
   "cell_type": "markdown",
   "metadata": {},
   "source": [
    "#### 5. HouseYear"
   ]
  },
  {
   "cell_type": "code",
   "execution_count": 22,
   "metadata": {},
   "outputs": [
    {
     "data": {
      "text/plain": [
       "array([    1910,     1912,     1914,     1916,     1917,     1918,\n",
       "           1919,     1928,     1929,     1930,     1931,     1932,\n",
       "           1933,     1934,     1935,     1936,     1937,     1938,\n",
       "           1939,     1940,     1941,     1942,     1947,     1948,\n",
       "           1950,     1951,     1952,     1953,     1954,     1955,\n",
       "           1956,     1957,     1958,     1959,     1960,     1961,\n",
       "           1962,     1963,     1964,     1965,     1966,     1967,\n",
       "           1968,     1969,     1970,     1971,     1972,     1973,\n",
       "           1974,     1975,     1976,     1977,     1978,     1979,\n",
       "           1980,     1981,     1982,     1983,     1984,     1985,\n",
       "           1986,     1987,     1988,     1989,     1990,     1991,\n",
       "           1992,     1993,     1994,     1995,     1996,     1997,\n",
       "           1998,     1999,     2000,     2001,     2002,     2003,\n",
       "           2004,     2005,     2006,     2007,     2008,     2009,\n",
       "           2010,     2011,     2012,     2013,     2014,     2015,\n",
       "           2016,     2017,     2018,     2019,     2020,     4968,\n",
       "       20052011], dtype=int64)"
      ]
     },
     "execution_count": 22,
     "metadata": {},
     "output_type": "execute_result"
    }
   ],
   "source": [
    "X['HouseYear'].sort_values().unique()"
   ]
  },
  {
   "cell_type": "code",
   "execution_count": 23,
   "metadata": {},
   "outputs": [
    {
     "data": {
      "text/html": [
       "<div>\n",
       "<style scoped>\n",
       "    .dataframe tbody tr th:only-of-type {\n",
       "        vertical-align: middle;\n",
       "    }\n",
       "\n",
       "    .dataframe tbody tr th {\n",
       "        vertical-align: top;\n",
       "    }\n",
       "\n",
       "    .dataframe thead th {\n",
       "        text-align: right;\n",
       "    }\n",
       "</style>\n",
       "<table border=\"1\" class=\"dataframe\">\n",
       "  <thead>\n",
       "    <tr style=\"text-align: right;\">\n",
       "      <th></th>\n",
       "      <th>DistrictId</th>\n",
       "      <th>Rooms</th>\n",
       "      <th>Square</th>\n",
       "      <th>LifeSquare</th>\n",
       "      <th>KitchenSquare</th>\n",
       "      <th>Floor</th>\n",
       "      <th>HouseFloor</th>\n",
       "      <th>HouseYear</th>\n",
       "      <th>Ecology_1</th>\n",
       "      <th>Ecology_2</th>\n",
       "      <th>Ecology_3</th>\n",
       "      <th>Social_1</th>\n",
       "      <th>Social_2</th>\n",
       "      <th>Social_3</th>\n",
       "      <th>Healthcare_1</th>\n",
       "      <th>Helthcare_2</th>\n",
       "      <th>Shops_1</th>\n",
       "      <th>Shops_2</th>\n",
       "    </tr>\n",
       "    <tr>\n",
       "      <th>Id</th>\n",
       "      <th></th>\n",
       "      <th></th>\n",
       "      <th></th>\n",
       "      <th></th>\n",
       "      <th></th>\n",
       "      <th></th>\n",
       "      <th></th>\n",
       "      <th></th>\n",
       "      <th></th>\n",
       "      <th></th>\n",
       "      <th></th>\n",
       "      <th></th>\n",
       "      <th></th>\n",
       "      <th></th>\n",
       "      <th></th>\n",
       "      <th></th>\n",
       "      <th></th>\n",
       "      <th></th>\n",
       "    </tr>\n",
       "  </thead>\n",
       "  <tbody>\n",
       "    <tr>\n",
       "      <th>10814</th>\n",
       "      <td>109</td>\n",
       "      <td>1.0</td>\n",
       "      <td>37.265070</td>\n",
       "      <td>20.239714</td>\n",
       "      <td>9.0</td>\n",
       "      <td>9</td>\n",
       "      <td>12.0</td>\n",
       "      <td>20052011</td>\n",
       "      <td>0.136330</td>\n",
       "      <td>B</td>\n",
       "      <td>B</td>\n",
       "      <td>30</td>\n",
       "      <td>6141</td>\n",
       "      <td>10</td>\n",
       "      <td>262.0</td>\n",
       "      <td>3</td>\n",
       "      <td>6</td>\n",
       "      <td>B</td>\n",
       "    </tr>\n",
       "    <tr>\n",
       "      <th>11607</th>\n",
       "      <td>147</td>\n",
       "      <td>2.0</td>\n",
       "      <td>44.791836</td>\n",
       "      <td>28.360393</td>\n",
       "      <td>5.0</td>\n",
       "      <td>4</td>\n",
       "      <td>9.0</td>\n",
       "      <td>4968</td>\n",
       "      <td>0.319809</td>\n",
       "      <td>B</td>\n",
       "      <td>B</td>\n",
       "      <td>25</td>\n",
       "      <td>4756</td>\n",
       "      <td>16</td>\n",
       "      <td>2857.0</td>\n",
       "      <td>5</td>\n",
       "      <td>8</td>\n",
       "      <td>B</td>\n",
       "    </tr>\n",
       "  </tbody>\n",
       "</table>\n",
       "</div>"
      ],
      "text/plain": [
       "       DistrictId  Rooms     Square  LifeSquare  KitchenSquare  Floor  \\\n",
       "Id                                                                      \n",
       "10814         109    1.0  37.265070   20.239714            9.0      9   \n",
       "11607         147    2.0  44.791836   28.360393            5.0      4   \n",
       "\n",
       "       HouseFloor  HouseYear  Ecology_1 Ecology_2 Ecology_3  Social_1  \\\n",
       "Id                                                                      \n",
       "10814        12.0   20052011   0.136330         B         B        30   \n",
       "11607         9.0       4968   0.319809         B         B        25   \n",
       "\n",
       "       Social_2  Social_3  Healthcare_1  Helthcare_2  Shops_1 Shops_2  \n",
       "Id                                                                     \n",
       "10814      6141        10         262.0            3        6       B  \n",
       "11607      4756        16        2857.0            5        8       B  "
      ]
     },
     "execution_count": 23,
     "metadata": {},
     "output_type": "execute_result"
    }
   ],
   "source": [
    "X[X['HouseYear'] > 2020]"
   ]
  },
  {
   "cell_type": "markdown",
   "metadata": {},
   "source": [
    "#### Missing data"
   ]
  },
  {
   "cell_type": "code",
   "execution_count": 24,
   "metadata": {},
   "outputs": [
    {
     "data": {
      "image/png": "[encoded data removed]",
      "text/plain": [
       "<Figure size 1152x288 with 1 Axes>"
      ]
     },
     "metadata": {
      "needs_background": "light"
     },
     "output_type": "display_data"
    }
   ],
   "source": [
    "nan_df = (X.isna().sum() / X.shape[0]).reset_index()\n",
    "nan_df.columns=['feature', 'nan_percent']\n",
    "\n",
    "plt.figure(figsize=(16,4))\n",
    "sns.barplot(nan_df['feature'], nan_df['nan_percent'])\n",
    "plt.title('Percent Missing')\n",
    "plt.ylabel('Missing', fontsize=12)\n",
    "plt.xlabel('Features', fontsize=12)\n",
    "plt.xticks(rotation=90)\n",
    "plt.show()\n",
    "\n",
    "# Drop Healthcare_1\n",
    "# Replace NaN values in LifeSquare"
   ]
  },
  {
   "cell_type": "markdown",
   "metadata": {},
   "source": [
    "### C. Feature engineering"
   ]
  },
  {
   "cell_type": "markdown",
   "metadata": {},
   "source": [
    "#### 1. DistrictId"
   ]
  },
  {
   "cell_type": "code",
   "execution_count": 25,
   "metadata": {},
   "outputs": [
    {
     "data": {
      "text/plain": [
       "205"
      ]
     },
     "execution_count": 25,
     "metadata": {},
     "output_type": "execute_result"
    }
   ],
   "source": [
    "X.DistrictId.nunique()"
   ]
  },
  {
   "cell_type": "code",
   "execution_count": 26,
   "metadata": {},
   "outputs": [
    {
     "data": {
      "text/plain": [
       "{27: 851,\n",
       " 1: 652,\n",
       " 23: 565,\n",
       " 6: 511,\n",
       " 9: 294,\n",
       " 62: 247,\n",
       " 30: 228,\n",
       " 58: 179,\n",
       " 53: 174,\n",
       " 21: 165,\n",
       " 52: 143,\n",
       " 8: 142,\n",
       " 11: 129,\n",
       " 46: 119,\n",
       " 61: 118,\n",
       " 45: 116,\n",
       " 74: 114,\n",
       " 34: 111,\n",
       " 57: 107,\n",
       " 44: 104,\n",
       " 99: 97,\n",
       " 101: 97,\n",
       " 47: 97,\n",
       " 13: 97,\n",
       " 7: 92,\n",
       " 48: 90,\n",
       " 29: 89,\n",
       " 94: 89,\n",
       " 41: 87,\n",
       " 3: 82,\n",
       " 84: 80,\n",
       " 28: 79,\n",
       " 2: 78,\n",
       " 22: 78,\n",
       " 25: 77,\n",
       " 85: 76,\n",
       " 93: 73,\n",
       " 37: 72,\n",
       " 90: 72,\n",
       " 96: 71,\n",
       " 59: 67,\n",
       " 75: 66,\n",
       " 26: 65,\n",
       " 12: 64,\n",
       " 88: 64,\n",
       " 128: 64,\n",
       " 66: 62,\n",
       " 67: 61,\n",
       " 17: 59,\n",
       " 55: 58,\n",
       " 39: 57,\n",
       " 10: 56,\n",
       " 105: 55,\n",
       " 31: 55,\n",
       " 18: 51,\n",
       " 111: 49,\n",
       " 119: 49,\n",
       " 0: 48,\n",
       " 78: 46,\n",
       " 91: 44,\n",
       " 124: 43,\n",
       " 63: 43,\n",
       " 129: 43,\n",
       " 42: 42,\n",
       " 79: 42,\n",
       " 109: 41,\n",
       " 113: 41,\n",
       " 77: 40,\n",
       " 54: 37,\n",
       " 15: 36,\n",
       " 38: 36,\n",
       " 24: 35,\n",
       " 5: 34,\n",
       " 56: 34,\n",
       " 32: 34,\n",
       " 103: 33,\n",
       " 123: 32,\n",
       " 19: 31,\n",
       " 80: 31,\n",
       " 33: 31,\n",
       " 83: 31,\n",
       " 69: 29,\n",
       " 138: 29,\n",
       " 130: 29,\n",
       " 64: 28,\n",
       " 108: 27,\n",
       " 86: 27,\n",
       " 70: 27,\n",
       " 87: 27,\n",
       " 120: 26,\n",
       " 122: 25,\n",
       " 100: 25,\n",
       " 121: 25,\n",
       " 20: 24,\n",
       " 89: 24,\n",
       " 107: 23,\n",
       " 35: 22,\n",
       " 169: 22,\n",
       " 98: 21,\n",
       " 167: 20,\n",
       " 144: 20,\n",
       " 145: 19,\n",
       " 146: 18,\n",
       " 81: 18,\n",
       " 134: 18,\n",
       " 73: 17,\n",
       " 36: 17,\n",
       " 14: 17,\n",
       " 170: 16,\n",
       " 49: 16,\n",
       " 95: 15,\n",
       " 125: 15,\n",
       " 157: 15,\n",
       " 147: 15,\n",
       " 139: 14,\n",
       " 163: 14,\n",
       " 151: 14,\n",
       " 140: 13,\n",
       " 118: 13,\n",
       " 110: 13,\n",
       " 132: 12,\n",
       " 92: 12,\n",
       " 114: 12,\n",
       " 104: 11,\n",
       " 168: 11,\n",
       " 40: 11,\n",
       " 148: 11,\n",
       " 161: 11,\n",
       " 143: 11,\n",
       " 142: 11,\n",
       " 4: 11,\n",
       " 126: 11,\n",
       " 116: 11,\n",
       " 160: 10,\n",
       " 127: 10,\n",
       " 106: 10,\n",
       " 97: 10,\n",
       " 154: 10,\n",
       " 177: 10,\n",
       " 155: 10,\n",
       " 150: 10,\n",
       " 187: 10,\n",
       " 156: 10,\n",
       " 72: 10,\n",
       " 43: 9,\n",
       " 135: 9,\n",
       " 60: 9,\n",
       " 137: 9,\n",
       " 68: 8,\n",
       " 162: 8,\n",
       " 183: 8,\n",
       " 102: 8,\n",
       " 164: 8,\n",
       " 178: 7,\n",
       " 152: 7,\n",
       " 71: 7,\n",
       " 190: 7,\n",
       " 173: 7,\n",
       " 149: 6,\n",
       " 200: 6,\n",
       " 191: 6,\n",
       " 159: 6,\n",
       " 16: 6,\n",
       " 165: 6,\n",
       " 176: 6,\n",
       " 153: 6,\n",
       " 76: 6,\n",
       " 171: 6,\n",
       " 131: 6,\n",
       " 115: 5,\n",
       " 184: 5,\n",
       " 192: 5,\n",
       " 194: 5,\n",
       " 51: 5,\n",
       " 141: 5,\n",
       " 133: 5,\n",
       " 166: 5,\n",
       " 189: 5,\n",
       " 65: 5,\n",
       " 188: 5,\n",
       " 82: 5,\n",
       " 112: 4,\n",
       " 136: 4,\n",
       " 179: 4,\n",
       " 50: 4,\n",
       " 182: 4,\n",
       " 180: 4,\n",
       " 185: 3,\n",
       " 193: 3,\n",
       " 201: 3,\n",
       " 175: 3,\n",
       " 181: 3,\n",
       " 208: 2,\n",
       " 158: 2,\n",
       " 172: 2,\n",
       " 195: 2,\n",
       " 202: 2,\n",
       " 186: 2,\n",
       " 196: 1,\n",
       " 117: 1,\n",
       " 199: 1,\n",
       " 205: 1,\n",
       " 174: 1,\n",
       " 209: 1,\n",
       " 207: 1}"
      ]
     },
     "execution_count": 26,
     "metadata": {},
     "output_type": "execute_result"
    }
   ],
   "source": [
    "dict(X['DistrictId'].value_counts())"
   ]
  },
  {
   "cell_type": "markdown",
   "metadata": {},
   "source": [
    "#### 2. Ecology_1"
   ]
  },
  {
   "cell_type": "code",
   "execution_count": 27,
   "metadata": {},
   "outputs": [
    {
     "data": {
      "text/plain": [
       "129"
      ]
     },
     "execution_count": 27,
     "metadata": {},
     "output_type": "execute_result"
    }
   ],
   "source": [
    "X.Ecology_1.nunique()"
   ]
  },
  {
   "cell_type": "code",
   "execution_count": 28,
   "metadata": {},
   "outputs": [
    {
     "data": {
      "text/plain": [
       "{0.007122317: 587,\n",
       " 0.0: 537,\n",
       " 0.243204519: 511,\n",
       " 0.072157581: 486,\n",
       " 0.075778755: 346,\n",
       " 7.81528e-05: 245,\n",
       " 0.069753361: 204,\n",
       " 0.161531741: 202,\n",
       " 0.034656082000000005: 190,\n",
       " 0.090799103: 176,\n",
       " 0.211401214: 172,\n",
       " 0.371148999: 163,\n",
       " 0.041116354: 151,\n",
       " 0.049637257: 148,\n",
       " 0.017647053: 142,\n",
       " 0.011654127: 141,\n",
       " 0.43788524: 137,\n",
       " 0.195781053: 128,\n",
       " 0.300322518: 117,\n",
       " 0.118537385: 110,\n",
       " 0.194489265: 103,\n",
       " 0.033493708: 99,\n",
       " 0.006076152: 99,\n",
       " 0.13321533300000002: 95,\n",
       " 0.041124634: 89,\n",
       " 0.127375905: 89,\n",
       " 0.050900058: 87,\n",
       " 0.069660344: 86,\n",
       " 0.019508796: 84,\n",
       " 0.037177818: 84,\n",
       " 0.225824954: 83,\n",
       " 6.99893e-05: 83,\n",
       " 0.111627393: 79,\n",
       " 0.265088676: 78,\n",
       " 0.158249043: 78,\n",
       " 0.012338886: 76,\n",
       " 0.309479124: 75,\n",
       " 0.135649789: 73,\n",
       " 0.000995363: 71,\n",
       " 0.130617806: 71,\n",
       " 0.122090347: 70,\n",
       " 0.00016967599999999998: 70,\n",
       " 0.319809354: 67,\n",
       " 0.458174486: 67,\n",
       " 0.282797669: 66,\n",
       " 0.089039719: 66,\n",
       " 0.307466659: 65,\n",
       " 0.0077202819999999985: 64,\n",
       " 0.038692987000000005: 63,\n",
       " 0.100455735: 62,\n",
       " 0.188783766: 62,\n",
       " 0.151346216: 62,\n",
       " 0.034331497: 61,\n",
       " 0.175054867: 60,\n",
       " 0.23861713: 60,\n",
       " 0.036122292: 60,\n",
       " 0.020741326: 60,\n",
       " 0.236108458: 59,\n",
       " 0.428825818: 58,\n",
       " 0.341071945: 58,\n",
       " 0.035145267: 58,\n",
       " 0.005767451: 56,\n",
       " 0.07542368: 55,\n",
       " 0.014072961: 55,\n",
       " 0.002211665: 54,\n",
       " 0.333891544: 54,\n",
       " 0.092290642: 52,\n",
       " 0.014423114: 51,\n",
       " 0.060753049: 51,\n",
       " 0.050755569: 50,\n",
       " 0.17891679600000002: 49,\n",
       " 0.007658515: 49,\n",
       " 0.041365446: 49,\n",
       " 0.1363303: 47,\n",
       " 0.040242764: 46,\n",
       " 0.161975568: 46,\n",
       " 0.21843974: 45,\n",
       " 0.14966637300000002: 45,\n",
       " 0.025609157: 44,\n",
       " 0.042031587: 43,\n",
       " 0.219006007: 43,\n",
       " 0.093442564: 43,\n",
       " 0.313924552: 42,\n",
       " 0.150817539: 41,\n",
       " 0.000991363: 39,\n",
       " 0.521867054: 39,\n",
       " 0.127811589: 38,\n",
       " 0.101872465: 38,\n",
       " 0.0006991189999999999: 37,\n",
       " 0.232205084: 35,\n",
       " 0.122190486: 35,\n",
       " 0.246031548: 35,\n",
       " 0.212515361: 34,\n",
       " 0.306977489: 34,\n",
       " 0.136244425: 34,\n",
       " 0.200146802: 33,\n",
       " 0.16909109: 33,\n",
       " 0.050272014: 32,\n",
       " 0.460556389: 31,\n",
       " 0.051942062: 31,\n",
       " 0.31019913: 29,\n",
       " 0.14890389099999998: 27,\n",
       " 0.174739084: 25,\n",
       " 0.037316452: 25,\n",
       " 0.015016892: 25,\n",
       " 0.13012277: 25,\n",
       " 0.086885265: 24,\n",
       " 0.486245621: 22,\n",
       " 0.08761909: 22,\n",
       " 0.210473241: 20,\n",
       " 0.081943463: 19,\n",
       " 0.327018035: 18,\n",
       " 0.049863387: 16,\n",
       " 0.036270089: 16,\n",
       " 0.042307271: 15,\n",
       " 0.407276235: 14,\n",
       " 0.298204575: 13,\n",
       " 0.197367951: 12,\n",
       " 0.01405792: 11,\n",
       " 0.051815435: 11,\n",
       " 0.004949358: 11,\n",
       " 1.8e-09: 10,\n",
       " 0.246623602: 9,\n",
       " 0.014580716: 7,\n",
       " 0.386771659: 6,\n",
       " 0.01131981: 3,\n",
       " 0.394094211: 2,\n",
       " 0.012521634: 1,\n",
       " 0.014333947: 1}"
      ]
     },
     "execution_count": 28,
     "metadata": {},
     "output_type": "execute_result"
    }
   ],
   "source": [
    "dict(X['Ecology_1'].value_counts())"
   ]
  },
  {
   "cell_type": "markdown",
   "metadata": {},
   "source": [
    "#### 3. Social_1"
   ]
  },
  {
   "cell_type": "code",
   "execution_count": 29,
   "metadata": {},
   "outputs": [
    {
     "data": {
      "text/plain": [
       "51"
      ]
     },
     "execution_count": 29,
     "metadata": {},
     "output_type": "execute_result"
    }
   ],
   "source": [
    "X.Social_1.nunique()"
   ]
  },
  {
   "cell_type": "code",
   "execution_count": 30,
   "metadata": {},
   "outputs": [
    {
     "data": {
      "text/plain": [
       "{2: 688,\n",
       " 1: 654,\n",
       " 25: 557,\n",
       " 5: 528,\n",
       " 30: 465,\n",
       " 23: 434,\n",
       " 6: 377,\n",
       " 22: 367,\n",
       " 53: 355,\n",
       " 34: 311,\n",
       " 33: 252,\n",
       " 46: 245,\n",
       " 31: 243,\n",
       " 43: 238,\n",
       " 9: 213,\n",
       " 36: 209,\n",
       " 21: 207,\n",
       " 37: 205,\n",
       " 24: 205,\n",
       " 52: 201,\n",
       " 0: 201,\n",
       " 35: 200,\n",
       " 47: 177,\n",
       " 74: 176,\n",
       " 39: 159,\n",
       " 27: 151,\n",
       " 28: 144,\n",
       " 4: 141,\n",
       " 11: 138,\n",
       " 42: 129,\n",
       " 26: 127,\n",
       " 16: 123,\n",
       " 19: 118,\n",
       " 66: 99,\n",
       " 17: 96,\n",
       " 49: 95,\n",
       " 18: 92,\n",
       " 32: 87,\n",
       " 41: 83,\n",
       " 50: 79,\n",
       " 29: 70,\n",
       " 38: 64,\n",
       " 8: 62,\n",
       " 15: 51,\n",
       " 20: 50,\n",
       " 14: 46,\n",
       " 10: 24,\n",
       " 13: 22,\n",
       " 12: 18,\n",
       " 7: 15,\n",
       " 3: 9}"
      ]
     },
     "execution_count": 30,
     "metadata": {},
     "output_type": "execute_result"
    }
   ],
   "source": [
    "dict(X['Social_1'].value_counts())"
   ]
  },
  {
   "cell_type": "markdown",
   "metadata": {},
   "source": [
    "#### 4. Social_2"
   ]
  },
  {
   "cell_type": "code",
   "execution_count": 31,
   "metadata": {},
   "outputs": [
    {
     "data": {
      "text/plain": [
       "142"
      ]
     },
     "execution_count": 31,
     "metadata": {},
     "output_type": "execute_result"
    }
   ],
   "source": [
    "X.Social_2.nunique()"
   ]
  },
  {
   "cell_type": "code",
   "execution_count": 32,
   "metadata": {},
   "outputs": [
    {
     "data": {
      "text/plain": [
       "{264: 587,\n",
       " 1564: 511,\n",
       " 629: 486,\n",
       " 1437: 346,\n",
       " 6398: 245,\n",
       " 13670: 204,\n",
       " 5648: 202,\n",
       " 168: 190,\n",
       " 19083: 176,\n",
       " 1892: 172,\n",
       " 7065: 163,\n",
       " 14892: 151,\n",
       " 7759: 148,\n",
       " 469: 142,\n",
       " 915: 141,\n",
       " 5735: 137,\n",
       " 5212: 128,\n",
       " 10311: 117,\n",
       " 6207: 110,\n",
       " 8004: 103,\n",
       " 10573: 99,\n",
       " 5285: 99,\n",
       " 11395: 95,\n",
       " 9515: 89,\n",
       " 8429: 89,\n",
       " 10621: 87,\n",
       " 6119: 86,\n",
       " 7687: 84,\n",
       " 11217: 84,\n",
       " 6558: 83,\n",
       " 10309: 83,\n",
       " 6714: 79,\n",
       " 12238: 79,\n",
       " 5731: 78,\n",
       " 5288: 78,\n",
       " 5776: 76,\n",
       " 7715: 75,\n",
       " 11319: 74,\n",
       " 7960: 73,\n",
       " 10418: 71,\n",
       " 7651: 71,\n",
       " 5992: 70,\n",
       " 6566: 70,\n",
       " 4439: 67,\n",
       " 4756: 67,\n",
       " 7976: 66,\n",
       " 8667: 66,\n",
       " 5048: 65,\n",
       " 4788: 64,\n",
       " 6533: 63,\n",
       " 5562: 63,\n",
       " 6137: 62,\n",
       " 7227: 62,\n",
       " 5889: 62,\n",
       " 5487: 61,\n",
       " 3889: 60,\n",
       " 5613: 60,\n",
       " 4378: 60,\n",
       " 10055: 60,\n",
       " 3893: 59,\n",
       " 4798: 59,\n",
       " 9292: 58,\n",
       " 5011: 58,\n",
       " 5664: 58,\n",
       " 388: 56,\n",
       " 475: 55,\n",
       " 3097: 55,\n",
       " 6564: 54,\n",
       " 7614: 54,\n",
       " 4346: 52,\n",
       " 3806: 51,\n",
       " 2787: 51,\n",
       " 5469: 50,\n",
       " 5027: 49,\n",
       " 3594: 49,\n",
       " 5569: 49,\n",
       " 7077: 49,\n",
       " 6141: 47,\n",
       " 3478: 46,\n",
       " 7010: 46,\n",
       " 4472: 45,\n",
       " 4789: 45,\n",
       " 5261: 44,\n",
       " 6856: 43,\n",
       " 4635: 43,\n",
       " 6746: 43,\n",
       " 4625: 42,\n",
       " 3433: 41,\n",
       " 6783: 39,\n",
       " 6149: 39,\n",
       " 7287: 38,\n",
       " 4583: 38,\n",
       " 7425: 37,\n",
       " 3369: 37,\n",
       " 4724: 35,\n",
       " 3151: 35,\n",
       " 4860: 35,\n",
       " 2370: 34,\n",
       " 5148: 34,\n",
       " 8647: 34,\n",
       " 3293: 34,\n",
       " 3975: 33,\n",
       " 3856: 33,\n",
       " 5067: 32,\n",
       " 4231: 32,\n",
       " 4017: 31,\n",
       " 4386: 31,\n",
       " 2748: 29,\n",
       " 3374: 27,\n",
       " 7538: 27,\n",
       " 1952: 27,\n",
       " 1986: 25,\n",
       " 6748: 25,\n",
       " 3079: 25,\n",
       " 3379: 25,\n",
       " 2277: 24,\n",
       " 3684: 23,\n",
       " 1497: 22,\n",
       " 2514: 22,\n",
       " 2398: 20,\n",
       " 2738: 19,\n",
       " 2270: 18,\n",
       " 3746: 16,\n",
       " 1318: 16,\n",
       " 2733: 15,\n",
       " 1660: 15,\n",
       " 2810: 15,\n",
       " 1768: 14,\n",
       " 4048: 13,\n",
       " 2423: 12,\n",
       " 1227: 11,\n",
       " 186: 11,\n",
       " 290: 11,\n",
       " 3681: 10,\n",
       " 2940: 9,\n",
       " 760: 7,\n",
       " 1135: 6,\n",
       " 568: 3,\n",
       " 1423: 3,\n",
       " 662: 2,\n",
       " 507: 1,\n",
       " 528: 1}"
      ]
     },
     "execution_count": 32,
     "metadata": {},
     "output_type": "execute_result"
    }
   ],
   "source": [
    "dict(X['Social_2'].value_counts())"
   ]
  },
  {
   "cell_type": "markdown",
   "metadata": {},
   "source": [
    "#### 5. Social_3"
   ]
  },
  {
   "cell_type": "code",
   "execution_count": 33,
   "metadata": {},
   "outputs": [
    {
     "data": {
      "text/plain": [
       "30"
      ]
     },
     "execution_count": 33,
     "metadata": {},
     "output_type": "execute_result"
    }
   ],
   "source": [
    "X.Social_3.nunique()"
   ]
  },
  {
   "cell_type": "code",
   "execution_count": 34,
   "metadata": {},
   "outputs": [
    {
     "data": {
      "text/plain": [
       "{0: 2997,\n",
       " 1: 1861,\n",
       " 3: 1136,\n",
       " 4: 835,\n",
       " 2: 635,\n",
       " 6: 423,\n",
       " 5: 391,\n",
       " 141: 245,\n",
       " 9: 192,\n",
       " 7: 184,\n",
       " 11: 172,\n",
       " 8: 170,\n",
       " 10: 142,\n",
       " 16: 101,\n",
       " 14: 97,\n",
       " 27: 59,\n",
       " 48: 58,\n",
       " 56: 49,\n",
       " 84: 43,\n",
       " 24: 37,\n",
       " 87: 27,\n",
       " 59: 25,\n",
       " 93: 25,\n",
       " 19: 22,\n",
       " 20: 19,\n",
       " 23: 18,\n",
       " 39: 15,\n",
       " 73: 10,\n",
       " 45: 9,\n",
       " 37: 3}"
      ]
     },
     "execution_count": 34,
     "metadata": {},
     "output_type": "execute_result"
    }
   ],
   "source": [
    "dict(X['Social_3'].value_counts())"
   ]
  },
  {
   "cell_type": "markdown",
   "metadata": {},
   "source": [
    "#### 6. Shops_1"
   ]
  },
  {
   "cell_type": "code",
   "execution_count": 35,
   "metadata": {},
   "outputs": [
    {
     "data": {
      "text/plain": [
       "16"
      ]
     },
     "execution_count": 35,
     "metadata": {},
     "output_type": "execute_result"
    }
   ],
   "source": [
    "X.Shops_1.nunique()"
   ]
  },
  {
   "cell_type": "code",
   "execution_count": 36,
   "metadata": {},
   "outputs": [
    {
     "data": {
      "text/plain": [
       "{0: 2316,\n",
       " 1: 1325,\n",
       " 5: 1324,\n",
       " 2: 964,\n",
       " 4: 841,\n",
       " 3: 711,\n",
       " 6: 487,\n",
       " 11: 401,\n",
       " 9: 316,\n",
       " 7: 294,\n",
       " 8: 253,\n",
       " 23: 245,\n",
       " 10: 215,\n",
       " 15: 176,\n",
       " 16: 83,\n",
       " 19: 49}"
      ]
     },
     "execution_count": 36,
     "metadata": {},
     "output_type": "execute_result"
    }
   ],
   "source": [
    "dict(X['Shops_1'].value_counts())"
   ]
  },
  {
   "cell_type": "markdown",
   "metadata": {},
   "source": [
    "## 2. Data cleaning"
   ]
  },
  {
   "cell_type": "code",
   "execution_count": 37,
   "metadata": {},
   "outputs": [],
   "source": [
    "class FeatureImputer:\n",
    "    \"\"\"Заполнение пропусков и облработка выбросов\"\"\"\n",
    "    \n",
    "    def __init__(self):\n",
    "        self.medians = None\n",
    "        self.Square_medians = None        \n",
    "\n",
    "        \n",
    "    def fit(self, X):\n",
    "        self.medians = X.median()\n",
    "        self.Square_medians = X.groupby(['DistrictId', 'HouseYear','Rooms'])['Square'].median()        \n",
    "\n",
    "    \n",
    "    def transform(self, X):\n",
    "        \n",
    "        # Rooms        \n",
    "        X.loc[X['Rooms'] == 0, 'Rooms'] = 1\n",
    "        X.loc[X['Rooms'] >= 6, 'Rooms'] = self.medians['Rooms']\n",
    "        \n",
    "        # Square\n",
    "        X.loc[((X.Rooms < 4) | (X.KitchenSquare <=10)) & (X.Square > 250), 'Square'] /= 10\n",
    "        X.loc[(X.Square < 13) & (X.LifeSquare > 13), 'Square'] = X[(X.Square < 13) & \n",
    "                                                                   (X.LifeSquare > 13)].LifeSquare\n",
    "        for i in X[(X.Square < 13) | X.Square.isnull()].index:\n",
    "            X.loc[i, 'Square'] = self.Square_medians[(X.loc[i, 'DistrictId'], \n",
    "                                                      X.loc[i, 'HouseYear'], \n",
    "                                                      X.loc[i, 'Rooms'])]\n",
    "        \n",
    "        # KitchenSquare\n",
    "        X.loc[X['KitchenSquare'] < 3, 'KitchenSquare'] = 3        \n",
    "        X.loc[X['KitchenSquare'] > 1000, 'KitchenSquare'] /= 10 \n",
    "                \n",
    "        \n",
    "        # HouseFloor, Floor\n",
    "        X['HouseFloor_outlier'] = 0\n",
    "        X.loc[X['HouseFloor'] == 0, 'HouseFloor_outlier'] = 1\n",
    "        X.loc[X['Floor'] > X['HouseFloor'], 'HouseFloor_outlier'] = 1\n",
    "        \n",
    "        X.loc[X['HouseFloor'] == 0, 'HouseFloor'] = self.medians['HouseFloor']\n",
    "        X.loc[X['Floor'] > X['HouseFloor'], 'Floor'] = X.loc[X['Floor'] > X['HouseFloor'], 'HouseFloor']\n",
    "        \n",
    "        # HouseYear\n",
    "        current_year = now = datetime.datetime.now().year\n",
    "        \n",
    "        X['HouseYear_outlier'] = 0\n",
    "        X.loc[X['HouseYear'] > current_year, 'HouseYear_outlier'] = 1\n",
    "        \n",
    "        X.loc[X['HouseYear'] > current_year, 'HouseYear'] = current_year\n",
    "        \n",
    "        # Healthcare_1\n",
    "        if 'Healthcare_1' in X.columns:\n",
    "            X.drop('Healthcare_1', axis=1, inplace=True)\n",
    "            \n",
    "        # LifeSquare\n",
    "        X['LifeSquare_nan'] = X['LifeSquare'].isna() * 1\n",
    "        \n",
    "        condition = (X['LifeSquare'].isna() | (X['LifeSquare'] < 8)) &\\\n",
    "                      (~X['Square'].isna()) & \\\n",
    "                      (~X['KitchenSquare'].isna())\n",
    "        \n",
    "        X.loc[condition, 'LifeSquare'] = X.loc[condition, 'Square'] - X.loc[condition, 'KitchenSquare']\n",
    "        \n",
    "                \n",
    "        return X"
   ]
  },
  {
   "cell_type": "code",
   "execution_count": 38,
   "metadata": {},
   "outputs": [],
   "source": [
    "imputer = FeatureImputer()\n",
    "\n",
    "imputer.fit(X) # расчет медиан\n",
    "\n",
    "X = imputer.transform(X)\n",
    "X_final = imputer.transform(X_final)"
   ]
  },
  {
   "cell_type": "markdown",
   "metadata": {},
   "source": [
    "## 3. Feature engineering"
   ]
  },
  {
   "cell_type": "code",
   "execution_count": 39,
   "metadata": {},
   "outputs": [],
   "source": [
    "class FeatureGenetator():\n",
    "    \"\"\"Генерация новых фич\"\"\"\n",
    "    \n",
    "    def __init__(self):\n",
    "        self.DistrictId_counts = None\n",
    "        self.binary_to_numbers = None\n",
    "        self.med_price_by_district = None\n",
    "        self.med_price_by_ecology_1 = None\n",
    "        self.med_price_by_social_2 = None        \n",
    "        \n",
    "    def fit(self, X, y=None):\n",
    "        \n",
    "        X = X.copy()\n",
    "        \n",
    "        # DistrictID\n",
    "        district = X['DistrictId'].value_counts()\n",
    "        district = district[district > 50]        \n",
    "        self.DistrictId_counts = dict(district)\n",
    "        \n",
    "        # Ecology_1\n",
    "        ecology_1 = X['Ecology_1'].value_counts()\n",
    "        ecology_1 = ecology_1[ecology_1 > 50]        \n",
    "        self.Ecology_1_counts = dict(ecology_1)        \n",
    "                \n",
    "        # Social_2\n",
    "        social_2 = X['Social_2'].value_counts()\n",
    "        social_2 = social_2[social_2 > 40]        \n",
    "        self.Social_2_counts = dict(social_2)\n",
    "        \n",
    "      \n",
    "        # Binary features\n",
    "        self.binary_to_numbers = {'A': 0, 'B': 1}\n",
    "        \n",
    "        \n",
    "        \n",
    "        # Target encoding\n",
    "        ## 1. District\n",
    "        df = X.copy()\n",
    "        \n",
    "        if y is not None:\n",
    "            df['Price'] = y.values            \n",
    "            df['DistrictId_popular'] = df['DistrictId'].copy()\n",
    "            df.loc[~df['DistrictId_popular'].isin(district.keys().tolist())] = np.nan\n",
    "            \n",
    "            self.med_price_by_district = df.groupby(['DistrictId_popular', 'Rooms'], \n",
    "                                                    as_index=False).agg({'Price':'median'}).\\\n",
    "                                            rename(columns={'Price':'MedPriceByDistrict',\n",
    "                                                           'DistrictId_popular': 'DistrictId'})\n",
    "        ## 2. Ecology_1    \n",
    "        if y is not None:\n",
    "            df['Price'] = y.values            \n",
    "            df['Ecology_1_frequent'] = df['Ecology_1'].copy()\n",
    "            df.loc[~df['Ecology_1_frequent'].isin(ecology_1.keys().tolist())] = np.nan            \n",
    "            self.med_price_by_ecology_1 = df.groupby(['Ecology_1_frequent', 'Rooms'], \n",
    "                                                     as_index=False).agg({'Price':'median'}).\\\n",
    "                                            rename(columns={'Price':'MedPriceByEcology_1',\n",
    "                                                           'Ecology_1_frequent': 'Ecology_1'})\n",
    "\n",
    "        ## 3.Social_2\n",
    "        if y is not None:\n",
    "            df['Price'] = y.values            \n",
    "            df['Social_2_frequent'] = df['Social_2'].copy()\n",
    "            df.loc[~df['Social_2_frequent'].isin(social_2.keys().tolist())] = np.nan            \n",
    "            self.med_price_by_social_2 = df.groupby(['Social_2_frequent', 'Rooms'], \n",
    "                                                    as_index=False).agg({'Price':'median'}).\\\n",
    "                                            rename(columns={'Price':'MedPriceBySocial_2',\n",
    "                                                          'Social_2_frequent': 'Social_2'})\n",
    "        ## 4. floor, year\n",
    "        if y is not None:\n",
    "            df['Price'] = y.values\n",
    "            df = self.floor_to_cat(df)\n",
    "            df = self.year_to_cat(df)\n",
    "            self.med_price_by_floor_year = df.groupby(['year_cat', 'floor_cat'], \n",
    "                                                      as_index=False).agg({'Price':'median'}).\\\n",
    "                                            rename(columns={'Price':'MedPriceByFloorYear'})\n",
    "        \n",
    "    def transform(self, X):\n",
    "        \n",
    "        # DistrictId\n",
    "        X['DistrictId_count'] = X['DistrictId'].map(self.DistrictId_counts)\n",
    "        \n",
    "        X['new_district'] = 0\n",
    "        X.loc[X['DistrictId_count'].isna(), 'new_district'] = 1\n",
    "        \n",
    "        X['DistrictId_count'].fillna(5, inplace=True)\n",
    "        \n",
    "        # Binary features\n",
    "        X['Ecology_2'] = X['Ecology_2'].map(self.binary_to_numbers)\n",
    "        X['Ecology_3'] = X['Ecology_3'].map(self.binary_to_numbers)\n",
    "        X['Shops_2'] = X['Shops_2'].map(self.binary_to_numbers)\n",
    "        \n",
    "        # More categorical features\n",
    "        X = self.floor_to_cat(X)\n",
    "        X = self.year_to_cat(X) \n",
    "        \n",
    "        # Dummy variables\n",
    "        X = self.get_dummies(X)\n",
    "        \n",
    "        # PCA variables\n",
    "        X = self.pca_features(X)\n",
    "        \n",
    "        # Target encoding\n",
    "        if self.med_price_by_district is not None:\n",
    "            X = X.merge(self.med_price_by_district, on=['DistrictId', 'Rooms'], how='left')\n",
    "            \n",
    "        if self.med_price_by_ecology_1 is not None:\n",
    "            X = X.merge(self.med_price_by_ecology_1, on=['Ecology_1', 'Rooms'], how='left')\n",
    "        \n",
    "        if self.med_price_by_social_2 is not None:\n",
    "            X = X.merge(self.med_price_by_social_2, on=['Social_2', 'Rooms'], how='left')\n",
    "            \n",
    "        if self.med_price_by_floor_year is not None:\n",
    "            X = X.merge(self.med_price_by_floor_year, on=['year_cat', 'floor_cat'], how='left')\n",
    "            \n",
    "                \n",
    "        return X\n",
    "    \n",
    "    @staticmethod\n",
    "    def floor_to_cat(X):\n",
    "        \n",
    "        X['floor_cat'] = np.nan\n",
    "        \n",
    "        X.loc[X['Floor'] < 3, 'floor_cat'] = 1  \n",
    "        X.loc[(X['Floor'] >= 3) & (X['Floor'] <= 5), 'floor_cat'] = 2\n",
    "        X.loc[(X['Floor'] > 5) & (X['Floor'] <= 9), 'floor_cat'] = 3\n",
    "        X.loc[(X['Floor'] > 9) & (X['Floor'] <= 15), 'floor_cat'] = 4\n",
    "        X.loc[X['Floor'] > 15, 'floor_cat'] = 5\n",
    "            \n",
    "        return X\n",
    "     \n",
    "    @staticmethod\n",
    "    def year_to_cat(X):\n",
    "        \n",
    "        X['year_cat'] = np.nan\n",
    "        \n",
    "        X.loc[X['HouseYear'] < 1941, 'year_cat'] = 1\n",
    "        X.loc[(X['HouseYear'] >= 1941) & (X['HouseYear'] <= 1945), 'year_cat'] = 2\n",
    "        X.loc[(X['HouseYear'] > 1945) & (X['HouseYear'] <= 1980), 'year_cat'] = 3\n",
    "        X.loc[(X['HouseYear'] > 1980) & (X['HouseYear'] <= 2000), 'year_cat'] = 4\n",
    "        X.loc[(X['HouseYear'] > 2000) & (X['HouseYear'] <= 2010), 'year_cat'] = 5\n",
    "        X.loc[(X['HouseYear'] > 2010), 'year_cat'] = 6\n",
    "            \n",
    "        return X\n",
    "               \n",
    "    @staticmethod    \n",
    "    def get_dummies(X):\n",
    "        ## Helthcare_2\n",
    "        X.loc[X.Helthcare_2 <= 1, 'Helthcare_2'] = 1    \n",
    "        a = pd.get_dummies(X.Helthcare_2).rename(columns={1: 'H2_1', 2: 'H2_2', 3: 'H2_3', \n",
    "                                                          4: 'H2_4', 5: 'H2_5', 6: 'H2_6'})\n",
    "        X = pd.concat([X, a], axis=1).drop('Helthcare_2', axis=1)\n",
    "        \n",
    "        \n",
    "        ## clustered 'Square', 'LifeSquare', 'Rooms', 'KitchenSquare'\n",
    "        scaler = StandardScaler()\n",
    "        a = X[['Square', 'LifeSquare', 'Rooms', 'KitchenSquare']]\n",
    "        a = scaler.fit_transform(a)\n",
    "        kmeans = KMeans(n_clusters=6, random_state=0).fit(a)\n",
    "        X.loc[:, 'Cluster_composit'] = kmeans.labels_\n",
    "        \n",
    "        a = pd.get_dummies(X.Cluster_composit).rename(columns={0: 'Cluster_1', 1: 'Cluster_2', \n",
    "                                                               2: 'Cluster_3', 3: 'Cluster_4', \n",
    "                                                               4: 'Cluster_5', 5: 'Cluster_6'})\n",
    "        X = pd.concat([X, a], axis=1).drop('Cluster_composit', axis=1)\n",
    "        \n",
    "        return X\n",
    "        \n",
    "    @staticmethod   \n",
    "    def pca_features(X):\n",
    "        scaler = StandardScaler()\n",
    "        a = X[['Square', 'LifeSquare', 'Rooms', 'KitchenSquare', 'HouseYear']].fillna(0)\n",
    "        a = scaler.fit_transform(a)\n",
    "        pca = PCA(n_components=2)\n",
    "        pca.fit(a)    \n",
    "        X.loc[:, 'pca_composit_1'] = np.dot(a, pca.components_.T)[:, 0]\n",
    "        X.loc[:, 'pca_composit_2'] = np.dot(a, pca.components_.T)[:, 1]\n",
    "    \n",
    "        return X"
   ]
  },
  {
   "cell_type": "code",
   "execution_count": 40,
   "metadata": {},
   "outputs": [],
   "source": [
    "features = FeatureGenetator()\n",
    "\n",
    "features.fit(X, y)\n",
    "\n",
    "X = features.transform(X)\n",
    "X_final = features.transform(X_final)"
   ]
  },
  {
   "cell_type": "code",
   "execution_count": 41,
   "metadata": {},
   "outputs": [
    {
     "data": {
      "text/plain": [
       "['DistrictId',\n",
       " 'Rooms',\n",
       " 'Square',\n",
       " 'LifeSquare',\n",
       " 'KitchenSquare',\n",
       " 'Floor',\n",
       " 'HouseFloor',\n",
       " 'HouseYear',\n",
       " 'Ecology_1',\n",
       " 'Ecology_2',\n",
       " 'Ecology_3',\n",
       " 'Social_1',\n",
       " 'Social_2',\n",
       " 'Social_3',\n",
       " 'Shops_1',\n",
       " 'Shops_2',\n",
       " 'HouseFloor_outlier',\n",
       " 'HouseYear_outlier',\n",
       " 'LifeSquare_nan',\n",
       " 'DistrictId_count',\n",
       " 'new_district',\n",
       " 'floor_cat',\n",
       " 'year_cat',\n",
       " 'H2_1',\n",
       " 'H2_2',\n",
       " 'H2_3',\n",
       " 'H2_4',\n",
       " 'H2_5',\n",
       " 'H2_6',\n",
       " 'Cluster_1',\n",
       " 'Cluster_2',\n",
       " 'Cluster_3',\n",
       " 'Cluster_4',\n",
       " 'Cluster_5',\n",
       " 'Cluster_6',\n",
       " 'pca_composit_1',\n",
       " 'pca_composit_2',\n",
       " 'MedPriceByDistrict',\n",
       " 'MedPriceByEcology_1',\n",
       " 'MedPriceBySocial_2',\n",
       " 'MedPriceByFloorYear']"
      ]
     },
     "execution_count": 41,
     "metadata": {},
     "output_type": "execute_result"
    }
   ],
   "source": [
    "X.columns.tolist()"
   ]
  },
  {
   "cell_type": "markdown",
   "metadata": {},
   "source": [
    "#### Removal of redundant and irrelevant data"
   ]
  },
  {
   "cell_type": "code",
   "execution_count": 42,
   "metadata": {},
   "outputs": [],
   "source": [
    "remain_features = ['Rooms', 'Square', 'LifeSquare', 'KitchenSquare', \n",
    "                   'Floor', 'HouseFloor', \n",
    "                   'HouseYear', \n",
    "                   'Ecology_1', 'Social_2',\n",
    "                   'Shops_1',\n",
    "                   \n",
    "                   'Ecology_2', 'Ecology_3', 'Shops_2',\n",
    "                   \n",
    "                   'MedPriceByDistrict', 'DistrictId_count', 'LifeSquare_nan', \n",
    "                   'HouseFloor_outlier',                   \n",
    "                                                   \n",
    "                   'H2_1','H2_2','H2_3','H2_4','H2_5','H2_6',\n",
    "                   'Cluster_1', 'Cluster_2', 'Cluster_3',\n",
    "                   'Cluster_4', 'Cluster_5', 'Cluster_6']\n",
    "\n",
    "X = X[remain_features]\n",
    "X_final = X_final[remain_features]"
   ]
  },
  {
   "cell_type": "markdown",
   "metadata": {},
   "source": [
    "## 4. Model"
   ]
  },
  {
   "cell_type": "markdown",
   "metadata": {},
   "source": [
    "#### 1. LGBMRegressor"
   ]
  },
  {
   "cell_type": "code",
   "execution_count": 43,
   "metadata": {},
   "outputs": [
    {
     "name": "stdout",
     "output_type": "stream",
     "text": [
      "R2: 0.746 +- 0.014\n"
     ]
    }
   ],
   "source": [
    "model = LGBMRegressor(max_depth=30, \n",
    "                             min_samples_leaf=10,\n",
    "                             n_estimators=300, \n",
    "                             random_state=42)\n",
    "\n",
    "cv_score = cross_val_score(model, X, y, \n",
    "                           scoring='r2', \n",
    "                           cv=KFold(n_splits=5, shuffle=True, random_state=42))\n",
    "# cv_score\n",
    "mean = cv_score.mean()\n",
    "std = cv_score.std()\n",
    "\n",
    "print('R2: {:.3f} +- {:.3f}'.format(mean, std)) \n",
    "\n",
    "# R2: 0.746 +- 0.014"
   ]
  },
  {
   "cell_type": "code",
   "execution_count": 44,
   "metadata": {},
   "outputs": [
    {
     "data": {
      "text/plain": [
       "LGBMRegressor(boosting_type='gbdt', class_weight=None, colsample_bytree=1.0,\n",
       "              importance_type='split', learning_rate=0.1, max_depth=30,\n",
       "              min_child_samples=20, min_child_weight=0.001, min_samples_leaf=10,\n",
       "              min_split_gain=0.0, n_estimators=300, n_jobs=-1, num_leaves=31,\n",
       "              objective=None, random_state=42, reg_alpha=0.0, reg_lambda=0.0,\n",
       "              silent=True, subsample=1.0, subsample_for_bin=200000,\n",
       "              subsample_freq=0)"
      ]
     },
     "execution_count": 44,
     "metadata": {},
     "output_type": "execute_result"
    }
   ],
   "source": [
    "# Обучаю модель на всем трейне\n",
    "model.fit(X, y)"
   ]
  },
  {
   "cell_type": "markdown",
   "metadata": {},
   "source": [
    "#### Feature_importances"
   ]
  },
  {
   "cell_type": "code",
   "execution_count": 45,
   "metadata": {},
   "outputs": [
    {
     "data": {
      "text/html": [
       "<div>\n",
       "<style scoped>\n",
       "    .dataframe tbody tr th:only-of-type {\n",
       "        vertical-align: middle;\n",
       "    }\n",
       "\n",
       "    .dataframe tbody tr th {\n",
       "        vertical-align: top;\n",
       "    }\n",
       "\n",
       "    .dataframe thead th {\n",
       "        text-align: right;\n",
       "    }\n",
       "</style>\n",
       "<table border=\"1\" class=\"dataframe\">\n",
       "  <thead>\n",
       "    <tr style=\"text-align: right;\">\n",
       "      <th></th>\n",
       "      <th>feature_name</th>\n",
       "      <th>importance</th>\n",
       "    </tr>\n",
       "  </thead>\n",
       "  <tbody>\n",
       "    <tr>\n",
       "      <th>1</th>\n",
       "      <td>Square</td>\n",
       "      <td>0.157111</td>\n",
       "    </tr>\n",
       "    <tr>\n",
       "      <th>2</th>\n",
       "      <td>LifeSquare</td>\n",
       "      <td>0.130111</td>\n",
       "    </tr>\n",
       "    <tr>\n",
       "      <th>6</th>\n",
       "      <td>HouseYear</td>\n",
       "      <td>0.112222</td>\n",
       "    </tr>\n",
       "    <tr>\n",
       "      <th>8</th>\n",
       "      <td>Social_2</td>\n",
       "      <td>0.093111</td>\n",
       "    </tr>\n",
       "    <tr>\n",
       "      <th>13</th>\n",
       "      <td>MedPriceByDistrict</td>\n",
       "      <td>0.091111</td>\n",
       "    </tr>\n",
       "    <tr>\n",
       "      <th>7</th>\n",
       "      <td>Ecology_1</td>\n",
       "      <td>0.084778</td>\n",
       "    </tr>\n",
       "    <tr>\n",
       "      <th>4</th>\n",
       "      <td>Floor</td>\n",
       "      <td>0.068111</td>\n",
       "    </tr>\n",
       "    <tr>\n",
       "      <th>5</th>\n",
       "      <td>HouseFloor</td>\n",
       "      <td>0.063444</td>\n",
       "    </tr>\n",
       "    <tr>\n",
       "      <th>3</th>\n",
       "      <td>KitchenSquare</td>\n",
       "      <td>0.051000</td>\n",
       "    </tr>\n",
       "    <tr>\n",
       "      <th>14</th>\n",
       "      <td>DistrictId_count</td>\n",
       "      <td>0.042778</td>\n",
       "    </tr>\n",
       "    <tr>\n",
       "      <th>9</th>\n",
       "      <td>Shops_1</td>\n",
       "      <td>0.042667</td>\n",
       "    </tr>\n",
       "    <tr>\n",
       "      <th>0</th>\n",
       "      <td>Rooms</td>\n",
       "      <td>0.011889</td>\n",
       "    </tr>\n",
       "    <tr>\n",
       "      <th>17</th>\n",
       "      <td>H2_1</td>\n",
       "      <td>0.009111</td>\n",
       "    </tr>\n",
       "    <tr>\n",
       "      <th>16</th>\n",
       "      <td>HouseFloor_outlier</td>\n",
       "      <td>0.007333</td>\n",
       "    </tr>\n",
       "    <tr>\n",
       "      <th>18</th>\n",
       "      <td>H2_2</td>\n",
       "      <td>0.005667</td>\n",
       "    </tr>\n",
       "    <tr>\n",
       "      <th>12</th>\n",
       "      <td>Shops_2</td>\n",
       "      <td>0.004111</td>\n",
       "    </tr>\n",
       "    <tr>\n",
       "      <th>23</th>\n",
       "      <td>Cluster_1</td>\n",
       "      <td>0.004000</td>\n",
       "    </tr>\n",
       "    <tr>\n",
       "      <th>19</th>\n",
       "      <td>H2_3</td>\n",
       "      <td>0.003778</td>\n",
       "    </tr>\n",
       "    <tr>\n",
       "      <th>21</th>\n",
       "      <td>H2_5</td>\n",
       "      <td>0.003444</td>\n",
       "    </tr>\n",
       "    <tr>\n",
       "      <th>27</th>\n",
       "      <td>Cluster_5</td>\n",
       "      <td>0.003444</td>\n",
       "    </tr>\n",
       "    <tr>\n",
       "      <th>15</th>\n",
       "      <td>LifeSquare_nan</td>\n",
       "      <td>0.003222</td>\n",
       "    </tr>\n",
       "    <tr>\n",
       "      <th>20</th>\n",
       "      <td>H2_4</td>\n",
       "      <td>0.002111</td>\n",
       "    </tr>\n",
       "    <tr>\n",
       "      <th>22</th>\n",
       "      <td>H2_6</td>\n",
       "      <td>0.001222</td>\n",
       "    </tr>\n",
       "    <tr>\n",
       "      <th>26</th>\n",
       "      <td>Cluster_4</td>\n",
       "      <td>0.001222</td>\n",
       "    </tr>\n",
       "    <tr>\n",
       "      <th>24</th>\n",
       "      <td>Cluster_2</td>\n",
       "      <td>0.001111</td>\n",
       "    </tr>\n",
       "    <tr>\n",
       "      <th>11</th>\n",
       "      <td>Ecology_3</td>\n",
       "      <td>0.001000</td>\n",
       "    </tr>\n",
       "    <tr>\n",
       "      <th>10</th>\n",
       "      <td>Ecology_2</td>\n",
       "      <td>0.000889</td>\n",
       "    </tr>\n",
       "    <tr>\n",
       "      <th>25</th>\n",
       "      <td>Cluster_3</td>\n",
       "      <td>0.000000</td>\n",
       "    </tr>\n",
       "    <tr>\n",
       "      <th>28</th>\n",
       "      <td>Cluster_6</td>\n",
       "      <td>0.000000</td>\n",
       "    </tr>\n",
       "  </tbody>\n",
       "</table>\n",
       "</div>"
      ],
      "text/plain": [
       "          feature_name  importance\n",
       "1               Square    0.157111\n",
       "2           LifeSquare    0.130111\n",
       "6            HouseYear    0.112222\n",
       "8             Social_2    0.093111\n",
       "13  MedPriceByDistrict    0.091111\n",
       "7            Ecology_1    0.084778\n",
       "4                Floor    0.068111\n",
       "5           HouseFloor    0.063444\n",
       "3        KitchenSquare    0.051000\n",
       "14    DistrictId_count    0.042778\n",
       "9              Shops_1    0.042667\n",
       "0                Rooms    0.011889\n",
       "17                H2_1    0.009111\n",
       "16  HouseFloor_outlier    0.007333\n",
       "18                H2_2    0.005667\n",
       "12             Shops_2    0.004111\n",
       "23           Cluster_1    0.004000\n",
       "19                H2_3    0.003778\n",
       "21                H2_5    0.003444\n",
       "27           Cluster_5    0.003444\n",
       "15      LifeSquare_nan    0.003222\n",
       "20                H2_4    0.002111\n",
       "22                H2_6    0.001222\n",
       "26           Cluster_4    0.001222\n",
       "24           Cluster_2    0.001111\n",
       "11           Ecology_3    0.001000\n",
       "10           Ecology_2    0.000889\n",
       "25           Cluster_3    0.000000\n",
       "28           Cluster_6    0.000000"
      ]
     },
     "execution_count": 45,
     "metadata": {},
     "output_type": "execute_result"
    }
   ],
   "source": [
    "feature_importances = pd.DataFrame(zip(X.columns, \n",
    "                                       model.feature_importances_ / model.feature_importances_.sum()), \n",
    "                                   columns=['feature_name', 'importance'])\n",
    "\n",
    "feature_importances.sort_values(by='importance', ascending=False, inplace=True)\n",
    "feature_importances"
   ]
  },
  {
   "cell_type": "code",
   "execution_count": 46,
   "metadata": {},
   "outputs": [
    {
     "data": {
      "image/png": "[encoded data removed]",
      "text/plain": [
       "<Figure size 1440x432 with 1 Axes>"
      ]
     },
     "metadata": {
      "needs_background": "light"
     },
     "output_type": "display_data"
    }
   ],
   "source": [
    "def plot_feature_importances(importances, X):\n",
    "    \n",
    "    indices = np.argsort(importances)[::-1]\n",
    "\n",
    "    plt.figure(figsize = (20, 6))\n",
    "    plt.title(\"Feature importances\", fontsize=16)\n",
    "    plt.bar(range(X.shape[1]), importances[indices] / importances.sum(),\n",
    "           color=\"darkblue\", align=\"center\")\n",
    "    plt.xticks(range(X.shape[1]), X.columns[indices], rotation = 90, fontsize=14)\n",
    "    plt.xlim([-1, X.shape[1]])\n",
    "\n",
    "    plt.tight_layout()\n",
    "    # plt.savefig('fe.jpg')\n",
    "    plt.show()\n",
    "    \n",
    "plot_feature_importances(importances = model.feature_importances_, X=X)"
   ]
  },
  {
   "cell_type": "markdown",
   "metadata": {},
   "source": [
    "#### 2. RandomForestRegressor"
   ]
  },
  {
   "cell_type": "code",
   "execution_count": 47,
   "metadata": {},
   "outputs": [
    {
     "name": "stdout",
     "output_type": "stream",
     "text": [
      "R2: 0.693 +- 0.017\n"
     ]
    }
   ],
   "source": [
    "rf_model = RandomForestRegressor(criterion='mse',\n",
    "                                 max_depth=15,  \n",
    "                                 min_samples_leaf=30, \n",
    "                                 random_state=42,\n",
    "                                \n",
    "                                n_estimators=400  \n",
    "                                )\n",
    "cv_score = cross_val_score(rf_model, X.fillna(0), y, \n",
    "                           scoring='r2', \n",
    "                           cv=KFold(n_splits=5, shuffle=True, random_state=42))\n",
    "# cv_score\n",
    "mean = cv_score.mean()\n",
    "std = cv_score.std()\n",
    "\n",
    "print('R2: {:.3f} +- {:.3f}'.format(mean, std)) \n",
    "\n",
    "# R2: 0.746 +- 0.014 - LGBMRegressor"
   ]
  },
  {
   "cell_type": "markdown",
   "metadata": {},
   "source": [
    "#### 3. VotingRegressor"
   ]
  },
  {
   "cell_type": "code",
   "execution_count": 48,
   "metadata": {},
   "outputs": [
    {
     "name": "stdout",
     "output_type": "stream",
     "text": [
      "R2: 0.739 +- 0.017\n"
     ]
    }
   ],
   "source": [
    "v_model = VotingRegressor([('model', model), ('rf_model', rf_model)])\n",
    "\n",
    "cv_score = cross_val_score(v_model, X.fillna(0), y, \n",
    "                           scoring='r2', \n",
    "                           cv=KFold(n_splits=5, shuffle=True, random_state=42))\n",
    "# cv_score\n",
    "mean = cv_score.mean()\n",
    "std = cv_score.std()\n",
    "\n",
    "print('R2: {:.3f} +- {:.3f}'.format(mean, std)) \n",
    "\n",
    "# R2: 0.746 +- 0.014 - LGBMRegressor"
   ]
  },
  {
   "cell_type": "markdown",
   "metadata": {},
   "source": [
    "### 5. Model hyperparameter tuning"
   ]
  },
  {
   "cell_type": "markdown",
   "metadata": {},
   "source": [
    "#### 1. LGBMRegressor"
   ]
  },
  {
   "cell_type": "code",
   "execution_count": 49,
   "metadata": {},
   "outputs": [],
   "source": [
    "lgb_model = LGBMRegressor(criterion='mse', \n",
    "                            min_samples_leaf=10,\n",
    "                            random_state=42,\n",
    "                         \n",
    "                         # n_estimators=100,\n",
    "                         # max_depth=7\n",
    "                         \n",
    "                         )"
   ]
  },
  {
   "cell_type": "code",
   "execution_count": 50,
   "metadata": {},
   "outputs": [
    {
     "data": {
      "text/plain": [
       "GridSearchCV(cv=KFold(n_splits=4, random_state=42, shuffle=True),\n",
       "             error_score=nan,\n",
       "             estimator=LGBMRegressor(boosting_type='gbdt', class_weight=None,\n",
       "                                     colsample_bytree=1.0, criterion='mse',\n",
       "                                     importance_type='split', learning_rate=0.1,\n",
       "                                     max_depth=-1, min_child_samples=20,\n",
       "                                     min_child_weight=0.001,\n",
       "                                     min_samples_leaf=10, min_split_gain=0.0,\n",
       "                                     n_estimators=100, n_jobs=-1, num_leaves=31,\n",
       "                                     objective=None, random_state=42,\n",
       "                                     reg_alpha=0.0, reg_lambda=0.0, silent=True,\n",
       "                                     subsample=1.0, subsample_for_bin=200000,\n",
       "                                     subsample_freq=0),\n",
       "             iid='deprecated', n_jobs=-1,\n",
       "             param_grid={'max_depth': [7, 10, 15, 30, 40],\n",
       "                         'n_estimators': [50, 100, 200, 300]},\n",
       "             pre_dispatch='2*n_jobs', refit=True, return_train_score=False,\n",
       "             scoring='r2', verbose=0)"
      ]
     },
     "execution_count": 50,
     "metadata": {},
     "output_type": "execute_result"
    }
   ],
   "source": [
    "params = {'n_estimators':[50, 100, 200, 300], \n",
    "          'max_depth':[7, 10, 15, 30, 40]}\n",
    "\n",
    "gs = GridSearchCV(lgb_model, params, \n",
    "                  scoring='r2', \n",
    "                  cv=KFold(n_splits=4,   \n",
    "                           random_state=42, \n",
    "                           shuffle=True), \n",
    "                  n_jobs=-1  # Кол-во потоков \n",
    "                 )\n",
    "gs.fit(X, y)  "
   ]
  },
  {
   "cell_type": "code",
   "execution_count": 51,
   "metadata": {},
   "outputs": [
    {
     "data": {
      "text/plain": [
       "{'max_depth': 7, 'n_estimators': 200}"
      ]
     },
     "execution_count": 51,
     "metadata": {},
     "output_type": "execute_result"
    }
   ],
   "source": [
    "gs.best_params_"
   ]
  },
  {
   "cell_type": "markdown",
   "metadata": {},
   "source": [
    "#### 2. RandomForestRegressor"
   ]
  },
  {
   "cell_type": "code",
   "execution_count": 52,
   "metadata": {},
   "outputs": [],
   "source": [
    "rf_model = RandomForestRegressor(criterion='mse',                                  \n",
    "                                 min_samples_leaf=30, \n",
    "                                 random_state=42,\n",
    "                                \n",
    "                                #n_estimators=100  \n",
    "                                )"
   ]
  },
  {
   "cell_type": "code",
   "execution_count": 53,
   "metadata": {},
   "outputs": [
    {
     "data": {
      "text/plain": [
       "GridSearchCV(cv=KFold(n_splits=4, random_state=42, shuffle=True),\n",
       "             error_score=nan,\n",
       "             estimator=RandomForestRegressor(bootstrap=True, ccp_alpha=0.0,\n",
       "                                             criterion='mse', max_depth=None,\n",
       "                                             max_features='auto',\n",
       "                                             max_leaf_nodes=None,\n",
       "                                             max_samples=None,\n",
       "                                             min_impurity_decrease=0.0,\n",
       "                                             min_impurity_split=None,\n",
       "                                             min_samples_leaf=30,\n",
       "                                             min_samples_split=2,\n",
       "                                             min_weight_fraction_leaf=0.0,\n",
       "                                             n_estimators=100, n_jobs=None,\n",
       "                                             oob_score=False, random_state=42,\n",
       "                                             verbose=0, warm_start=False),\n",
       "             iid='deprecated', n_jobs=-1,\n",
       "             param_grid={'max_depth': [7, 10, 15, 30],\n",
       "                         'n_estimators': [50, 100, 200, 400]},\n",
       "             pre_dispatch='2*n_jobs', refit=True, return_train_score=False,\n",
       "             scoring='r2', verbose=0)"
      ]
     },
     "execution_count": 53,
     "metadata": {},
     "output_type": "execute_result"
    }
   ],
   "source": [
    "params = {'n_estimators':[50, 100, 200, 400], \n",
    "          'max_depth':[7, 10, 15, 30]}\n",
    "\n",
    "rf_gs = GridSearchCV(rf_model, params, \n",
    "                  scoring='r2',  \n",
    "                  cv=KFold(n_splits=4,   \n",
    "                           random_state=42, \n",
    "                           shuffle=True), \n",
    "                  n_jobs=-1  # Кол-во потоков \n",
    "                 )\n",
    "rf_gs.fit(X.fillna(0), y)"
   ]
  },
  {
   "cell_type": "code",
   "execution_count": 54,
   "metadata": {},
   "outputs": [
    {
     "data": {
      "text/plain": [
       "{'max_depth': 15, 'n_estimators': 400}"
      ]
     },
     "execution_count": 54,
     "metadata": {},
     "output_type": "execute_result"
    }
   ],
   "source": [
    "rf_gs.best_params_"
   ]
  },
  {
   "cell_type": "markdown",
   "metadata": {},
   "source": [
    "### 6. Final results"
   ]
  },
  {
   "cell_type": "code",
   "execution_count": 55,
   "metadata": {},
   "outputs": [
    {
     "data": {
      "text/html": [
       "<div>\n",
       "<style scoped>\n",
       "    .dataframe tbody tr th:only-of-type {\n",
       "        vertical-align: middle;\n",
       "    }\n",
       "\n",
       "    .dataframe tbody tr th {\n",
       "        vertical-align: top;\n",
       "    }\n",
       "\n",
       "    .dataframe thead th {\n",
       "        text-align: right;\n",
       "    }\n",
       "</style>\n",
       "<table border=\"1\" class=\"dataframe\">\n",
       "  <thead>\n",
       "    <tr style=\"text-align: right;\">\n",
       "      <th></th>\n",
       "      <th>Id</th>\n",
       "      <th>Price</th>\n",
       "    </tr>\n",
       "  </thead>\n",
       "  <tbody>\n",
       "    <tr>\n",
       "      <th>0</th>\n",
       "      <td>725</td>\n",
       "      <td>153689.178637</td>\n",
       "    </tr>\n",
       "    <tr>\n",
       "      <th>1</th>\n",
       "      <td>15856</td>\n",
       "      <td>262686.664419</td>\n",
       "    </tr>\n",
       "    <tr>\n",
       "      <th>2</th>\n",
       "      <td>5480</td>\n",
       "      <td>168715.594318</td>\n",
       "    </tr>\n",
       "    <tr>\n",
       "      <th>3</th>\n",
       "      <td>15664</td>\n",
       "      <td>323887.172818</td>\n",
       "    </tr>\n",
       "    <tr>\n",
       "      <th>4</th>\n",
       "      <td>14275</td>\n",
       "      <td>143423.606675</td>\n",
       "    </tr>\n",
       "  </tbody>\n",
       "</table>\n",
       "</div>"
      ],
      "text/plain": [
       "      Id          Price\n",
       "0    725  153689.178637\n",
       "1  15856  262686.664419\n",
       "2   5480  168715.594318\n",
       "3  15664  323887.172818\n",
       "4  14275  143423.606675"
      ]
     },
     "execution_count": 55,
     "metadata": {},
     "output_type": "execute_result"
    }
   ],
   "source": [
    "y_pred_final = model.predict(X_final)\n",
    "\n",
    "preds_final['Price'] = y_pred_final\n",
    "preds_final.to_csv('C:/Users/ASER/Desktop/GeekBrains/ML_libraries/kaggle_project/predictions.csv', index=False)\n",
    "\n",
    "preds_final.head()"
   ]
  },
  {
   "cell_type": "code",
   "execution_count": 56,
   "metadata": {},
   "outputs": [
    {
     "data": {
      "text/plain": [
       "(5000, 2)"
      ]
     },
     "execution_count": 56,
     "metadata": {},
     "output_type": "execute_result"
    }
   ],
   "source": [
    "preds_final.shape"
   ]
  }
 ],
 "metadata": {
  "kernelspec": {
   "display_name": "Python 3",
   "language": "python",
   "name": "python3"
  },
  "language_info": {
   "codemirror_mode": {
    "name": "ipython",
    "version": 3
   },
   "file_extension": ".py",
   "mimetype": "text/x-python",
   "name": "python",
   "nbconvert_exporter": "python",
   "pygments_lexer": "ipython3",
   "version": "3.8.2"
  }
 },
 "nbformat": 4,
 "nbformat_minor": 4
}
