{
 "cells": [
  {
   "cell_type": "markdown",
   "metadata": {},
   "source": [
    "## Спортивный анализ данных. Платформа Kaggle\n",
    "### Схемы валидации решения, оптимизация целевых метрик."
   ]
  },
  {
   "cell_type": "markdown",
   "metadata": {},
   "source": [
    "### Практическое задание 3."
   ]
  },
  {
   "cell_type": "code",
   "execution_count": 1,
   "metadata": {},
   "outputs": [],
   "source": [
    "import numpy as np\n",
    "import pandas as pd\n",
    "import random\n",
    "\n",
    "from sklearn.metrics import roc_auc_score\n",
    "from sklearn.model_selection import StratifiedKFold\n",
    "\n",
    "import xgboost as xgb\n",
    "\n",
    "import seaborn as sns\n",
    "import matplotlib.pyplot as plt\n",
    "%matplotlib inline"
   ]
  },
  {
   "cell_type": "code",
   "execution_count": 2,
   "metadata": {},
   "outputs": [],
   "source": [
    "import warnings\n",
    "warnings.filterwarnings('ignore')"
   ]
  },
  {
   "cell_type": "markdown",
   "metadata": {},
   "source": [
    "#### Пути к директориям и файлам"
   ]
  },
  {
   "cell_type": "code",
   "execution_count": 3,
   "metadata": {},
   "outputs": [],
   "source": [
    "PATH = 'C:/Users/ASER/Desktop/GeekBrains/Kaggle/Lesson_2/data/'\n",
    "TRAIN_DATASET_PATH = PATH + 'train.csv'\n",
    "TEST_DATASET_PATH = PATH + 'test.csv'"
   ]
  },
  {
   "cell_type": "markdown",
   "metadata": {},
   "source": [
    "#### Загрузка данных"
   ]
  },
  {
   "cell_type": "code",
   "execution_count": 4,
   "metadata": {},
   "outputs": [
    {
     "name": "stdout",
     "output_type": "stream",
     "text": [
      "train.shape (180000, 394)\n"
     ]
    },
    {
     "data": {
      "text/html": [
       "<div>\n",
       "<style scoped>\n",
       "    .dataframe tbody tr th:only-of-type {\n",
       "        vertical-align: middle;\n",
       "    }\n",
       "\n",
       "    .dataframe tbody tr th {\n",
       "        vertical-align: top;\n",
       "    }\n",
       "\n",
       "    .dataframe thead th {\n",
       "        text-align: right;\n",
       "    }\n",
       "</style>\n",
       "<table border=\"1\" class=\"dataframe\">\n",
       "  <thead>\n",
       "    <tr style=\"text-align: right;\">\n",
       "      <th></th>\n",
       "      <th>TransactionID</th>\n",
       "      <th>isFraud</th>\n",
       "      <th>TransactionDT</th>\n",
       "      <th>TransactionAmt</th>\n",
       "      <th>ProductCD</th>\n",
       "      <th>card1</th>\n",
       "      <th>card2</th>\n",
       "      <th>card3</th>\n",
       "      <th>card4</th>\n",
       "      <th>card5</th>\n",
       "      <th>...</th>\n",
       "      <th>V330</th>\n",
       "      <th>V331</th>\n",
       "      <th>V332</th>\n",
       "      <th>V333</th>\n",
       "      <th>V334</th>\n",
       "      <th>V335</th>\n",
       "      <th>V336</th>\n",
       "      <th>V337</th>\n",
       "      <th>V338</th>\n",
       "      <th>V339</th>\n",
       "    </tr>\n",
       "  </thead>\n",
       "  <tbody>\n",
       "    <tr>\n",
       "      <th>0</th>\n",
       "      <td>2987000</td>\n",
       "      <td>0</td>\n",
       "      <td>86400</td>\n",
       "      <td>68.5</td>\n",
       "      <td>W</td>\n",
       "      <td>13926</td>\n",
       "      <td>NaN</td>\n",
       "      <td>150.0</td>\n",
       "      <td>discover</td>\n",
       "      <td>142.0</td>\n",
       "      <td>...</td>\n",
       "      <td>NaN</td>\n",
       "      <td>NaN</td>\n",
       "      <td>NaN</td>\n",
       "      <td>NaN</td>\n",
       "      <td>NaN</td>\n",
       "      <td>NaN</td>\n",
       "      <td>NaN</td>\n",
       "      <td>NaN</td>\n",
       "      <td>NaN</td>\n",
       "      <td>NaN</td>\n",
       "    </tr>\n",
       "    <tr>\n",
       "      <th>1</th>\n",
       "      <td>2987001</td>\n",
       "      <td>0</td>\n",
       "      <td>86401</td>\n",
       "      <td>29.0</td>\n",
       "      <td>W</td>\n",
       "      <td>2755</td>\n",
       "      <td>404.0</td>\n",
       "      <td>150.0</td>\n",
       "      <td>mastercard</td>\n",
       "      <td>102.0</td>\n",
       "      <td>...</td>\n",
       "      <td>NaN</td>\n",
       "      <td>NaN</td>\n",
       "      <td>NaN</td>\n",
       "      <td>NaN</td>\n",
       "      <td>NaN</td>\n",
       "      <td>NaN</td>\n",
       "      <td>NaN</td>\n",
       "      <td>NaN</td>\n",
       "      <td>NaN</td>\n",
       "      <td>NaN</td>\n",
       "    </tr>\n",
       "  </tbody>\n",
       "</table>\n",
       "<p>2 rows × 394 columns</p>\n",
       "</div>"
      ],
      "text/plain": [
       "   TransactionID  isFraud  TransactionDT  TransactionAmt ProductCD  card1  \\\n",
       "0        2987000        0          86400            68.5         W  13926   \n",
       "1        2987001        0          86401            29.0         W   2755   \n",
       "\n",
       "   card2  card3       card4  card5  ... V330  V331  V332  V333  V334 V335  \\\n",
       "0    NaN  150.0    discover  142.0  ...  NaN   NaN   NaN   NaN   NaN  NaN   \n",
       "1  404.0  150.0  mastercard  102.0  ...  NaN   NaN   NaN   NaN   NaN  NaN   \n",
       "\n",
       "  V336  V337  V338  V339  \n",
       "0  NaN   NaN   NaN   NaN  \n",
       "1  NaN   NaN   NaN   NaN  \n",
       "\n",
       "[2 rows x 394 columns]"
      ]
     },
     "execution_count": 4,
     "metadata": {},
     "output_type": "execute_result"
    }
   ],
   "source": [
    "train = pd.read_csv(TRAIN_DATASET_PATH)\n",
    "print('train.shape', train.shape)\n",
    "train.head(2)"
   ]
  },
  {
   "cell_type": "code",
   "execution_count": 5,
   "metadata": {},
   "outputs": [
    {
     "name": "stdout",
     "output_type": "stream",
     "text": [
      "test.shape (100001, 394)\n"
     ]
    },
    {
     "data": {
      "text/html": [
       "<div>\n",
       "<style scoped>\n",
       "    .dataframe tbody tr th:only-of-type {\n",
       "        vertical-align: middle;\n",
       "    }\n",
       "\n",
       "    .dataframe tbody tr th {\n",
       "        vertical-align: top;\n",
       "    }\n",
       "\n",
       "    .dataframe thead th {\n",
       "        text-align: right;\n",
       "    }\n",
       "</style>\n",
       "<table border=\"1\" class=\"dataframe\">\n",
       "  <thead>\n",
       "    <tr style=\"text-align: right;\">\n",
       "      <th></th>\n",
       "      <th>TransactionID</th>\n",
       "      <th>isFraud</th>\n",
       "      <th>TransactionDT</th>\n",
       "      <th>TransactionAmt</th>\n",
       "      <th>ProductCD</th>\n",
       "      <th>card1</th>\n",
       "      <th>card2</th>\n",
       "      <th>card3</th>\n",
       "      <th>card4</th>\n",
       "      <th>card5</th>\n",
       "      <th>...</th>\n",
       "      <th>V330</th>\n",
       "      <th>V331</th>\n",
       "      <th>V332</th>\n",
       "      <th>V333</th>\n",
       "      <th>V334</th>\n",
       "      <th>V335</th>\n",
       "      <th>V336</th>\n",
       "      <th>V337</th>\n",
       "      <th>V338</th>\n",
       "      <th>V339</th>\n",
       "    </tr>\n",
       "  </thead>\n",
       "  <tbody>\n",
       "    <tr>\n",
       "      <th>0</th>\n",
       "      <td>3287000</td>\n",
       "      <td>1</td>\n",
       "      <td>7415038</td>\n",
       "      <td>226.0</td>\n",
       "      <td>W</td>\n",
       "      <td>12473</td>\n",
       "      <td>555.0</td>\n",
       "      <td>150.0</td>\n",
       "      <td>visa</td>\n",
       "      <td>226.0</td>\n",
       "      <td>...</td>\n",
       "      <td>NaN</td>\n",
       "      <td>NaN</td>\n",
       "      <td>NaN</td>\n",
       "      <td>NaN</td>\n",
       "      <td>NaN</td>\n",
       "      <td>NaN</td>\n",
       "      <td>NaN</td>\n",
       "      <td>NaN</td>\n",
       "      <td>NaN</td>\n",
       "      <td>NaN</td>\n",
       "    </tr>\n",
       "    <tr>\n",
       "      <th>1</th>\n",
       "      <td>3287001</td>\n",
       "      <td>0</td>\n",
       "      <td>7415054</td>\n",
       "      <td>3072.0</td>\n",
       "      <td>W</td>\n",
       "      <td>15651</td>\n",
       "      <td>417.0</td>\n",
       "      <td>150.0</td>\n",
       "      <td>visa</td>\n",
       "      <td>226.0</td>\n",
       "      <td>...</td>\n",
       "      <td>NaN</td>\n",
       "      <td>NaN</td>\n",
       "      <td>NaN</td>\n",
       "      <td>NaN</td>\n",
       "      <td>NaN</td>\n",
       "      <td>NaN</td>\n",
       "      <td>NaN</td>\n",
       "      <td>NaN</td>\n",
       "      <td>NaN</td>\n",
       "      <td>NaN</td>\n",
       "    </tr>\n",
       "  </tbody>\n",
       "</table>\n",
       "<p>2 rows × 394 columns</p>\n",
       "</div>"
      ],
      "text/plain": [
       "   TransactionID  isFraud  TransactionDT  TransactionAmt ProductCD  card1  \\\n",
       "0        3287000        1        7415038           226.0         W  12473   \n",
       "1        3287001        0        7415054          3072.0         W  15651   \n",
       "\n",
       "   card2  card3 card4  card5  ... V330  V331  V332  V333  V334 V335 V336  \\\n",
       "0  555.0  150.0  visa  226.0  ...  NaN   NaN   NaN   NaN   NaN  NaN  NaN   \n",
       "1  417.0  150.0  visa  226.0  ...  NaN   NaN   NaN   NaN   NaN  NaN  NaN   \n",
       "\n",
       "   V337  V338  V339  \n",
       "0   NaN   NaN   NaN  \n",
       "1   NaN   NaN   NaN  \n",
       "\n",
       "[2 rows x 394 columns]"
      ]
     },
     "execution_count": 5,
     "metadata": {},
     "output_type": "execute_result"
    }
   ],
   "source": [
    "test = pd.read_csv(TEST_DATASET_PATH)\n",
    "print('test.shape', test.shape)\n",
    "test.head(2)"
   ]
  },
  {
   "cell_type": "code",
   "execution_count": 6,
   "metadata": {},
   "outputs": [],
   "source": [
    "TARGET_NAME = 'isFraud'"
   ]
  },
  {
   "cell_type": "markdown",
   "metadata": {},
   "source": [
    "#### Обзор распределения целевой переменной"
   ]
  },
  {
   "cell_type": "code",
   "execution_count": 7,
   "metadata": {},
   "outputs": [
    {
     "data": {
      "text/plain": [
       "0    174859\n",
       "1      5141\n",
       "Name: isFraud, dtype: int64"
      ]
     },
     "execution_count": 7,
     "metadata": {},
     "output_type": "execute_result"
    }
   ],
   "source": [
    "train[TARGET_NAME].value_counts()"
   ]
  },
  {
   "cell_type": "markdown",
   "metadata": {},
   "source": [
    "#### Классификация признаков"
   ]
  },
  {
   "cell_type": "code",
   "execution_count": 8,
   "metadata": {},
   "outputs": [
    {
     "data": {
      "text/plain": [
       "['TransactionDT', 'TransactionAmt', 'ProductCD']"
      ]
     },
     "execution_count": 8,
     "metadata": {},
     "output_type": "execute_result"
    }
   ],
   "source": [
    "INDEPENDENT_VARIABLE_NAMES = train.columns.to_list()[2:]\n",
    "INDEPENDENT_VARIABLE_NAMES[:3]"
   ]
  },
  {
   "cell_type": "code",
   "execution_count": 9,
   "metadata": {},
   "outputs": [
    {
     "name": "stdout",
     "output_type": "stream",
     "text": [
      "count of numerical features 378\n",
      "count of categorical features 14\n"
     ]
    }
   ],
   "source": [
    "NUMERICAL_FEATURE_NAMES = train[INDEPENDENT_VARIABLE_NAMES].select_dtypes(include=[np.number]).columns.to_list()\n",
    "CATEGORICAL_FEATURE_NAMES = train[INDEPENDENT_VARIABLE_NAMES].select_dtypes(include=[np.object]).columns.to_list()\n",
    "\n",
    "print(f'count of numerical features {len(NUMERICAL_FEATURE_NAMES)}')\n",
    "print(f'count of categorical features {len(CATEGORICAL_FEATURE_NAMES)}')"
   ]
  },
  {
   "cell_type": "markdown",
   "metadata": {},
   "source": [
    "#### Распределение признаков для обучающей и тестовой выборки¶"
   ]
  },
  {
   "cell_type": "code",
   "execution_count": 10,
   "metadata": {},
   "outputs": [],
   "source": [
    "def plot_train_test_distributions(var_name):\n",
    "    sns.kdeplot(train[var_name], color=\"blue\", label=\"train\")\n",
    "    sns.kdeplot(test[var_name], color=\"green\", label=\"test\")\n",
    "    plt.title(var_name, fontsize=14)\n",
    "    plt.show()"
   ]
  },
  {
   "cell_type": "markdown",
   "metadata": {},
   "source": [
    "#### TransactionDT"
   ]
  },
  {
   "cell_type": "code",
   "execution_count": 11,
   "metadata": {},
   "outputs": [
    {
     "data": {
      "image/png": "[encoded data removed]",
      "text/plain": [
       "<Figure size 432x288 with 1 Axes>"
      ]
     },
     "metadata": {
      "needs_background": "light"
     },
     "output_type": "display_data"
    }
   ],
   "source": [
    "var_name = 'TransactionDT'\n",
    "plot_train_test_distributions(var_name)"
   ]
  },
  {
   "cell_type": "code",
   "execution_count": 12,
   "metadata": {},
   "outputs": [],
   "source": [
    "NUMERICAL_FEATURE_NAMES.remove('TransactionDT')"
   ]
  },
  {
   "cell_type": "markdown",
   "metadata": {},
   "source": [
    "#### Обработка категориальных признаков"
   ]
  },
  {
   "cell_type": "code",
   "execution_count": 13,
   "metadata": {},
   "outputs": [],
   "source": [
    "class FeatureGenerator:\n",
    "    def __init__(self, CATEGORICAL_FEATURE_NAMES):\n",
    "        self.CATEGORICAL_FEATURE_NAMES = CATEGORICAL_FEATURE_NAMES\n",
    "        self.NEW_CATEGORICAL_FEATURE_NAMES = []\n",
    "        self.LGB_CATEGORICAL_FEATURE_NAMES = []\n",
    "        self.target_encodings = dict()\n",
    "        self.ordinal_encoding = dict()\n",
    "        \n",
    "        \n",
    "    def fit(self, train):\n",
    "        df = train.copy()\n",
    "        for feature in self.CATEGORICAL_FEATURE_NAMES: \n",
    "            new_feature = feature + '_'\n",
    "            lgb_feature = feature + 'lgb'\n",
    "            self.NEW_CATEGORICAL_FEATURE_NAMES.append(new_feature)\n",
    "            self.LGB_CATEGORICAL_FEATURE_NAMES.append(lgb_feature)            \n",
    "            self.target_encodings[feature] = {}\n",
    "            self.ordinal_encoding[feature] = {}\n",
    "            for ind, level in enumerate(df[feature].unique()):\n",
    "                level_value = df.loc[df[feature]==level, TARGET_NAME].mean()\n",
    "                self.target_encodings[feature][level] = level_value\n",
    "                self.ordinal_encoding[feature][level] = ind\n",
    "                \n",
    "    def transform(self, df):\n",
    "        for feature in self.CATEGORICAL_FEATURE_NAMES: \n",
    "            for level in self.target_encodings[feature].keys():\n",
    "                new_feature = feature + '_'\n",
    "                lgb_feature = feature + 'lgb'\n",
    "                df.loc[df[feature] == level, new_feature] = self.target_encodings[feature][level]\n",
    "                df.loc[df[feature] == level, lgb_feature] = self.ordinal_encoding[feature][level]\n",
    "                \n",
    "        df[CATEGORICAL_FEATURE_NAMES] = df[CATEGORICAL_FEATURE_NAMES].astype(str)  \n",
    "        \n",
    "        return df"
   ]
  },
  {
   "cell_type": "markdown",
   "metadata": {},
   "source": [
    "#### Tain_test_split"
   ]
  },
  {
   "cell_type": "code",
   "execution_count": 14,
   "metadata": {},
   "outputs": [],
   "source": [
    "def train_test_split_ind(df, w=None, k_fold=5):\n",
    "    ind_0 = list(df.loc[df[TARGET_NAME] == 0, SPLIT_FEATURE_NAME].values)\n",
    "    ind_1 = list(df.loc[df[TARGET_NAME] == 1, SPLIT_FEATURE_NAME].values)\n",
    "\n",
    "\n",
    "    test_ind_1 = random.sample(ind_1, len(ind_1) // k_fold)\n",
    "    train_ind_1 = list(set(ind_1) - set(test_ind_1))\n",
    "\n",
    "    if w:\n",
    "        n_test = int(len(test_ind_1) / w)\n",
    "        n_train = int(len(train_ind_1) / w)\n",
    "\n",
    "        test_ind_0 = random.sample(ind_0, n_test)\n",
    "        pool_0 = set(ind_0) - set(test_ind_0)\n",
    "        train_ind_0 = random.sample(pool_0, n_train)\n",
    "\n",
    "    else:\n",
    "        test_ind_0 = random.sample(ind_0, len(ind_0) // k_fold)\n",
    "        train_ind_0 = list(set(ind_0) - set(test_ind_0))\n",
    "\n",
    "    train_ind = train_ind_0 + train_ind_1\n",
    "    test_ind = test_ind_0 + test_ind_1\n",
    "\n",
    "    random.shuffle(train_ind)\n",
    "    random.shuffle(test_ind)\n",
    "\n",
    "    return train_ind, test_ind"
   ]
  },
  {
   "cell_type": "code",
   "execution_count": 15,
   "metadata": {},
   "outputs": [],
   "source": [
    "def train_valid_split_sets(train_ind, w=None, n_sets=1):\n",
    "    train_valid_sets = {}\n",
    "    for i in range(n_sets):    \n",
    "        train_ind_subset, valid_ind_subset = train_test_split_ind(\n",
    "            train[train[SPLIT_FEATURE_NAME].isin(train_ind)], w)\n",
    "\n",
    "        train_valid_sets[i] = (train_ind_subset, valid_ind_subset) \n",
    "        \n",
    "    return train_valid_sets"
   ]
  },
  {
   "cell_type": "markdown",
   "metadata": {},
   "source": [
    "### Задание 1.\n",
    "Сделать Hold-Out валидацию с разбиением, размер которого будет адеквтаным, по вашему мнению; разбиение проводить по id-транзакции (TransactionID), обучать модель градиетного бустинга любой реализации с подбором числа деревьев по early_stopping критерию до достижения сходимости. Оценить качество модели на валидационной выборке, оценить расхождение по сравнению с качеством на обучающей выборке и валидационной выборке. Оценить качество на ЛБ, сравнить с качеством на обучении и валидации. Сделать выводы."
   ]
  },
  {
   "cell_type": "code",
   "execution_count": 16,
   "metadata": {},
   "outputs": [],
   "source": [
    "SPLIT_FEATURE_NAME = 'TransactionID'"
   ]
  },
  {
   "cell_type": "code",
   "execution_count": 17,
   "metadata": {},
   "outputs": [],
   "source": [
    "def run_xgb(df_train, df_valid):\n",
    "    features = FeatureGenerator(CATEGORICAL_FEATURE_NAMES)\n",
    "    features.fit(df_train)\n",
    "    df_train = features.transform(df_train)\n",
    "    df_valid = features.transform(df_valid)\n",
    "\n",
    "    SELECTED_FEATURE_NAMES = NUMERICAL_FEATURE_NAMES + features.NEW_CATEGORICAL_FEATURE_NAMES\n",
    "\n",
    "    dtrain = xgb.DMatrix(data=df_train[SELECTED_FEATURE_NAMES], label=df_train[TARGET_NAME])\n",
    "    dvalid = xgb.DMatrix(data=df_valid[SELECTED_FEATURE_NAMES], label=df_valid[TARGET_NAME])                    \n",
    "\n",
    "    model_xgb = xgb.train(params=params_xgb,\n",
    "                          dtrain=dtrain,\n",
    "                          evals=[(dtrain, \"train\"), (dvalid, \"valid\")],\n",
    "                          num_boost_round=1000,\n",
    "                          early_stopping_rounds=50,  \n",
    "                          verbose_eval=False,\n",
    "                          maximize=True)\n",
    "    \n",
    "    train_auc = roc_auc_score(df_train[TARGET_NAME], model_xgb.predict(dtrain, ntree_limit=model_xgb.best_iteration))\n",
    "    valid_auc = roc_auc_score(df_valid[TARGET_NAME], model_xgb.predict(dvalid, ntree_limit=model_xgb.best_iteration))\n",
    "        \n",
    "    return  model_xgb, train_auc, valid_auc   "
   ]
  },
  {
   "cell_type": "code",
   "execution_count": 18,
   "metadata": {},
   "outputs": [],
   "source": [
    "params_xgb = {\"booster\": \"gbtree\", \n",
    "              \"objective\": \"binary:logistic\", \n",
    "              \"eval_metric\": \"auc\",\n",
    "              \"verbosity\": 0,\n",
    "              \"learning_rate\": 0.2, \n",
    "              \"n_estimators\": 1000, \n",
    "              \"reg_lambda\": 100, \n",
    "              \"max_depth\": 4, \n",
    "              \"gamma\": 10, \n",
    "              \"nthread\": 6, \n",
    "              \"seed\": 27}"
   ]
  },
  {
   "cell_type": "markdown",
   "metadata": {},
   "source": [
    "#### Обучение модели"
   ]
  },
  {
   "cell_type": "code",
   "execution_count": 19,
   "metadata": {},
   "outputs": [
    {
     "name": "stdout",
     "output_type": "stream",
     "text": [
      "ROC-AUC train: 0.9135, valid: 0.9159\n"
     ]
    }
   ],
   "source": [
    "train_ind, test_ind = train_test_split_ind(train)\n",
    "\n",
    "df_train = train[train[SPLIT_FEATURE_NAME].isin(train_ind)]\n",
    "df_valid = train[train[SPLIT_FEATURE_NAME].isin(test_ind)]\n",
    "\n",
    "model_xgb, train_auc, valid_auc = run_xgb(df_train, df_valid)\n",
    "\n",
    "print(f'ROC-AUC train: {round(train_auc, 4)}, valid: {round(valid_auc, 4)}')"
   ]
  },
  {
   "cell_type": "markdown",
   "metadata": {},
   "source": [
    "#### Прогноз на Leaderboard"
   ]
  },
  {
   "cell_type": "code",
   "execution_count": 20,
   "metadata": {},
   "outputs": [
    {
     "name": "stdout",
     "output_type": "stream",
     "text": [
      "ROC-AUC test: 0.8702\n"
     ]
    }
   ],
   "source": [
    "features = FeatureGenerator(CATEGORICAL_FEATURE_NAMES)\n",
    "features.fit(df_train)\n",
    "df_test = features.transform(test)\n",
    "\n",
    "SELECTED_FEATURE_NAMES = NUMERICAL_FEATURE_NAMES + features.NEW_CATEGORICAL_FEATURE_NAMES\n",
    "dtest = xgb.DMatrix(data=df_test[SELECTED_FEATURE_NAMES])\n",
    "\n",
    "n_iter = model_xgb.best_iteration + int(np.sqrt(model_xgb.best_iteration) // 4) + 1\n",
    "test_auc = roc_auc_score(df_test[TARGET_NAME], model_xgb.predict(dtest, ntree_limit=n_iter))\n",
    "print(f'ROC-AUC test: {round(test_auc, 4)}')"
   ]
  },
  {
   "cell_type": "markdown",
   "metadata": {},
   "source": [
    "#### Выводы:\n",
    "* На валидационной выборке результаты модели немного выше, чем на обучающей, поскольку число деревьев при обучении подбиралось по валидационной выборке.\n",
    "* Результаты модели на Leaderboard существено ниже, чем на валидации. В какой-то мере это может быть связано с переобучением модели, но большей частью - с неидентичностью распределения признаков на обучающей и тестовой выборке."
   ]
  },
  {
   "cell_type": "markdown",
   "metadata": {},
   "source": [
    "### Задание 2\n",
    "Сделать Hold-Out валидацию с разбиением на 3 выборки, разбиение проводить по id-транзакции (TransactionID), размер каждой выборки подобрать самостоятельно. Повторить процедуру из п.1. для каждой выборки."
   ]
  },
  {
   "cell_type": "code",
   "execution_count": 21,
   "metadata": {},
   "outputs": [],
   "source": [
    "def run_and_test_xgb(train_indices, valid_indices, test_ind):\n",
    "    df_train = train[train[SPLIT_FEATURE_NAME].isin(train_indices)]\n",
    "    df_valid = train[train[SPLIT_FEATURE_NAME].isin(valid_indices)]\n",
    "\n",
    "    model_xgb, train_auc, valid_auc = run_xgb(df_train, df_valid)\n",
    "\n",
    "    features = FeatureGenerator(CATEGORICAL_FEATURE_NAMES)\n",
    "    features.fit(df_train)\n",
    "\n",
    "    df_test = train[train[SPLIT_FEATURE_NAME].isin(test_ind)]\n",
    "    df_test = features.transform(df_test)\n",
    "\n",
    "    SELECTED_FEATURE_NAMES = NUMERICAL_FEATURE_NAMES + features.NEW_CATEGORICAL_FEATURE_NAMES\n",
    "    dtest = xgb.DMatrix(data=df_test[SELECTED_FEATURE_NAMES])\n",
    "\n",
    "    n_iter = model_xgb.best_iteration + int(np.sqrt(model_xgb.best_iteration) // 4) + 1\n",
    "    test_auc = roc_auc_score(df_test[TARGET_NAME], model_xgb.predict(dtest, ntree_limit=n_iter))\n",
    "    \n",
    "    return model_xgb, n_iter, train_auc, valid_auc, test_auc"
   ]
  },
  {
   "cell_type": "markdown",
   "metadata": {},
   "source": [
    "#### Обучение и тестирование модели"
   ]
  },
  {
   "cell_type": "code",
   "execution_count": 22,
   "metadata": {},
   "outputs": [
    {
     "name": "stdout",
     "output_type": "stream",
     "text": [
      "ROC-AUC train: 0.9105, valid: 0.9017, test: 0.9116\n"
     ]
    }
   ],
   "source": [
    "train_valid_sets = train_valid_split_sets(train_ind)\n",
    "train_indices = train_valid_sets[0][0]\n",
    "valid_indices = train_valid_sets[0][1]\n",
    "\n",
    "_, _, train_auc, valid_auc, test_auc = run_and_test_xgb(train_indices, valid_indices, test_ind)\n",
    "print(f'ROC-AUC train: {round(train_auc, 4)}, valid: {round(valid_auc, 4)}, test: {round(test_auc, 4)}')"
   ]
  },
  {
   "cell_type": "markdown",
   "metadata": {},
   "source": [
    "### Задание 3\n",
    "Построить доверительный интервал на данных из п.2 на основе бутстреп выборок, оценить качество модели на ЛБ относительно полученного доверительного интервала. Сделать выводы."
   ]
  },
  {
   "cell_type": "code",
   "execution_count": 23,
   "metadata": {},
   "outputs": [],
   "source": [
    "def calculate_confidence_interval(scores, conf_interval=0.95):\n",
    "    left_bound = np.percentile(scores, ((1 - conf_interval) / 2) * 100)\n",
    "    right_bound = np.percentile(scores, (conf_interval + ((1 - conf_interval) / 2)) * 100)\n",
    "\n",
    "    return left_bound, right_bound"
   ]
  },
  {
   "cell_type": "code",
   "execution_count": 24,
   "metadata": {},
   "outputs": [],
   "source": [
    "w = 0.2\n",
    "n_sets = 30\n",
    "train_ind, test_ind = train_test_split_ind(train, w)\n",
    "train_valid_sets = train_valid_split_sets(train_ind, w, n_sets)"
   ]
  },
  {
   "cell_type": "code",
   "execution_count": 25,
   "metadata": {},
   "outputs": [
    {
     "name": "stdout",
     "output_type": "stream",
     "text": [
      "0. ROC-AUC train: 0.9048, valid: 0.8991, test: 0.9009\n",
      "1. ROC-AUC train: 0.9069, valid: 0.8855, test: 0.8982\n",
      "2. ROC-AUC train: 0.9003, valid: 0.9082, test: 0.9003\n",
      "3. ROC-AUC train: 0.9079, valid: 0.8904, test: 0.9005\n",
      "4. ROC-AUC train: 0.9054, valid: 0.9032, test: 0.9021\n",
      "5. ROC-AUC train: 0.8996, valid: 0.8998, test: 0.8961\n",
      "6. ROC-AUC train: 0.9056, valid: 0.8986, test: 0.8999\n",
      "7. ROC-AUC train: 0.9069, valid: 0.8893, test: 0.8989\n",
      "8. ROC-AUC train: 0.9073, valid: 0.8853, test: 0.9004\n",
      "9. ROC-AUC train: 0.9038, valid: 0.8882, test: 0.897\n",
      "10. ROC-AUC train: 0.9044, valid: 0.8963, test: 0.8994\n",
      "11. ROC-AUC train: 0.9073, valid: 0.8946, test: 0.9012\n",
      "12. ROC-AUC train: 0.904, valid: 0.8933, test: 0.8983\n",
      "13. ROC-AUC train: 0.9056, valid: 0.8884, test: 0.8993\n",
      "14. ROC-AUC train: 0.9054, valid: 0.8856, test: 0.8995\n",
      "15. ROC-AUC train: 0.9087, valid: 0.8965, test: 0.9026\n",
      "16. ROC-AUC train: 0.905, valid: 0.9072, test: 0.9023\n",
      "17. ROC-AUC train: 0.9043, valid: 0.891, test: 0.9005\n",
      "18. ROC-AUC train: 0.9029, valid: 0.8992, test: 0.8981\n",
      "19. ROC-AUC train: 0.9087, valid: 0.8994, test: 0.9018\n",
      "20. ROC-AUC train: 0.9047, valid: 0.9003, test: 0.8999\n",
      "21. ROC-AUC train: 0.9044, valid: 0.8982, test: 0.8982\n",
      "22. ROC-AUC train: 0.9065, valid: 0.8947, test: 0.9011\n",
      "23. ROC-AUC train: 0.9006, valid: 0.8978, test: 0.8995\n",
      "24. ROC-AUC train: 0.9058, valid: 0.8866, test: 0.8993\n",
      "25. ROC-AUC train: 0.9055, valid: 0.8966, test: 0.9\n",
      "26. ROC-AUC train: 0.9032, valid: 0.8968, test: 0.8986\n",
      "27. ROC-AUC train: 0.9054, valid: 0.9048, test: 0.9013\n",
      "28. ROC-AUC train: 0.9081, valid: 0.8778, test: 0.8987\n",
      "29. ROC-AUC train: 0.9103, valid: 0.8866, test: 0.9023\n"
     ]
    }
   ],
   "source": [
    "auc_list = []\n",
    "n_iter_list = []\n",
    "for i in range(n_sets):    \n",
    "    train_indices = train_valid_sets[i][0]\n",
    "    valid_indices = train_valid_sets[i][1]\n",
    "    \n",
    "    model_xgb, n_iter, train_auc, valid_auc, test_auc = run_and_test_xgb(train_indices, valid_indices, test_ind)\n",
    "    print(f'{i}. ROC-AUC train: {round(train_auc, 4)}, valid: {round(valid_auc, 4)}, test: {round(test_auc, 4)}')\n",
    "    \n",
    "    auc_list.append((train_auc, valid_auc, test_auc))\n",
    "    n_iter_list.append(n_iter)"
   ]
  },
  {
   "cell_type": "code",
   "execution_count": 26,
   "metadata": {},
   "outputs": [
    {
     "data": {
      "text/plain": [
       "array([0.90531178, 0.89463856, 0.89987066])"
      ]
     },
     "execution_count": 26,
     "metadata": {},
     "output_type": "execute_result"
    }
   ],
   "source": [
    "np.array(auc_list).mean(axis=0)"
   ]
  },
  {
   "cell_type": "markdown",
   "metadata": {},
   "source": [
    "#### Доверительный интервал"
   ]
  },
  {
   "cell_type": "code",
   "execution_count": 27,
   "metadata": {},
   "outputs": [
    {
     "data": {
      "text/plain": [
       "(0.896761573320565, 0.9024162813782192)"
      ]
     },
     "execution_count": 27,
     "metadata": {},
     "output_type": "execute_result"
    }
   ],
   "source": [
    "scores = [i[2] for i in auc_list]\n",
    "calculate_confidence_interval(scores)"
   ]
  },
  {
   "cell_type": "markdown",
   "metadata": {},
   "source": [
    "#### Вывод\n",
    "* ROC-AUC модели на Leaderboard лежит существенно ниже нижней границы доверительного интервала отложенной выборки. Валидация неудачная. Основная проблема лежит в неидентичности распределения признаков на обучающей выборке и на Leaderboard."
   ]
  },
  {
   "cell_type": "markdown",
   "metadata": {},
   "source": [
    "### Задание 4.\n",
    "Bыполнить Adversarial Validation, подобрать объекты из обучающей выборки, которые сильно похожи на объекты из assignment_2_test.csv, и использовать их в качестве валидационного набора. Оценить качество модели на ЛБ, сделать выводы о полученных результатах."
   ]
  },
  {
   "cell_type": "code",
   "execution_count": 28,
   "metadata": {},
   "outputs": [],
   "source": [
    "X_adv = pd.concat([train, test], axis=0)\n",
    "y_adv = np.hstack((np.zeros(train.shape[0]), np.ones(test.shape[0])))"
   ]
  },
  {
   "cell_type": "code",
   "execution_count": 29,
   "metadata": {},
   "outputs": [
    {
     "data": {
      "text/plain": [
       "XGBClassifier(base_score=0.5, booster='gbtree', colsample_bylevel=1,\n",
       "              colsample_bynode=1, colsample_bytree=1, gamma=0, gpu_id=-1,\n",
       "              importance_type='gain', interaction_constraints='',\n",
       "              learning_rate=0.300000012, max_delta_step=0, max_depth=6,\n",
       "              min_child_weight=1, missing=nan, monotone_constraints='()',\n",
       "              n_estimators=50, n_jobs=0, num_parallel_tree=1, random_state=0,\n",
       "              reg_alpha=0, reg_lambda=1, scale_pos_weight=1, subsample=1,\n",
       "              tree_method='exact', validate_parameters=1, verbosity=None)"
      ]
     },
     "execution_count": 29,
     "metadata": {},
     "output_type": "execute_result"
    }
   ],
   "source": [
    "features = FeatureGenerator(CATEGORICAL_FEATURE_NAMES)\n",
    "features.fit(X_adv)\n",
    "X_adv = features.transform(X_adv)\n",
    "\n",
    "SELECTED_FEATURE_NAMES = NUMERICAL_FEATURE_NAMES + features.NEW_CATEGORICAL_FEATURE_NAMES\n",
    "\n",
    "model = xgb.XGBClassifier(n_estimators=50)\n",
    "model.fit(X_adv[SELECTED_FEATURE_NAMES], y_adv)"
   ]
  },
  {
   "cell_type": "code",
   "execution_count": 30,
   "metadata": {},
   "outputs": [
    {
     "name": "stdout",
     "output_type": "stream",
     "text": [
      "1.0\n"
     ]
    }
   ],
   "source": [
    "y_pred_adv = model.predict_proba(X_adv[SELECTED_FEATURE_NAMES])\n",
    "score = roc_auc_score(y_adv, y_pred_adv[:, 1])\n",
    "print(round(score, 4))"
   ]
  },
  {
   "cell_type": "markdown",
   "metadata": {},
   "source": [
    "Распределения обучающей выборки и тестовой совершенно разные: roc_auc_score = 1, в идеальном случае roc_auc_score = 0.5."
   ]
  },
  {
   "cell_type": "code",
   "execution_count": 31,
   "metadata": {},
   "outputs": [
    {
     "data": {
      "image/png": "[encoded data removed]",
      "text/plain": [
       "<Figure size 1440x360 with 1 Axes>"
      ]
     },
     "metadata": {
      "needs_background": "light"
     },
     "output_type": "display_data"
    }
   ],
   "source": [
    "importance = pd.DataFrame({'feature': X_adv[SELECTED_FEATURE_NAMES].columns,\n",
    "                           'adversarial_importance': model.feature_importances_})\n",
    "importance = importance.sort_values(by=\"adversarial_importance\", ascending=False)\n",
    "importance = importance.head(n=10)\n",
    "\n",
    "plt.figure(figsize=(20, 5))\n",
    "sns.barplot(x=importance[\"feature\"], y=importance[\"adversarial_importance\"], palette=\"viridis\")\n",
    "plt.title(\"Top Importance Features for Adversarial Validation (train vs test)\", size=14)\n",
    "plt.show()"
   ]
  },
  {
   "cell_type": "code",
   "execution_count": 32,
   "metadata": {},
   "outputs": [],
   "source": [
    "features = FeatureGenerator(CATEGORICAL_FEATURE_NAMES)\n",
    "features.fit(train)\n",
    "train_all = features.transform(train)"
   ]
  },
  {
   "cell_type": "code",
   "execution_count": 33,
   "metadata": {},
   "outputs": [
    {
     "data": {
      "text/plain": [
       "array([[9.9999726e-01, 2.7604669e-06],\n",
       "       [9.9999589e-01, 4.1250869e-06],\n",
       "       [9.9999106e-01, 8.9669084e-06],\n",
       "       ...,\n",
       "       [9.9999589e-01, 4.1250869e-06],\n",
       "       [9.9999589e-01, 4.1250869e-06],\n",
       "       [9.9999726e-01, 2.7604669e-06]], dtype=float32)"
      ]
     },
     "execution_count": 33,
     "metadata": {},
     "output_type": "execute_result"
    }
   ],
   "source": [
    "y_pred = model.predict_proba(train_all[SELECTED_FEATURE_NAMES])\n",
    "y_pred"
   ]
  },
  {
   "cell_type": "code",
   "execution_count": 34,
   "metadata": {},
   "outputs": [
    {
     "data": {
      "text/plain": [
       "(0.0, 0.1]    180000\n",
       "(0.1, 0.2]         0\n",
       "(0.2, 0.3]         0\n",
       "(0.3, 0.4]         0\n",
       "(0.4, 0.5]         0\n",
       "(0.5, 0.6]         0\n",
       "(0.6, 0.7]         0\n",
       "(0.7, 0.8]         0\n",
       "(0.8, 0.9]         0\n",
       "(0.9, 1.0]         0\n",
       "dtype: int64"
      ]
     },
     "execution_count": 34,
     "metadata": {},
     "output_type": "execute_result"
    }
   ],
   "source": [
    "pd.cut(y_pred[:, 1], bins=np.arange(0, 1.01, 0.1)).value_counts().sort_index()"
   ]
  },
  {
   "cell_type": "markdown",
   "metadata": {},
   "source": [
    "#### Вывод\n",
    "* Согласно результатам  Adversarial Validation, распределения обучающей выборки и Leaderboard абсолютно разные. Подобрать объекты из обучающей выборки, которые были бы сильно похожи на объекты из assignment_2_test.csv, чтобы использовать их в качестве валидационного набора, не представляется возможным. Сначала имеет смысл попробовать поработать с признаками."
   ]
  },
  {
   "cell_type": "markdown",
   "metadata": {},
   "source": [
    "### Задание 5.\n",
    "Сделать KFold / StratifiedKFold валидацию (на ваше усмотрение), оценить получаемые качество и разброс по метрике качества. Сделать выводы об устойчивости кросс-валидации, сходимости оценки на кросс-валидации и отложенном наборе данных; Оценить качество на ЛБ, сделать выводы."
   ]
  },
  {
   "cell_type": "code",
   "execution_count": 35,
   "metadata": {},
   "outputs": [],
   "source": [
    "skf = StratifiedKFold(random_state=42, shuffle=True)\n",
    "df = train[train[SPLIT_FEATURE_NAME].isin(train_ind)]\n",
    "auc_list = []\n",
    "for train_index, valid_index in skf.split(df, df[TARGET_NAME]):\n",
    "    df_train, df_valid = train.loc[train_index, :], train.loc[valid_index, :]    \n",
    "    model_xgb, train_auc, valid_auc = run_xgb(df_train, df_valid) \n",
    "    auc_list.append((train_auc, valid_auc)) "
   ]
  },
  {
   "cell_type": "code",
   "execution_count": 36,
   "metadata": {},
   "outputs": [
    {
     "data": {
      "text/plain": [
       "[(0.8781023196713265, 0.8925637680903946),\n",
       " (0.8874774926148636, 0.8404647275900576),\n",
       " (0.888368586100706, 0.8730476874480033),\n",
       " (0.8869083722000293, 0.8581352242725195),\n",
       " (0.8824835995576517, 0.8762721997912755)]"
      ]
     },
     "execution_count": 36,
     "metadata": {},
     "output_type": "execute_result"
    }
   ],
   "source": [
    "auc_list"
   ]
  },
  {
   "cell_type": "markdown",
   "metadata": {},
   "source": [
    "#### Доверительный интервал"
   ]
  },
  {
   "cell_type": "code",
   "execution_count": 37,
   "metadata": {},
   "outputs": [
    {
     "data": {
      "text/plain": [
       "(0.8422317772583039, 0.8909346112604827)"
      ]
     },
     "execution_count": 37,
     "metadata": {},
     "output_type": "execute_result"
    }
   ],
   "source": [
    "scores = [i[1] for i in auc_list]\n",
    "calculate_confidence_interval(scores)"
   ]
  },
  {
   "cell_type": "markdown",
   "metadata": {},
   "source": [
    "#### Вывод\n",
    "* Разброс ROC-AUC на валидацонной выборке достаточно большой. Результат на отложенной выборке (задание 3) немного выше верхней границы доверительного интервала на валидацонной выборке. На это мог повлиять фактор случайности при отборе объектов для отложенной выборки. \n",
    "* Результат на ЛБ находится внутри доверительного интервала на на валидацонной выборке."
   ]
  }
 ],
 "metadata": {
  "kernelspec": {
   "display_name": "Python 3",
   "language": "python",
   "name": "python3"
  },
  "language_info": {
   "codemirror_mode": {
    "name": "ipython",
    "version": 3
   },
   "file_extension": ".py",
   "mimetype": "text/x-python",
   "name": "python",
   "nbconvert_exporter": "python",
   "pygments_lexer": "ipython3",
   "version": "3.8.2"
  }
 },
 "nbformat": 4,
 "nbformat_minor": 4
}
