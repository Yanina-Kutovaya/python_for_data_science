{
 "cells": [
  {
   "cell_type": "code",
   "execution_count": 1,
   "metadata": {},
   "outputs": [],
   "source": [
    "import pandas as pd\n",
    "import numpy as np"
   ]
  },
  {
   "cell_type": "markdown",
   "metadata": {},
   "source": [
    "### **Задание на повторение материала numpy"
   ]
  },
  {
   "cell_type": "markdown",
   "metadata": {},
   "source": [
    "1. Создать одномерный массив Numpy под названием a из 12 последовательных целых чисел чисел от 12 до 24 невключительно"
   ]
  },
  {
   "cell_type": "code",
   "execution_count": 108,
   "metadata": {},
   "outputs": [],
   "source": [
    "a = np.arange(12, 24)"
   ]
  },
  {
   "cell_type": "markdown",
   "metadata": {},
   "source": [
    "2. Создать 5 двумерных массивов разной формы из массива a. Не использовать в аргументах метода reshape число -1."
   ]
  },
  {
   "cell_type": "code",
   "execution_count": 646,
   "metadata": {},
   "outputs": [
    {
     "name": "stdout",
     "output_type": "stream",
     "text": [
      "[21 23 17 22 19 13 15 20 12 14 16 18]\n",
      "[[19 23 14 21]\n",
      " [13 18 20 22]\n",
      " [16 15 12 17]]\n",
      "[[18 12 22 20]\n",
      " [16 15 14 19]\n",
      " [23 21 17 13]]\n",
      "[[20 17 14 21]\n",
      " [22 16 13 15]\n",
      " [23 19 12 18]]\n",
      "[[23 12]\n",
      " [13 18]\n",
      " [21 19]\n",
      " [14 22]\n",
      " [20 15]\n",
      " [17 16]]\n"
     ]
    },
    {
     "data": {
      "text/plain": [
       "array([23, 12, 13, 18, 21, 19, 14, 22, 20, 15, 17, 16])"
      ]
     },
     "execution_count": 646,
     "metadata": {},
     "output_type": "execute_result"
    }
   ],
   "source": [
    "admissible_dimensions = np.array([2, 3, 4, 6])\n",
    "dim_1 = np.random.choice(admissible_dimensions, 5)\n",
    "dim_2 = (12 / dim_1).astype(int)\n",
    "dimensions  = np.vstack([dim_1, dim_2]).T\n",
    "\n",
    "df = {}\n",
    "n = 0\n",
    "for x, y in dimensions:\n",
    "    np.random.shuffle(a)\n",
    "    df[n] = a[: y]\n",
    "    for i in range(1, x):\n",
    "        df[n] = np.vstack((df[n], a[i * y : (i + 1) * y]))  \n",
    "    print(df[n])\n",
    "    n += 1\n",
    "df[0]"
   ]
  },
  {
   "cell_type": "markdown",
   "metadata": {},
   "source": [
    "3. Создать 5 двумерных массивов разной формы из массива a. \n",
    "Использовать в аргументах метода reshape число -1 (в трех примерах - для обозначения числа столбцов, в двух - для строк)."
   ]
  },
  {
   "cell_type": "code",
   "execution_count": 650,
   "metadata": {},
   "outputs": [
    {
     "name": "stdout",
     "output_type": "stream",
     "text": [
      "[[23 12 13]\n",
      " [18 21 19]\n",
      " [14 22 20]\n",
      " [15 17 16]]\n",
      "[[23 12 13]\n",
      " [18 21 19]\n",
      " [14 22 20]\n",
      " [15 17 16]]\n",
      "[[23 12 13 18]\n",
      " [21 19 14 22]\n",
      " [20 15 17 16]]\n",
      "[[23 12 13 18 21 19]\n",
      " [14 22 20 15 17 16]]\n",
      "[[23 12]\n",
      " [13 18]\n",
      " [21 19]\n",
      " [14 22]\n",
      " [20 15]\n",
      " [17 16]]\n"
     ]
    },
    {
     "data": {
      "text/plain": [
       "array([[23, 12, 13],\n",
       "       [18, 21, 19],\n",
       "       [14, 22, 20],\n",
       "       [15, 17, 16]])"
      ]
     },
     "execution_count": 650,
     "metadata": {},
     "output_type": "execute_result"
    }
   ],
   "source": [
    "admissible_dimensions = np.array([2, 3, 4, 6])\n",
    "dim_1 = np.concatenate([np.random.choice(admissible_dimensions, 3), [-1] * 2])\n",
    "dim_2 = np.concatenate([[-1] * 3, np.random.choice(admissible_dimensions, 2)])\n",
    "dimensions  = np.vstack([dim_1, dim_2]).T\n",
    "\n",
    "df={}\n",
    "for i in range(5):\n",
    "    df[i] = a.reshape(dimensions[i])\n",
    "    print(df[i])\n",
    "    \n",
    "df[0]"
   ]
  },
  {
   "cell_type": "markdown",
   "metadata": {},
   "source": [
    "4. Можно ли массив Numpy, состоящий из одного столбца и 12 строк, назвать одномерным?"
   ]
  },
  {
   "cell_type": "markdown",
   "metadata": {},
   "source": [
    "Можно, если не задавать размерность принудительно через reshape, в этом случае вторая размерность равна 1, например:"
   ]
  },
  {
   "cell_type": "code",
   "execution_count": 653,
   "metadata": {},
   "outputs": [
    {
     "name": "stdout",
     "output_type": "stream",
     "text": [
      "(12,)\n"
     ]
    },
    {
     "data": {
      "text/plain": [
       "(12, 1)"
      ]
     },
     "execution_count": 653,
     "metadata": {},
     "output_type": "execute_result"
    }
   ],
   "source": [
    "print(a.shape)\n",
    "a.reshape(12, 1).shape"
   ]
  },
  {
   "cell_type": "markdown",
   "metadata": {},
   "source": [
    "5. Создать массив из 3 строк и 4 столбцов, состоящий из случайных чисел с плавающей запятой из нормального распределения со средним, равным 0 и среднеквадратичным отклонением, равным 1.0. Получить из этого массива одномерный массив с таким же атрибутом size, как и исходный массив.\n"
   ]
  },
  {
   "cell_type": "code",
   "execution_count": 663,
   "metadata": {},
   "outputs": [
    {
     "name": "stdout",
     "output_type": "stream",
     "text": [
      "[[-0.34866442  1.99017451 -0.61192248 -0.28587983]\n",
      " [-0.50056782 -0.544606    0.33637325 -0.71108428]\n",
      " [-1.00452935  1.10552628  1.40884278 -1.09760245]]\n"
     ]
    },
    {
     "data": {
      "text/plain": [
       "array([-0.34866442,  1.99017451, -0.61192248, -0.28587983, -0.50056782,\n",
       "       -0.544606  ,  0.33637325, -0.71108428, -1.00452935,  1.10552628,\n",
       "        1.40884278, -1.09760245])"
      ]
     },
     "execution_count": 663,
     "metadata": {},
     "output_type": "execute_result"
    }
   ],
   "source": [
    "A = np.random.randn(3,4)\n",
    "print(A)\n",
    "A.flatten()"
   ]
  },
  {
   "cell_type": "markdown",
   "metadata": {},
   "source": [
    "6. Создать массив a, состоящий из целых чисел, убывающих от 20 до 0 невключительно с интервалом 2."
   ]
  },
  {
   "cell_type": "code",
   "execution_count": 666,
   "metadata": {},
   "outputs": [
    {
     "data": {
      "text/plain": [
       "array([20, 18, 16, 14, 12, 10,  8,  6,  4,  2])"
      ]
     },
     "execution_count": 666,
     "metadata": {},
     "output_type": "execute_result"
    }
   ],
   "source": [
    "a = np.arange(20,0,-2)\n",
    "a"
   ]
  },
  {
   "cell_type": "markdown",
   "metadata": {},
   "source": [
    "7. Создать массив b, состоящий из 1 строки и 10 столбцов: целых чисел, убывающих от 20 до 1 невключительно с интервалом 2. В чем разница между массивами a и b?"
   ]
  },
  {
   "cell_type": "markdown",
   "metadata": {},
   "source": [
    "Разница в размерности:"
   ]
  },
  {
   "cell_type": "code",
   "execution_count": 674,
   "metadata": {},
   "outputs": [
    {
     "name": "stdout",
     "output_type": "stream",
     "text": [
      "a.shape:  (10,)\n",
      "b.shape:  (1, 10)\n"
     ]
    },
    {
     "data": {
      "text/plain": [
       "array([[20, 18, 16, 14, 12, 10,  8,  6,  4,  2]])"
      ]
     },
     "execution_count": 674,
     "metadata": {},
     "output_type": "execute_result"
    }
   ],
   "source": [
    "b = np.reshape(a, (1,10))\n",
    "print('a.shape: ', a.shape)\n",
    "print('b.shape: ', b.shape)\n",
    "b"
   ]
  },
  {
   "cell_type": "markdown",
   "metadata": {},
   "source": [
    "8. Вертикально соединить массивы a и b. a - двумерный массив из нулей, число строк которого больше 1 и на 1 меньше, чем число строк двумерного массива b, состоящего из единиц. Итоговый массив v должен иметь атрибут size, равный 10."
   ]
  },
  {
   "cell_type": "code",
   "execution_count": 686,
   "metadata": {},
   "outputs": [
    {
     "name": "stdout",
     "output_type": "stream",
     "text": [
      "c.size:  10\n"
     ]
    },
    {
     "data": {
      "text/plain": [
       "array([[0., 0.],\n",
       "       [0., 0.],\n",
       "       [0., 0.],\n",
       "       [1., 1.],\n",
       "       [1., 1.]])"
      ]
     },
     "execution_count": 686,
     "metadata": {},
     "output_type": "execute_result"
    }
   ],
   "source": [
    "a = np.zeros((3,2))\n",
    "b = np.ones((2,2))\n",
    "c = np.vstack((a,b))\n",
    "print('c.size: ', c.size)\n",
    "c"
   ]
  },
  {
   "cell_type": "markdown",
   "metadata": {},
   "source": [
    "9. Создать одномерный массив а, состоящий из последовательности целых чисел от 0 до 12. Поменять форму этого массива, чтобы получилась матрица A (двумерный массив Numpy), состоящая из 4 строк и 3 столбцов. Получить матрицу At путем транспонирования матрицы A. Получить матрицу B, умножив матрицу A на матрицу At с помощью матричного умножения. Какой размер имеет матрица B? Получится ли вычислить обратную матрицу для матрицы B и почему?"
   ]
  },
  {
   "cell_type": "code",
   "execution_count": 718,
   "metadata": {},
   "outputs": [
    {
     "name": "stdout",
     "output_type": "stream",
     "text": [
      "Размер матрицы B =  16\n",
      "Детерминант В =  0.0\n",
      "Обратную матрицу вычислить не получится, т.к. детерминант В = 0\n"
     ]
    }
   ],
   "source": [
    "a = np.arange(0,12)\n",
    "A = np.reshape(a, (4, 3))\n",
    "At = A.T\n",
    "B = np.dot(A,At)\n",
    "\n",
    "print('Размер матрицы B = ', B.size)\n",
    "print('Детерминант В = ', np.linalg.det(B))\n",
    "print('Обратную матрицу вычислить не получится, т.к. детерминант В = 0')"
   ]
  },
  {
   "cell_type": "markdown",
   "metadata": {},
   "source": [
    "10. Инициализируйте генератор случайных числе с помощью объекта seed, равного 42."
   ]
  },
  {
   "cell_type": "code",
   "execution_count": 708,
   "metadata": {},
   "outputs": [],
   "source": [
    "np.random.seed(42)"
   ]
  },
  {
   "cell_type": "markdown",
   "metadata": {},
   "source": [
    "11. Создайте одномерный массив c, составленный из последовательности 16-ти случайных равномерно распределенных целых чисел от 0 до 16 невключительно. "
   ]
  },
  {
   "cell_type": "code",
   "execution_count": 713,
   "metadata": {},
   "outputs": [
    {
     "data": {
      "text/plain": [
       "array([13, 14, 13,  2, 11,  6,  3, 15,  8,  2,  4,  2,  6,  4,  8,  6])"
      ]
     },
     "execution_count": 713,
     "metadata": {},
     "output_type": "execute_result"
    }
   ],
   "source": [
    "c = np.random.randint(0, 16, 16)\n",
    "c"
   ]
  },
  {
   "cell_type": "markdown",
   "metadata": {},
   "source": [
    "12. Поменяйте его форму так, чтобы получилась квадратная матрица C. Получите матрицу D, поэлементно прибавив матрицу B из предыдущего вопроса к матрице C, умноженной на 10. Вычислите определитель, ранг и обратную матрицу D_inv для D."
   ]
  },
  {
   "cell_type": "code",
   "execution_count": 757,
   "metadata": {},
   "outputs": [
    {
     "name": "stdout",
     "output_type": "stream",
     "text": [
      "Определитель D =  -185817199.99999955\n",
      "Ранг D =  4\n",
      "[[-3.95980566e-04  3.22897988e-06  2.37983351e-02 -1.51975167e-02]\n",
      " [ 9.07041975e-03  9.08613411e-03 -3.64048107e-02  1.52011762e-02]\n",
      " [-1.23852905e-03 -1.06993325e-02  1.67565758e-02 -2.52183329e-03]\n",
      " [-2.95946769e-03  4.56340963e-03 -3.27289401e-03  1.85623290e-03]]\n"
     ]
    }
   ],
   "source": [
    "C = c.reshape(4,4)\n",
    "D = B + C * 10\n",
    "print('Определитель D = ', np.linalg.det(D))\n",
    "print('Ранг D = ', np.linalg.matrix_rank(D))\n",
    "\n",
    "D_inv = np.linalg.inv(D)\n",
    "print(D_inv)"
   ]
  },
  {
   "cell_type": "markdown",
   "metadata": {},
   "source": [
    "13. Приравняйте к нулю отрицательные числа в матрице D_inv, а положительные - к единице. Убедитесь, что в матрице D_inv остались только нули и единицы. С помощью функции numpy.where, используя матрицу D_inv в качестве маски, а матрицы B и C - в качестве источников данных, получите матрицу E размером 4x4.  Элементы матрицы E, для которых соответствующий элемент матрицы D_inv равен 1, должны быть равны соответствующему элементу матрицы B, а элементы матрицы E, для которых соответствующий элемент матрицы D_inv равен 0, должны быть равны соответствующему элементу матрицы C."
   ]
  },
  {
   "cell_type": "code",
   "execution_count": 759,
   "metadata": {},
   "outputs": [
    {
     "data": {
      "text/plain": [
       "array([[0., 1., 1., 0.],\n",
       "       [1., 1., 0., 1.],\n",
       "       [0., 0., 1., 0.],\n",
       "       [0., 1., 0., 1.]])"
      ]
     },
     "execution_count": 759,
     "metadata": {},
     "output_type": "execute_result"
    }
   ],
   "source": [
    "D_inv[D_inv < 0] = 0\n",
    "D_inv[D_inv > 0] = 1\n",
    "D_inv"
   ]
  },
  {
   "cell_type": "code",
   "execution_count": 764,
   "metadata": {},
   "outputs": [
    {
     "data": {
      "text/plain": [
       "array([[ 13,  14,  23,   2],\n",
       "       [ 14,  50,   3, 122],\n",
       "       [  8,   2, 149,   2],\n",
       "       [  6, 122,   8, 302]])"
      ]
     },
     "execution_count": 764,
     "metadata": {},
     "output_type": "execute_result"
    }
   ],
   "source": [
    "E = np.where(D_inv, B, C)"
   ]
  }
 ],
 "metadata": {
  "kernelspec": {
   "display_name": "Python 3",
   "language": "python",
   "name": "python3"
  },
  "language_info": {
   "codemirror_mode": {
    "name": "ipython",
    "version": 3
   },
   "file_extension": ".py",
   "mimetype": "text/x-python",
   "name": "python",
   "nbconvert_exporter": "python",
   "pygments_lexer": "ipython3",
   "version": "3.7.3"
  }
 },
 "nbformat": 4,
 "nbformat_minor": 2
}
