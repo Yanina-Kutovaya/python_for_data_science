{
 "cells": [
  {
   "cell_type": "code",
   "execution_count": 1,
   "metadata": {},
   "outputs": [],
   "source": [
    "import pandas as pd\n",
    "import numpy as np"
   ]
  },
  {
   "cell_type": "markdown",
   "metadata": {},
   "source": [
    "### **Задание на повторение материала numpy"
   ]
  },
  {
   "cell_type": "markdown",
   "metadata": {},
   "source": [
    "Задание 1. Создать одномерный массив Numpy под названием a из 12 последовательных целых чисел чисел от 12 до 24 невключительно"
   ]
  },
  {
   "cell_type": "code",
   "execution_count": 2,
   "metadata": {},
   "outputs": [],
   "source": [
    "a = np.arange(12, 24)"
   ]
  },
  {
   "cell_type": "markdown",
   "metadata": {},
   "source": [
    "Задание 2. Создать 5 двумерных массивов разной формы из массива a. Не использовать в аргументах метода reshape число -1."
   ]
  },
  {
   "cell_type": "code",
   "execution_count": 3,
   "metadata": {},
   "outputs": [
    {
     "name": "stdout",
     "output_type": "stream",
     "text": [
      "[[17 23]\n",
      " [14 22]\n",
      " [20 18]\n",
      " [16 12]\n",
      " [13 15]\n",
      " [19 21]]\n",
      "[[21 19 17 14]\n",
      " [18 23 13 20]\n",
      " [15 22 12 16]]\n",
      "[[16 18 21 12]\n",
      " [19 22 23 13]\n",
      " [15 17 20 14]]\n",
      "[[14 19 23 21 18 13]\n",
      " [22 16 17 12 15 20]]\n",
      "[[21 20]\n",
      " [19 22]\n",
      " [23 18]\n",
      " [15 13]\n",
      " [17 16]\n",
      " [14 12]]\n"
     ]
    },
    {
     "data": {
      "text/plain": [
       "array([[17, 23],\n",
       "       [14, 22],\n",
       "       [20, 18],\n",
       "       [16, 12],\n",
       "       [13, 15],\n",
       "       [19, 21]])"
      ]
     },
     "execution_count": 3,
     "metadata": {},
     "output_type": "execute_result"
    }
   ],
   "source": [
    "admissible_dimensions = np.array([2, 3, 4, 6])\n",
    "dim_1 = np.random.choice(admissible_dimensions, 5)\n",
    "dim_2 = (12 / dim_1).astype(int)\n",
    "dimensions  = np.vstack([dim_1, dim_2]).T\n",
    "\n",
    "df = {}\n",
    "n = 0\n",
    "for x, y in dimensions:\n",
    "    np.random.shuffle(a)\n",
    "    df[n] = a[: y]\n",
    "    for i in range(1, x):\n",
    "        df[n] = np.vstack((df[n], a[i * y : (i + 1) * y]))  \n",
    "    print(df[n])\n",
    "    n += 1\n",
    "df[0]"
   ]
  },
  {
   "cell_type": "markdown",
   "metadata": {},
   "source": [
    "Задание 3. Создать 5 двумерных массивов разной формы из массива a. \n",
    "Использовать в аргументах метода reshape число -1 (в трех примерах - для обозначения числа столбцов, в двух - для строк)."
   ]
  },
  {
   "cell_type": "code",
   "execution_count": 4,
   "metadata": {},
   "outputs": [
    {
     "name": "stdout",
     "output_type": "stream",
     "text": [
      "[[21 20 19 22]\n",
      " [23 18 15 13]\n",
      " [17 16 14 12]]\n",
      "[[21 20]\n",
      " [19 22]\n",
      " [23 18]\n",
      " [15 13]\n",
      " [17 16]\n",
      " [14 12]]\n",
      "[[21 20 19 22]\n",
      " [23 18 15 13]\n",
      " [17 16 14 12]]\n",
      "[[21 20 19 22]\n",
      " [23 18 15 13]\n",
      " [17 16 14 12]]\n",
      "[[21 20 19 22 23 18]\n",
      " [15 13 17 16 14 12]]\n"
     ]
    },
    {
     "data": {
      "text/plain": [
       "array([[21, 20, 19, 22],\n",
       "       [23, 18, 15, 13],\n",
       "       [17, 16, 14, 12]])"
      ]
     },
     "execution_count": 4,
     "metadata": {},
     "output_type": "execute_result"
    }
   ],
   "source": [
    "admissible_dimensions = np.array([2, 3, 4, 6])\n",
    "dim_1 = np.concatenate([np.random.choice(admissible_dimensions, 3), [-1] * 2])\n",
    "dim_2 = np.concatenate([[-1] * 3, np.random.choice(admissible_dimensions, 2)])\n",
    "dimensions  = np.vstack([dim_1, dim_2]).T\n",
    "\n",
    "df={}\n",
    "for i in range(5):\n",
    "    df[i] = a.reshape(dimensions[i])\n",
    "    print(df[i])\n",
    "    \n",
    "df[0]"
   ]
  },
  {
   "cell_type": "markdown",
   "metadata": {},
   "source": [
    "Задание 4. Можно ли массив Numpy, состоящий из одного столбца и 12 строк, назвать одномерным?"
   ]
  },
  {
   "cell_type": "markdown",
   "metadata": {},
   "source": [
    "Можно, если не задавать размерность принудительно через reshape, в этом случае вторая размерность равна 1, например:"
   ]
  },
  {
   "cell_type": "code",
   "execution_count": 5,
   "metadata": {},
   "outputs": [
    {
     "name": "stdout",
     "output_type": "stream",
     "text": [
      "(12,)\n"
     ]
    },
    {
     "data": {
      "text/plain": [
       "(12, 1)"
      ]
     },
     "execution_count": 5,
     "metadata": {},
     "output_type": "execute_result"
    }
   ],
   "source": [
    "print(a.shape)\n",
    "a.reshape(12, 1).shape"
   ]
  },
  {
   "cell_type": "markdown",
   "metadata": {},
   "source": [
    "Задание 5. Создать массив из 3 строк и 4 столбцов, состоящий из случайных чисел с плавающей запятой из нормального распределения со средним, равным 0 и среднеквадратичным отклонением, равным 1.0. Получить из этого массива одномерный массив с таким же атрибутом size, как и исходный массив.\n"
   ]
  },
  {
   "cell_type": "code",
   "execution_count": 6,
   "metadata": {},
   "outputs": [
    {
     "name": "stdout",
     "output_type": "stream",
     "text": [
      "[[ 0.81002305  0.96821929  0.53083033 -0.03529203]\n",
      " [ 0.08439036  0.57002398  1.85287772 -1.37814554]\n",
      " [ 0.5702155  -0.22911853 -0.6066591  -2.70470274]]\n"
     ]
    },
    {
     "data": {
      "text/plain": [
       "array([ 0.81002305,  0.96821929,  0.53083033, -0.03529203,  0.08439036,\n",
       "        0.57002398,  1.85287772, -1.37814554,  0.5702155 , -0.22911853,\n",
       "       -0.6066591 , -2.70470274])"
      ]
     },
     "execution_count": 6,
     "metadata": {},
     "output_type": "execute_result"
    }
   ],
   "source": [
    "A = np.random.randn(3,4)\n",
    "print(A)\n",
    "A.flatten()"
   ]
  },
  {
   "cell_type": "markdown",
   "metadata": {},
   "source": [
    "Задание 6. Создать массив a, состоящий из целых чисел, убывающих от 20 до 0 невключительно с интервалом 2."
   ]
  },
  {
   "cell_type": "code",
   "execution_count": 7,
   "metadata": {},
   "outputs": [
    {
     "data": {
      "text/plain": [
       "array([20, 18, 16, 14, 12, 10,  8,  6,  4,  2])"
      ]
     },
     "execution_count": 7,
     "metadata": {},
     "output_type": "execute_result"
    }
   ],
   "source": [
    "a = np.arange(20,0,-2)\n",
    "a"
   ]
  },
  {
   "cell_type": "markdown",
   "metadata": {},
   "source": [
    "Задание 7. Создать массив b, состоящий из 1 строки и 10 столбцов: целых чисел, убывающих от 20 до 1 невключительно с интервалом 2. В чем разница между массивами a и b?"
   ]
  },
  {
   "cell_type": "markdown",
   "metadata": {},
   "source": [
    "Разница в размерности:"
   ]
  },
  {
   "cell_type": "code",
   "execution_count": 8,
   "metadata": {},
   "outputs": [
    {
     "name": "stdout",
     "output_type": "stream",
     "text": [
      "a.shape:  (10,)\n",
      "b.shape:  (1, 10)\n"
     ]
    },
    {
     "data": {
      "text/plain": [
       "array([[20, 18, 16, 14, 12, 10,  8,  6,  4,  2]])"
      ]
     },
     "execution_count": 8,
     "metadata": {},
     "output_type": "execute_result"
    }
   ],
   "source": [
    "b = np.reshape(a, (1,10))\n",
    "print('a.shape: ', a.shape)\n",
    "print('b.shape: ', b.shape)\n",
    "b"
   ]
  },
  {
   "cell_type": "markdown",
   "metadata": {},
   "source": [
    "Задание 8. Вертикально соединить массивы a и b. a - двумерный массив из нулей, число строк которого больше 1 и на 1 меньше, чем число строк двумерного массива b, состоящего из единиц. Итоговый массив v должен иметь атрибут size, равный 10."
   ]
  },
  {
   "cell_type": "code",
   "execution_count": 9,
   "metadata": {},
   "outputs": [
    {
     "name": "stdout",
     "output_type": "stream",
     "text": [
      "c.size:  10\n"
     ]
    },
    {
     "data": {
      "text/plain": [
       "array([[0., 0.],\n",
       "       [0., 0.],\n",
       "       [0., 0.],\n",
       "       [1., 1.],\n",
       "       [1., 1.]])"
      ]
     },
     "execution_count": 9,
     "metadata": {},
     "output_type": "execute_result"
    }
   ],
   "source": [
    "a = np.zeros((3,2))\n",
    "b = np.ones((2,2))\n",
    "c = np.vstack((a,b))\n",
    "print('c.size: ', c.size)\n",
    "c"
   ]
  },
  {
   "cell_type": "markdown",
   "metadata": {},
   "source": [
    "Задание 9. Создать одномерный массив а, состоящий из последовательности целых чисел от 0 до 12. Поменять форму этого массива, чтобы получилась матрица A (двумерный массив Numpy), состоящая из 4 строк и 3 столбцов. Получить матрицу At путем транспонирования матрицы A. Получить матрицу B, умножив матрицу A на матрицу At с помощью матричного умножения. Какой размер имеет матрица B? Получится ли вычислить обратную матрицу для матрицы B и почему?"
   ]
  },
  {
   "cell_type": "code",
   "execution_count": 10,
   "metadata": {},
   "outputs": [
    {
     "name": "stdout",
     "output_type": "stream",
     "text": [
      "Размер матрицы B =  16\n",
      "Детерминант В =  0.0\n",
      "Обратную матрицу вычислить не получится, т.к. детерминант В = 0\n"
     ]
    }
   ],
   "source": [
    "a = np.arange(0,12)\n",
    "A = np.reshape(a, (4, 3))\n",
    "At = A.T\n",
    "B = np.dot(A,At)\n",
    "\n",
    "print('Размер матрицы B = ', B.size)\n",
    "print('Детерминант В = ', np.linalg.det(B))\n",
    "print('Обратную матрицу вычислить не получится, т.к. детерминант В = 0')"
   ]
  },
  {
   "cell_type": "markdown",
   "metadata": {},
   "source": [
    "Задание 10. Инициализируйте генератор случайных числе с помощью объекта seed, равного 42."
   ]
  },
  {
   "cell_type": "code",
   "execution_count": 11,
   "metadata": {},
   "outputs": [],
   "source": [
    "np.random.seed(42)"
   ]
  },
  {
   "cell_type": "markdown",
   "metadata": {},
   "source": [
    "Задание 11. Создайте одномерный массив c, составленный из последовательности 16-ти случайных равномерно распределенных целых чисел от 0 до 16 невключительно. "
   ]
  },
  {
   "cell_type": "code",
   "execution_count": 12,
   "metadata": {},
   "outputs": [
    {
     "data": {
      "text/plain": [
       "array([ 6,  3, 12, 14, 10,  7, 12,  4,  6,  9,  2,  6, 10, 10,  7,  4])"
      ]
     },
     "execution_count": 12,
     "metadata": {},
     "output_type": "execute_result"
    }
   ],
   "source": [
    "c = np.random.randint(0, 16, 16)\n",
    "c"
   ]
  },
  {
   "cell_type": "markdown",
   "metadata": {},
   "source": [
    "Задание 12. Поменяйте его форму так, чтобы получилась квадратная матрица C. Получите матрицу D, поэлементно прибавив матрицу B из предыдущего вопроса к матрице C, умноженной на 10. Вычислите определитель, ранг и обратную матрицу D_inv для D."
   ]
  },
  {
   "cell_type": "code",
   "execution_count": 13,
   "metadata": {},
   "outputs": [
    {
     "name": "stdout",
     "output_type": "stream",
     "text": [
      "Определитель D =  -28511999.999999944\n",
      "Ранг D =  4\n",
      "[[ 0.00935396  0.04486532  0.05897517 -0.07286055]\n",
      " [-0.01503577 -0.00122896 -0.00192971  0.00967873]\n",
      " [-0.00356692 -0.01782828 -0.04152146  0.04326178]\n",
      " [ 0.00909091 -0.00181818  0.01272727 -0.01090909]]\n"
     ]
    }
   ],
   "source": [
    "C = c.reshape(4,4)\n",
    "D = B + C * 10\n",
    "print('Определитель D = ', np.linalg.det(D))\n",
    "print('Ранг D = ', np.linalg.matrix_rank(D))\n",
    "\n",
    "D_inv = np.linalg.inv(D)\n",
    "print(D_inv)"
   ]
  },
  {
   "cell_type": "markdown",
   "metadata": {},
   "source": [
    "Задание 13. Приравняйте к нулю отрицательные числа в матрице D_inv, а положительные - к единице. Убедитесь, что в матрице D_inv остались только нули и единицы. С помощью функции numpy.where, используя матрицу D_inv в качестве маски, а матрицы B и C - в качестве источников данных, получите матрицу E размером 4x4.  Элементы матрицы E, для которых соответствующий элемент матрицы D_inv равен 1, должны быть равны соответствующему элементу матрицы B, а элементы матрицы E, для которых соответствующий элемент матрицы D_inv равен 0, должны быть равны соответствующему элементу матрицы C."
   ]
  },
  {
   "cell_type": "code",
   "execution_count": 14,
   "metadata": {},
   "outputs": [
    {
     "data": {
      "text/plain": [
       "array([[1., 1., 1., 0.],\n",
       "       [0., 0., 0., 1.],\n",
       "       [0., 0., 0., 1.],\n",
       "       [1., 0., 1., 0.]])"
      ]
     },
     "execution_count": 14,
     "metadata": {},
     "output_type": "execute_result"
    }
   ],
   "source": [
    "D_inv[D_inv < 0] = 0\n",
    "D_inv[D_inv > 0] = 1\n",
    "D_inv"
   ]
  },
  {
   "cell_type": "code",
   "execution_count": 15,
   "metadata": {},
   "outputs": [],
   "source": [
    "E = np.where(D_inv, B, C)"
   ]
  }
 ],
 "metadata": {
  "kernelspec": {
   "display_name": "Python 3",
   "language": "python",
   "name": "python3"
  },
  "language_info": {
   "codemirror_mode": {
    "name": "ipython",
    "version": 3
   },
   "file_extension": ".py",
   "mimetype": "text/x-python",
   "name": "python",
   "nbconvert_exporter": "python",
   "pygments_lexer": "ipython3",
   "version": "3.7.3"
  }
 },
 "nbformat": 4,
 "nbformat_minor": 2
}
